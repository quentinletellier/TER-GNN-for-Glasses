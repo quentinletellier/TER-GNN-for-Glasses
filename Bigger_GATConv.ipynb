{
 "cells": [
  {
   "cell_type": "code",
   "execution_count": 11,
   "id": "4836c728-53bd-49c5-9954-80c134a955a1",
   "metadata": {
    "tags": []
   },
   "outputs": [],
   "source": [
    "import numpy as np # linear algebra\n",
    "import pandas as pd # data processing, CSV file I/O (e.g. pd.read_csv)\n",
    "import matplotlib.pyplot as plt\n",
    "import torch\n",
    "from torch import nn as nn\n",
    "from torch.nn import MSELoss\n",
    "import torch.nn.functional as F\n",
    "import torchmetrics\n",
    "from torchmetrics import MeanSquaredError,PearsonCorrCoef\n",
    "#!pip install torch-scatter torch-sparse torch-cluster torch-spline-conv torch-geometric --no-index --find-links=file:///torch-geometric\n",
    "from torch_geometric.loader import DataLoader\n",
    "from torch_geometric.data import Data,Dataset\n",
    "from torch_geometric.nn import GCNConv, GATConv,global_mean_pool\n",
    "from torch_geometric.nn.norm import BatchNorm\n",
    "from torch.optim.lr_scheduler import StepLR,ExponentialLR\n",
    "from torchmetrics import R2Score\n",
    "\n",
    "# Input data files are available in the read-only \"../input/\" directory\n",
    "# For example, running this (by clicking run or pressing Shift+Enter) will list all files under the input directory\n",
    "import matplotlib.pyplot as plt\n",
    "import os\n",
    "device=torch.device('cuda' if torch.cuda.is_available() else 'cpu')"
   ]
  },
  {
   "cell_type": "code",
   "execution_count": 12,
   "id": "406f774c-06bf-40ee-b665-8c3c21d23c15",
   "metadata": {
    "tags": []
   },
   "outputs": [],
   "source": [
    "dataset=[]\n",
    "for i in range(0,400):\n",
    "    dataset.append(torch.load(\"graphs/graph\"+str(i)+\".pt\"))\n",
    "    dataset[i].x=dataset[i].x.type(torch.float32)\n",
    "    dataset[i].edge_attr=dataset[i].edge_attr.type(torch.float32)"
   ]
  },
  {
   "cell_type": "code",
   "execution_count": 13,
   "id": "11e68a00-6337-4869-aeaf-6dd11c279f73",
   "metadata": {
    "tags": []
   },
   "outputs": [
    {
     "data": {
      "text/plain": [
       "Data(x=[4096, 1], edge_index=[2, 167710], edge_attr=[167710, 3], y=[4096, 1], pos=[4096, 3], e_pot=0, pair_pot=0, edge_targets=[167710, 1], delta_r_cage=[4096, 1])"
      ]
     },
     "execution_count": 13,
     "metadata": {},
     "output_type": "execute_result"
    }
   ],
   "source": [
    "dataset[0]"
   ]
  },
  {
   "cell_type": "code",
   "execution_count": 14,
   "id": "993a5f5c-faa3-4460-bc43-da7cd802fbf1",
   "metadata": {
    "tags": []
   },
   "outputs": [],
   "source": [
    "train_loader=DataLoader(dataset[:350],batch_size=10,shuffle=True)\n",
    "test_loader=DataLoader(dataset[350:],batch_size=10,shuffle=False)"
   ]
  },
  {
   "cell_type": "code",
   "execution_count": 15,
   "id": "9b870aeb-2e21-4ff4-a92e-86ef9a2ade4a",
   "metadata": {
    "tags": []
   },
   "outputs": [
    {
     "data": {
      "text/plain": [
       "device(type='cuda')"
      ]
     },
     "execution_count": 15,
     "metadata": {},
     "output_type": "execute_result"
    }
   ],
   "source": [
    "device"
   ]
  },
  {
   "cell_type": "code",
   "execution_count": 16,
   "id": "48af74d2-8f39-4d69-8e32-d7bd4f371380",
   "metadata": {
    "tags": []
   },
   "outputs": [],
   "source": [
    "pearson_correr=PearsonCorrCoef().to(device)\n",
    "r2_scorer=R2Score().to(device)"
   ]
  },
  {
   "cell_type": "code",
   "execution_count": 17,
   "id": "36e4392f-4818-4053-a037-053316b29a27",
   "metadata": {
    "tags": []
   },
   "outputs": [],
   "source": [
    "def evaluate():\n",
    "    model.eval()\n",
    "    outs=torch.empty(0).to(device)\n",
    "    ys=torch.empty(0).to(device)\n",
    "    for data in test_loader:\n",
    "        data=data.to(device)\n",
    "        out=model(data)\n",
    "        outs=torch.cat((outs,out.flatten()))\n",
    "        ys=torch.cat((ys,data.y.flatten()))\n",
    "        #data.cpu()\n",
    "    pearson=pearson_correr(outs,ys)\n",
    "    r2=r2_scorer(outs,ys)\n",
    "    return pearson.item(),r2.item()"
   ]
  },
  {
   "cell_type": "code",
   "execution_count": 18,
   "id": "f7c1d230-979c-4901-ac1d-75b645578834",
   "metadata": {
    "tags": []
   },
   "outputs": [],
   "source": [
    "class GATCONVModel(torch.nn.Module):\n",
    "    def __init__(self,hidden_dim=6,attention_heads=6,dropout_rate=0.0):\n",
    "        super(GATCONVModel,self).__init__()\n",
    "        torch.manual_seed(46)\n",
    "        self.encoder= nn.Sequential(\n",
    "            nn.Linear(3,16),\n",
    "            nn.ReLU(),\n",
    "            nn.Linear(16,16),\n",
    "            nn.ReLU()\n",
    "        )\n",
    "        self.conv1=GATConv(1,hidden_dim,heads=attention_heads,dropout=dropout_rate,edge_dim=16)\n",
    "        self.conv2=GATConv(hidden_dim*attention_heads,hidden_dim,heads=attention_heads,dropout=dropout_rate,edge_dim=16)\n",
    "        #self.conv3=GATConv(hidden_dim*attention_heads,hidden_dim,heads=attention_heads,dropout=dropout_rate,edge_dim=3)\n",
    "        self.lin=nn.Linear(hidden_dim*attention_heads,1)\n",
    "        \n",
    "    def forward(self,data):\n",
    "        x,edge_index,edge_attr=data.x,data.edge_index,data.edge_attr\n",
    "        edge_attr=self.encoder(edge_attr)\n",
    "        x=self.conv1(x,edge_index,edge_attr)\n",
    "        #print(x.shape,x)\n",
    "        x=self.conv2(x,edge_index,edge_attr)\n",
    "        #print(x.shape,x)\n",
    "        #x=self.conv3(x,edge_index,edge_attr)\n",
    "        x=self.lin(x)\n",
    "        #print(x.shape,x)\n",
    "        return x"
   ]
  },
  {
   "cell_type": "code",
   "execution_count": 19,
   "id": "a1dd890b-4945-4d7f-8a0a-4031b973b1ae",
   "metadata": {
    "tags": []
   },
   "outputs": [
    {
     "name": "stdout",
     "output_type": "stream",
     "text": [
      "epoch: 1 | loss: 0.11342755470957075  | pearson_corr: -0.1128758117556572  | r2_score: -0.02818167209625244\n",
      "epoch: 2 | loss: 0.09574131923062461  | pearson_corr: 0.30126363039016724  | r2_score: 0.05176818370819092\n",
      "epoch: 3 | loss: 0.08367049672773906  | pearson_corr: 0.37438833713531494  | r2_score: 0.13716107606887817\n",
      "epoch: 4 | loss: 0.0809024853365762  | pearson_corr: 0.40349525213241577  | r2_score: 0.16164332628250122\n",
      "epoch: 5 | loss: 0.07748470221246992  | pearson_corr: 0.4596940577030182  | r2_score: 0.19073206186294556\n",
      "epoch: 6 | loss: 0.07444366642407009  | pearson_corr: 0.48259562253952026  | r2_score: 0.23192989826202393\n",
      "epoch: 7 | loss: 0.07283639716250556  | pearson_corr: 0.4982045888900757  | r2_score: 0.24607008695602417\n",
      "epoch: 8 | loss: 0.0713831997343472  | pearson_corr: 0.5098007321357727  | r2_score: 0.2584807872772217\n",
      "epoch: 9 | loss: 0.07058365919760295  | pearson_corr: 0.5179438591003418  | r2_score: 0.2672581076622009\n",
      "epoch: 10 | loss: 0.06978941825883729  | pearson_corr: 0.524168074131012  | r2_score: 0.27323007583618164\n",
      "epoch: 11 | loss: 0.06917563495891435  | pearson_corr: 0.5393956303596497  | r2_score: 0.2891947031021118\n",
      "epoch: 12 | loss: 0.06673269921115467  | pearson_corr: 0.5605806112289429  | r2_score: 0.2995145320892334\n",
      "epoch: 13 | loss: 0.06521147287317684  | pearson_corr: 0.5645765662193298  | r2_score: 0.31848597526550293\n",
      "epoch: 14 | loss: 0.06475347663675035  | pearson_corr: 0.5666932463645935  | r2_score: 0.3207961916923523\n",
      "epoch: 15 | loss: 0.06475715743643896  | pearson_corr: 0.5669147372245789  | r2_score: 0.3013988137245178\n",
      "epoch: 16 | loss: 0.06465254915612084  | pearson_corr: 0.5687490105628967  | r2_score: 0.3225499987602234\n",
      "epoch: 17 | loss: 0.06495376431516238  | pearson_corr: 0.5698676705360413  | r2_score: 0.294482946395874\n",
      "epoch: 18 | loss: 0.06556563984070506  | pearson_corr: 0.5693075060844421  | r2_score: 0.28663361072540283\n",
      "epoch: 19 | loss: 0.06495012938976288  | pearson_corr: 0.5705281496047974  | r2_score: 0.3160553574562073\n",
      "epoch: 20 | loss: 0.06491678963814462  | pearson_corr: 0.5712682604789734  | r2_score: 0.32605278491973877\n",
      "epoch: 21 | loss: 0.06460542529821396  | pearson_corr: 0.5715355277061462  | r2_score: 0.3265148997306824\n",
      "epoch: 22 | loss: 0.06432224437594414  | pearson_corr: 0.5738770365715027  | r2_score: 0.32858169078826904\n",
      "epoch: 23 | loss: 0.06364078159843173  | pearson_corr: 0.5825569033622742  | r2_score: 0.33412206172943115\n",
      "epoch: 24 | loss: 0.062226493550198415  | pearson_corr: 0.5967854261398315  | r2_score: 0.33990925550460815\n",
      "epoch: 25 | loss: 0.06150566233055932  | pearson_corr: 0.6010990738868713  | r2_score: 0.3610494136810303\n",
      "epoch: 26 | loss: 0.06120688617229462  | pearson_corr: 0.6025083661079407  | r2_score: 0.36002475023269653\n",
      "epoch: 27 | loss: 0.06056882536837033  | pearson_corr: 0.6084024906158447  | r2_score: 0.3571135997772217\n",
      "epoch: 28 | loss: 0.060807500566755025  | pearson_corr: 0.6102256178855896  | r2_score: 0.36856329441070557\n",
      "epoch: 29 | loss: 0.05993439501949719  | pearson_corr: 0.6155558228492737  | r2_score: 0.3782278895378113\n",
      "epoch: 30 | loss: 0.059877101012638635  | pearson_corr: 0.6139181852340698  | r2_score: 0.3315887451171875\n",
      "epoch: 31 | loss: 0.059225503993885854  | pearson_corr: 0.6208071708679199  | r2_score: 0.38381779193878174\n",
      "epoch: 32 | loss: 0.05911776168005807  | pearson_corr: 0.6258863210678101  | r2_score: 0.3868442177772522\n",
      "epoch: 33 | loss: 0.058847965193646296  | pearson_corr: 0.627561092376709  | r2_score: 0.39342164993286133\n",
      "epoch: 34 | loss: 0.05799953384058816  | pearson_corr: 0.6292949914932251  | r2_score: 0.3837602734565735\n",
      "epoch: 35 | loss: 0.05778558126517704  | pearson_corr: 0.6248341798782349  | r2_score: 0.3875114917755127\n",
      "epoch: 36 | loss: 0.058281366101333075  | pearson_corr: 0.6303256750106812  | r2_score: 0.39680129289627075\n",
      "epoch: 37 | loss: 0.05759608138884817  | pearson_corr: 0.6301525831222534  | r2_score: 0.39430421590805054\n",
      "epoch: 38 | loss: 0.057206403144768304  | pearson_corr: 0.6354155540466309  | r2_score: 0.40274161100387573\n",
      "epoch: 39 | loss: 0.0567400906767164  | pearson_corr: 0.6369091868400574  | r2_score: 0.40562576055526733\n",
      "epoch: 40 | loss: 0.05714673442499978  | pearson_corr: 0.6350704431533813  | r2_score: 0.40239161252975464\n",
      "epoch: 41 | loss: 0.05747849941253662  | pearson_corr: 0.63814777135849  | r2_score: 0.4007290005683899\n",
      "epoch: 42 | loss: 0.05716681501695088  | pearson_corr: 0.6382972598075867  | r2_score: 0.40349680185317993\n",
      "epoch: 43 | loss: 0.05691186594111579  | pearson_corr: 0.6408413052558899  | r2_score: 0.4098976254463196\n",
      "epoch: 44 | loss: 0.05625659472176007  | pearson_corr: 0.639560341835022  | r2_score: 0.3997148275375366\n",
      "epoch: 45 | loss: 0.05684220375759261  | pearson_corr: 0.6412093639373779  | r2_score: 0.4046543836593628\n",
      "epoch: 46 | loss: 0.056484477754150116  | pearson_corr: 0.647213876247406  | r2_score: 0.41503918170928955\n",
      "epoch: 47 | loss: 0.05598362215927669  | pearson_corr: 0.6494637131690979  | r2_score: 0.4205947518348694\n",
      "epoch: 48 | loss: 0.055256194940635134  | pearson_corr: 0.6546145677566528  | r2_score: 0.4242103695869446\n",
      "epoch: 49 | loss: 0.05529730266758374  | pearson_corr: 0.653860330581665  | r2_score: 0.42440903186798096\n",
      "epoch: 50 | loss: 0.05477922750370843  | pearson_corr: 0.6546722650527954  | r2_score: 0.42118561267852783\n",
      "epoch: 51 | loss: 0.05446035606520516  | pearson_corr: 0.6570055484771729  | r2_score: 0.43164271116256714\n",
      "epoch: 52 | loss: 0.054055114090442655  | pearson_corr: 0.6586775183677673  | r2_score: 0.42959702014923096\n",
      "epoch: 53 | loss: 0.05422829719526427  | pearson_corr: 0.6582298874855042  | r2_score: 0.43120741844177246\n",
      "epoch: 54 | loss: 0.05494870564767292  | pearson_corr: 0.6575165390968323  | r2_score: 0.42252135276794434\n",
      "epoch: 55 | loss: 0.054218766412564685  | pearson_corr: 0.6593886613845825  | r2_score: 0.43349146842956543\n",
      "epoch: 56 | loss: 0.05423586272767612  | pearson_corr: 0.6586052179336548  | r2_score: 0.42490172386169434\n",
      "epoch: 57 | loss: 0.05514137670397758  | pearson_corr: 0.6584091186523438  | r2_score: 0.41988658905029297\n",
      "epoch: 58 | loss: 0.053930141031742096  | pearson_corr: 0.659756064414978  | r2_score: 0.42942607402801514\n",
      "epoch: 59 | loss: 0.05394667759537697  | pearson_corr: 0.660307765007019  | r2_score: 0.43584293127059937\n",
      "epoch: 60 | loss: 0.054384808029447285  | pearson_corr: 0.6606525778770447  | r2_score: 0.4337758421897888\n",
      "epoch: 61 | loss: 0.053868596255779264  | pearson_corr: 0.661020040512085  | r2_score: 0.43203026056289673\n",
      "epoch: 62 | loss: 0.053840365793023794  | pearson_corr: 0.6617863178253174  | r2_score: 0.4315252900123596\n",
      "epoch: 63 | loss: 0.054113996561084475  | pearson_corr: 0.6603479981422424  | r2_score: 0.4344257116317749\n",
      "epoch: 64 | loss: 0.05361466971891267  | pearson_corr: 0.6611340045928955  | r2_score: 0.4321655035018921\n",
      "epoch: 65 | loss: 0.05356994686382158  | pearson_corr: 0.6635582447052002  | r2_score: 0.4397597908973694\n",
      "epoch: 66 | loss: 0.05342595907194274  | pearson_corr: 0.6638172268867493  | r2_score: 0.4355589747428894\n",
      "epoch: 67 | loss: 0.053619437345436644  | pearson_corr: 0.6635443568229675  | r2_score: 0.43899816274642944\n",
      "epoch: 68 | loss: 0.05354192342076983  | pearson_corr: 0.6640292406082153  | r2_score: 0.4256528615951538\n",
      "epoch: 69 | loss: 0.05381989308765956  | pearson_corr: 0.6637515425682068  | r2_score: 0.4054301977157593\n",
      "epoch: 70 | loss: 0.054104355509792056  | pearson_corr: 0.6642683744430542  | r2_score: 0.42243218421936035\n",
      "epoch: 71 | loss: 0.05428055599331856  | pearson_corr: 0.6598483920097351  | r2_score: 0.3811817765235901\n",
      "epoch: 72 | loss: 0.05488694629498891  | pearson_corr: 0.6622479557991028  | r2_score: 0.4289706349372864\n",
      "epoch: 73 | loss: 0.05430189147591591  | pearson_corr: 0.6600343585014343  | r2_score: 0.4292975068092346\n",
      "epoch: 74 | loss: 0.053898424123014724  | pearson_corr: 0.662049412727356  | r2_score: 0.43738919496536255\n",
      "epoch: 75 | loss: 0.053370847340141025  | pearson_corr: 0.6624702215194702  | r2_score: 0.43876492977142334\n",
      "epoch: 76 | loss: 0.05338542376245771  | pearson_corr: 0.6655080318450928  | r2_score: 0.43954581022262573\n",
      "epoch: 77 | loss: 0.053414607580218994  | pearson_corr: 0.6658806204795837  | r2_score: 0.44119298458099365\n",
      "epoch: 78 | loss: 0.05338150230901582  | pearson_corr: 0.6657209992408752  | r2_score: 0.4390542507171631\n",
      "epoch: 79 | loss: 0.053547894635370796  | pearson_corr: 0.6665195822715759  | r2_score: 0.4334527850151062\n",
      "epoch: 80 | loss: 0.05335025425468173  | pearson_corr: 0.6662625074386597  | r2_score: 0.4411880373954773\n",
      "epoch: 81 | loss: 0.053868836803095684  | pearson_corr: 0.6662461161613464  | r2_score: 0.4419320821762085\n",
      "epoch: 82 | loss: 0.05335271911961692  | pearson_corr: 0.6676083207130432  | r2_score: 0.44525331258773804\n",
      "epoch: 83 | loss: 0.05290773585438728  | pearson_corr: 0.6688731908798218  | r2_score: 0.44607025384902954\n",
      "epoch: 84 | loss: 0.05356444216200284  | pearson_corr: 0.6676480770111084  | r2_score: 0.44562047719955444\n",
      "epoch: 85 | loss: 0.05468151686447007  | pearson_corr: 0.6674186587333679  | r2_score: 0.4452461004257202\n",
      "epoch: 86 | loss: 0.05278684688465936  | pearson_corr: 0.6690951585769653  | r2_score: 0.44266414642333984\n",
      "epoch: 87 | loss: 0.05269107488649232  | pearson_corr: 0.6700922250747681  | r2_score: 0.44898301362991333\n",
      "epoch: 88 | loss: 0.052886049555880686  | pearson_corr: 0.6696939468383789  | r2_score: 0.44103747606277466\n",
      "epoch: 89 | loss: 0.05307616123131343  | pearson_corr: 0.67189621925354  | r2_score: 0.44657444953918457\n",
      "epoch: 90 | loss: 0.052215945082051414  | pearson_corr: 0.6724541783332825  | r2_score: 0.42140644788742065\n",
      "epoch: 91 | loss: 0.05351292022636959  | pearson_corr: 0.6693729162216187  | r2_score: 0.446788489818573\n",
      "epoch: 92 | loss: 0.05291170477867126  | pearson_corr: 0.6735572814941406  | r2_score: 0.44945383071899414\n",
      "epoch: 93 | loss: 0.05372537246772221  | pearson_corr: 0.6699516773223877  | r2_score: 0.4466886520385742\n",
      "epoch: 94 | loss: 0.05319588982633182  | pearson_corr: 0.6740707159042358  | r2_score: 0.45267409086227417\n",
      "epoch: 95 | loss: 0.05188335520880563  | pearson_corr: 0.6767024397850037  | r2_score: 0.4501684308052063\n",
      "epoch: 96 | loss: 0.05211130380630493  | pearson_corr: 0.6795666217803955  | r2_score: 0.4572126269340515\n",
      "epoch: 97 | loss: 0.05186276680656842  | pearson_corr: 0.6799485683441162  | r2_score: 0.4618423581123352\n",
      "epoch: 98 | loss: 0.05113135991351945  | pearson_corr: 0.6830326318740845  | r2_score: 0.45558470487594604\n",
      "epoch: 99 | loss: 0.05158854637827192  | pearson_corr: 0.6818057298660278  | r2_score: 0.4557124376296997\n",
      "epoch: 100 | loss: 0.05118000933102199  | pearson_corr: 0.6809335350990295  | r2_score: 0.4630776643753052\n",
      "epoch: 101 | loss: 0.0511840680880206  | pearson_corr: 0.6846066117286682  | r2_score: 0.4661847949028015\n",
      "epoch: 102 | loss: 0.0511563095663275  | pearson_corr: 0.6861976981163025  | r2_score: 0.46754056215286255\n",
      "epoch: 103 | loss: 0.05177538629089083  | pearson_corr: 0.6735330820083618  | r2_score: 0.4528108835220337\n",
      "epoch: 104 | loss: 0.05176154055765697  | pearson_corr: 0.6814913153648376  | r2_score: 0.45882701873779297\n",
      "epoch: 105 | loss: 0.052021434264523644  | pearson_corr: 0.6830222010612488  | r2_score: 0.4633602499961853\n",
      "epoch: 106 | loss: 0.05110005544764655  | pearson_corr: 0.6830090284347534  | r2_score: 0.45054447650909424\n",
      "epoch: 107 | loss: 0.05125531767095838  | pearson_corr: 0.6868103742599487  | r2_score: 0.46424269676208496\n",
      "epoch: 108 | loss: 0.05078679642507008  | pearson_corr: 0.6857545971870422  | r2_score: 0.4649035334587097\n",
      "epoch: 109 | loss: 0.05144759863615036  | pearson_corr: 0.6828802824020386  | r2_score: 0.46205490827560425\n",
      "epoch: 110 | loss: 0.050806048193148205  | pearson_corr: 0.6867178678512573  | r2_score: 0.4661283493041992\n",
      "epoch: 111 | loss: 0.05099393789257322  | pearson_corr: 0.6861463785171509  | r2_score: 0.45726102590560913\n",
      "epoch: 112 | loss: 0.05074944964476994  | pearson_corr: 0.6866565346717834  | r2_score: 0.467033326625824\n",
      "epoch: 113 | loss: 0.05096357794744628  | pearson_corr: 0.6872966885566711  | r2_score: 0.47215157747268677\n",
      "epoch: 114 | loss: 0.05102095678448677  | pearson_corr: 0.6862586736679077  | r2_score: 0.4405580163002014\n",
      "epoch: 115 | loss: 0.05075401525412287  | pearson_corr: 0.6881041526794434  | r2_score: 0.4574565887451172\n",
      "epoch: 116 | loss: 0.051072108106953756  | pearson_corr: 0.6876780986785889  | r2_score: 0.47254329919815063\n",
      "epoch: 117 | loss: 0.05025752761534282  | pearson_corr: 0.6887306571006775  | r2_score: 0.4740784168243408\n",
      "epoch: 118 | loss: 0.0510663808456489  | pearson_corr: 0.6873663067817688  | r2_score: 0.4682755470275879\n",
      "epoch: 119 | loss: 0.05104541778564453  | pearson_corr: 0.6878420114517212  | r2_score: 0.47193020582199097\n",
      "epoch: 120 | loss: 0.050559202900954656  | pearson_corr: 0.6881280541419983  | r2_score: 0.47148972749710083\n",
      "epoch: 121 | loss: 0.051454677964959825  | pearson_corr: 0.6829938292503357  | r2_score: 0.4628855586051941\n",
      "epoch: 122 | loss: 0.050933080379452024  | pearson_corr: 0.6854351758956909  | r2_score: 0.46008622646331787\n",
      "epoch: 123 | loss: 0.05070481566446168  | pearson_corr: 0.6867420077323914  | r2_score: 0.46437549591064453\n",
      "epoch: 124 | loss: 0.050521233145679745  | pearson_corr: 0.6895580887794495  | r2_score: 0.47147059440612793\n",
      "epoch: 125 | loss: 0.05064839007599013  | pearson_corr: 0.6874779462814331  | r2_score: 0.4703456163406372\n",
      "epoch: 126 | loss: 0.05031186161296708  | pearson_corr: 0.6902022361755371  | r2_score: 0.466259241104126\n",
      "epoch: 127 | loss: 0.050626010660614285  | pearson_corr: 0.6892290115356445  | r2_score: 0.4744333028793335\n",
      "epoch: 128 | loss: 0.05003215851528304  | pearson_corr: 0.6893986463546753  | r2_score: 0.4747403860092163\n",
      "epoch: 129 | loss: 0.050744079372712546  | pearson_corr: 0.6874604821205139  | r2_score: 0.47174978256225586\n",
      "epoch: 130 | loss: 0.05030845808131354  | pearson_corr: 0.6894708275794983  | r2_score: 0.47533005475997925\n",
      "epoch: 131 | loss: 0.05063981882163456  | pearson_corr: 0.6887389421463013  | r2_score: 0.4661131501197815\n",
      "epoch: 132 | loss: 0.05149221058402743  | pearson_corr: 0.6885181665420532  | r2_score: 0.47273963689804077\n",
      "epoch: 133 | loss: 0.05006973285760198  | pearson_corr: 0.6910611391067505  | r2_score: 0.4772029519081116\n",
      "epoch: 134 | loss: 0.050532321844782145  | pearson_corr: 0.6887751221656799  | r2_score: 0.47021037340164185\n",
      "epoch: 135 | loss: 0.05094057438629014  | pearson_corr: 0.6896558403968811  | r2_score: 0.47432613372802734\n",
      "epoch: 136 | loss: 0.05023067221045494  | pearson_corr: 0.6910445690155029  | r2_score: 0.47211116552352905\n",
      "epoch: 137 | loss: 0.05070812776684761  | pearson_corr: 0.6893007159233093  | r2_score: 0.4714248776435852\n",
      "epoch: 138 | loss: 0.050903595771108354  | pearson_corr: 0.684850811958313  | r2_score: 0.46685361862182617\n",
      "epoch: 139 | loss: 0.051130531515393936  | pearson_corr: 0.6830345392227173  | r2_score: 0.466045618057251\n",
      "epoch: 140 | loss: 0.05046322335089956  | pearson_corr: 0.6908767223358154  | r2_score: 0.47317856550216675\n",
      "epoch: 141 | loss: 0.050313805043697354  | pearson_corr: 0.69138103723526  | r2_score: 0.4755815863609314\n",
      "epoch: 142 | loss: 0.04997070548789842  | pearson_corr: 0.6918713450431824  | r2_score: 0.47698092460632324\n",
      "epoch: 143 | loss: 0.05039863213896752  | pearson_corr: 0.6911228895187378  | r2_score: 0.471268892288208\n",
      "epoch: 144 | loss: 0.05049287932259696  | pearson_corr: 0.6883895993232727  | r2_score: 0.4733622074127197\n",
      "epoch: 145 | loss: 0.05024469909923417  | pearson_corr: 0.6917381882667542  | r2_score: 0.47583675384521484\n",
      "epoch: 146 | loss: 0.05016415693930217  | pearson_corr: 0.6919902563095093  | r2_score: 0.47632235288619995\n",
      "epoch: 147 | loss: 0.05040204407913344  | pearson_corr: 0.6907971501350403  | r2_score: 0.4761784076690674\n",
      "epoch: 148 | loss: 0.050175762070076804  | pearson_corr: 0.6913506984710693  | r2_score: 0.47771167755126953\n",
      "epoch: 149 | loss: 0.05020408396209989  | pearson_corr: 0.692162811756134  | r2_score: 0.4620395302772522\n"
     ]
    }
   ],
   "source": [
    "loss_fn=MSELoss()\n",
    "model=GATCONVModel().to(device)\n",
    "optimizer=torch.optim.Adam(model.parameters(),lr=0.01,weight_decay=5e-6)\n",
    "#scheduler = StepLR(optimizer,step_size=20, gamma=0.5)\n",
    "train_losses=[]\n",
    "test_losses=[]\n",
    "for epoch in range(150):\n",
    "    if epoch%1==0 and epoch!=0:\n",
    "        print(\"epoch:\",epoch,\"| loss:\",train_losses[-1],\" | pearson_corr:\",evaluate()[0],\" | r2_score:\",evaluate()[1])\n",
    "    batch_losses=[]\n",
    "    model.train()\n",
    "    for data in train_loader:\n",
    "        data=data.to(device)\n",
    "        optimizer.zero_grad()\n",
    "        out=model(data)\n",
    "        loss=loss_fn(out,data.y)\n",
    "        loss.backward()\n",
    "        optimizer.step()\n",
    "        batch_losses.append(loss.item())\n",
    "        #data.cpu()\n",
    "    train_losses.append(np.mean(batch_losses))\n",
    "    \n",
    "    model.eval()\n",
    "    batch_losses=[]\n",
    "    for data in test_loader:\n",
    "        data=data.to(device)\n",
    "        out=model(data)\n",
    "        loss=loss_fn(out,data.y)\n",
    "        batch_losses.append(loss.item())\n",
    "        #data.cpu()\n",
    "    test_losses.append(np.mean(batch_losses))\n",
    "    #scheduler.step()"
   ]
  },
  {
   "cell_type": "code",
   "execution_count": 26,
   "id": "e7de20f6-cb11-4094-83a4-aa80586e1347",
   "metadata": {
    "tags": []
   },
   "outputs": [
    {
     "data": {
      "image/png": "[encoded data removed]",
      "text/plain": [
       "<Figure size 640x480 with 1 Axes>"
      ]
     },
     "metadata": {},
     "output_type": "display_data"
    }
   ],
   "source": [
    "plt.plot(train_losses,color='blue')\n",
    "plt.plot(test_losses,color='red')\n",
    "plt.legend([\"training loss\",\"validation loss\"])\n",
    "plt.show()"
   ]
  },
  {
   "cell_type": "code",
   "execution_count": 25,
   "id": "5dcc3734-46cb-4c88-8c1e-9805673dfcdf",
   "metadata": {
    "tags": []
   },
   "outputs": [
    {
     "name": "stdout",
     "output_type": "stream",
     "text": [
      "Pearson_Corr= 0.6908356547355652 | R2_Score= 0.47014546394348145\n"
     ]
    }
   ],
   "source": [
    "final_results=evaluate()\n",
    "print(\"Pearson_Corr=\",final_results[0],\"| R2_Score=\",final_results[1])"
   ]
  }
 ],
 "metadata": {
  "kernelspec": {
   "display_name": "Python 3 (ipykernel)",
   "language": "python",
   "name": "python3"
  },
  "language_info": {
   "codemirror_mode": {
    "name": "ipython",
    "version": 3
   },
   "file_extension": ".py",
   "mimetype": "text/x-python",
   "name": "python",
   "nbconvert_exporter": "python",
   "pygments_lexer": "ipython3",
   "version": "3.10.10"
  }
 },
 "nbformat": 4,
 "nbformat_minor": 5
}
