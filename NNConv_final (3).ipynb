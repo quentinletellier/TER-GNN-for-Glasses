{
 "cells": [
  {
   "cell_type": "code",
   "execution_count": 1,
   "id": "a393eeca-7e57-4ed1-8064-f1b86c35e0d4",
   "metadata": {
    "tags": []
   },
   "outputs": [],
   "source": [
    "# pip install kaggle"
   ]
  },
  {
   "cell_type": "code",
   "execution_count": 2,
   "id": "7d56e218-6e6e-4b47-8c14-2c16d2374327",
   "metadata": {
    "tags": []
   },
   "outputs": [],
   "source": [
    "# !mv kaggle.json /root/.kaggle/kaggle.json"
   ]
  },
  {
   "cell_type": "code",
   "execution_count": 3,
   "id": "156da26a-8fec-4e95-9516-8e668767f39e",
   "metadata": {
    "tags": []
   },
   "outputs": [],
   "source": [
    "# !kaggle datasets download -d quentinletellier/bapst-data-static-structure-in-glasses"
   ]
  },
  {
   "cell_type": "code",
   "execution_count": 4,
   "id": "8e6ad197-cda4-4e22-846c-25e4ecbd6141",
   "metadata": {
    "tags": []
   },
   "outputs": [],
   "source": [
    "# !pip install pyg_lib torch_scatter torch_sparse torch_cluster torch_spline_conv -f https://data.pyg.org/whl/torch-2.0.0+cu117.html"
   ]
  },
  {
   "cell_type": "code",
   "execution_count": 5,
   "id": "167779d4-5a01-408b-8aee-4d0d3f6f918b",
   "metadata": {
    "tags": []
   },
   "outputs": [],
   "source": [
    "# !pip install torch_geometric"
   ]
  },
  {
   "cell_type": "code",
   "execution_count": 6,
   "id": "506d86b1-f073-4dad-bb06-e9b454df166b",
   "metadata": {
    "tags": []
   },
   "outputs": [],
   "source": [
    "# import zipfile\n",
    "# from zipfile import ZipFile"
   ]
  },
  {
   "cell_type": "code",
   "execution_count": 7,
   "id": "8e7d5732-2364-4fa6-9ed1-c0b77a5efa2b",
   "metadata": {
    "tags": []
   },
   "outputs": [],
   "source": [
    "# zip = ZipFile('bapst-data-static-structure-in-glasses.zip')\n",
    "# zip.extractall()"
   ]
  },
  {
   "cell_type": "code",
   "execution_count": 8,
   "id": "342ca4e8-11fb-4ac7-b889-56098e8fd5ad",
   "metadata": {
    "tags": []
   },
   "outputs": [],
   "source": [
    "# !pip install pandas matplotlib torchmetrics"
   ]
  },
  {
   "cell_type": "code",
   "execution_count": 9,
   "id": "4836c728-53bd-49c5-9954-80c134a955a1",
   "metadata": {
    "tags": []
   },
   "outputs": [],
   "source": [
    "import numpy as np # linear algebra\n",
    "import pandas as pd # data processing, CSV file I/O (e.g. pd.read_csv)\n",
    "import matplotlib.pyplot as plt\n",
    "import torch\n",
    "from torch import nn as nn\n",
    "from torch.nn import MSELoss\n",
    "import torch.nn.functional as F\n",
    "import torchmetrics\n",
    "from torchmetrics import MeanSquaredError,PearsonCorrCoef\n",
    "#!pip install torch-scatter torch-sparse torch-cluster torch-spline-conv torch-geometric --no-index --find-links=file:///torch-geometric\n",
    "from torch_geometric.loader import DataLoader\n",
    "from torch_geometric.data import Data,Dataset\n",
    "from torch_geometric.nn import GCNConv, GATConv,global_mean_pool,GATv2Conv, NNConv\n",
    "from torch_geometric.nn.norm import BatchNorm\n",
    "from torch.optim.lr_scheduler import StepLR,ExponentialLR\n",
    "from torchmetrics import R2Score\n",
    "\n",
    "# Input data files are available in the read-only \"../input/\" directory\n",
    "# For example, running this (by clicking run or pressing Shift+Enter) will list all files under the input directory\n",
    "import matplotlib.pyplot as plt\n",
    "import os\n",
    "device=torch.device('cuda' if torch.cuda.is_available() else 'cpu')"
   ]
  },
  {
   "cell_type": "code",
   "execution_count": 10,
   "id": "406f774c-06bf-40ee-b665-8c3c21d23c15",
   "metadata": {
    "tags": []
   },
   "outputs": [],
   "source": [
    "dataset=[]\n",
    "for i in range(0,400):\n",
    "    dataset.append(torch.load(\"graphs/graph\"+str(i)+\".pt\"))\n",
    "    dataset[i].x=dataset[i].x.type(torch.float32)\n",
    "    dataset[i].edge_attr=dataset[i].edge_attr.type(torch.float32)"
   ]
  },
  {
   "cell_type": "code",
   "execution_count": 11,
   "id": "11e68a00-6337-4869-aeaf-6dd11c279f73",
   "metadata": {
    "tags": []
   },
   "outputs": [
    {
     "data": {
      "text/plain": [
       "Data(x=[4096, 1], edge_index=[2, 167710], edge_attr=[167710, 3], y=[4096, 1], pos=[4096, 3], e_pot=0, pair_pot=0, edge_targets=[167710, 1], delta_r_cage=[4096, 1])"
      ]
     },
     "execution_count": 11,
     "metadata": {},
     "output_type": "execute_result"
    }
   ],
   "source": [
    "dataset[0]"
   ]
  },
  {
   "cell_type": "code",
   "execution_count": 12,
   "id": "993a5f5c-faa3-4460-bc43-da7cd802fbf1",
   "metadata": {
    "tags": []
   },
   "outputs": [],
   "source": [
    "train_loader=DataLoader(dataset[:350],batch_size=5,shuffle=True)\n",
    "test_loader=DataLoader(dataset[350:],batch_size=5,shuffle=False)"
   ]
  },
  {
   "cell_type": "code",
   "execution_count": 13,
   "id": "9b870aeb-2e21-4ff4-a92e-86ef9a2ade4a",
   "metadata": {
    "tags": []
   },
   "outputs": [
    {
     "data": {
      "text/plain": [
       "device(type='cuda')"
      ]
     },
     "execution_count": 13,
     "metadata": {},
     "output_type": "execute_result"
    }
   ],
   "source": [
    "device"
   ]
  },
  {
   "cell_type": "code",
   "execution_count": 14,
   "id": "48af74d2-8f39-4d69-8e32-d7bd4f371380",
   "metadata": {
    "tags": []
   },
   "outputs": [],
   "source": [
    "pearson_correr=PearsonCorrCoef().to(device)\n",
    "r2_scorer=R2Score().to(device)"
   ]
  },
  {
   "cell_type": "code",
   "execution_count": 15,
   "id": "d35377b5-de71-4eaa-8e0f-99675745624e",
   "metadata": {
    "tags": []
   },
   "outputs": [],
   "source": [
    "r2_scores=[]\n",
    "pearson_correlations=[]"
   ]
  },
  {
   "cell_type": "code",
   "execution_count": 16,
   "id": "36e4392f-4818-4053-a037-053316b29a27",
   "metadata": {
    "tags": []
   },
   "outputs": [],
   "source": [
    "def evaluate():\n",
    "    model.eval()\n",
    "    outs=torch.empty(0).to(device)\n",
    "    ys=torch.empty(0).to(device)\n",
    "    for data in test_loader:\n",
    "        data=data.to(device)\n",
    "        out=model(data)\n",
    "        outs=torch.cat((outs,out.flatten()))\n",
    "        ys=torch.cat((ys,data.y.flatten()))\n",
    "    pearson=pearson_correr(outs,ys)\n",
    "    r2=r2_scorer(outs,ys)\n",
    "    pearson_correlations.append(pearson.item())\n",
    "    r2_scores.append(r2.item())\n",
    "    return pearson.item(),r2.item()"
   ]
  },
  {
   "cell_type": "code",
   "execution_count": 17,
   "id": "f7c1d230-979c-4901-ac1d-75b645578834",
   "metadata": {
    "tags": []
   },
   "outputs": [],
   "source": [
    "class GATCONVModel(torch.nn.Module):\n",
    "    def __init__(self,hidden_dim_encode=14,hidden_dim_conv=7,attention_heads=4,dropout_rate=0.1):\n",
    "        super(GATCONVModel,self).__init__()\n",
    "        torch.manual_seed(46)\n",
    "        self.edge_encoder= nn.Sequential(\n",
    "            nn.Linear(3,hidden_dim_encode),\n",
    "            nn.ReLU(),\n",
    "            nn.Linear(hidden_dim_encode,hidden_dim_encode),\n",
    "            nn.ReLU(),\n",
    "            nn.Linear(hidden_dim_encode,hidden_dim_encode),\n",
    "            nn.ReLU()\n",
    "        )\n",
    "        \n",
    "        self.node_encoder= nn.Sequential(\n",
    "            nn.Linear(1,hidden_dim_encode),\n",
    "            nn.ReLU(),\n",
    "            nn.Linear(hidden_dim_encode,hidden_dim_encode),\n",
    "            nn.ReLU(),\n",
    "            nn.Linear(hidden_dim_encode,hidden_dim_encode),\n",
    "            nn.ReLU()\n",
    "        )\n",
    "        \n",
    "        self.convMLP= nn.Sequential(\n",
    "            nn.Linear(hidden_dim_encode,hidden_dim_encode**2),\n",
    "            nn.ReLU(),\n",
    "            nn.Linear(hidden_dim_encode**2,hidden_dim_encode**2),\n",
    "            nn.ReLU(),\n",
    "            nn.Linear(hidden_dim_encode**2,hidden_dim_encode**2),\n",
    "            nn.ReLU()\n",
    "        )\n",
    "        \n",
    "        self.conv1=NNConv(hidden_dim_encode,hidden_dim_encode,nn=self.convMLP)\n",
    "        \n",
    "        self.decoder=nn.Sequential(\n",
    "            nn.Linear(hidden_dim_encode,hidden_dim_encode),\n",
    "            nn.ReLU(),\n",
    "            nn.Linear(hidden_dim_encode,hidden_dim_encode),\n",
    "            nn.ReLU(),\n",
    "            nn.Linear(hidden_dim_encode,1)\n",
    "        )\n",
    "        \n",
    "    def forward(self,data):\n",
    "        x,edge_index,edge_attr=data.x,data.edge_index,data.edge_attr\n",
    "        edge_attr=self.edge_encoder(edge_attr)\n",
    "        x=self.node_encoder(x)\n",
    "        x=self.conv1(x,edge_index,edge_attr)\n",
    "        x=self.decoder(x)\n",
    "        return x"
   ]
  },
  {
   "cell_type": "code",
   "execution_count": 18,
   "id": "a1dd890b-4945-4d7f-8a0a-4031b973b1ae",
   "metadata": {
    "tags": []
   },
   "outputs": [
    {
     "name": "stdout",
     "output_type": "stream",
     "text": [
      "epoch: 1 | loss: 0.1381658533854144  | pearson_corr: 0.17933598160743713  | r2_score: 0.027571558952331543\n",
      "epoch: 2 | loss: 0.08992003202438355  | pearson_corr: 0.37109610438346863  | r2_score: 0.09460598230361938\n",
      "epoch: 3 | loss: 0.0776852298527956  | pearson_corr: 0.5162292122840881  | r2_score: 0.23115748167037964\n",
      "epoch: 4 | loss: 0.06539360119828157  | pearson_corr: 0.5961430072784424  | r2_score: 0.35088562965393066\n",
      "epoch: 5 | loss: 0.06134886166879109  | pearson_corr: 0.6031787395477295  | r2_score: 0.3626973628997803\n",
      "epoch: 6 | loss: 0.061101789133889334  | pearson_corr: 0.6050803661346436  | r2_score: 0.36330169439315796\n",
      "epoch: 7 | loss: 0.060089340380259926  | pearson_corr: 0.6106427907943726  | r2_score: 0.3727254867553711\n",
      "epoch: 8 | loss: 0.05993799684303147  | pearson_corr: 0.6142489910125732  | r2_score: 0.3767913579940796\n",
      "epoch: 9 | loss: 0.0591348620397704  | pearson_corr: 0.6191842555999756  | r2_score: 0.38255804777145386\n",
      "epoch: 10 | loss: 0.0587237893470696  | pearson_corr: 0.6233971118927002  | r2_score: 0.3871327042579651\n",
      "epoch: 11 | loss: 0.05803587755986622  | pearson_corr: 0.6235243678092957  | r2_score: 0.3885127305984497\n",
      "epoch: 12 | loss: 0.05803501451654094  | pearson_corr: 0.6238706111907959  | r2_score: 0.3888120651245117\n",
      "epoch: 13 | loss: 0.05795252344438008  | pearson_corr: 0.624282717704773  | r2_score: 0.3890751004219055\n",
      "epoch: 14 | loss: 0.057945819518395836  | pearson_corr: 0.6239644289016724  | r2_score: 0.3887965679168701\n",
      "epoch: 15 | loss: 0.0578924363212926  | pearson_corr: 0.6255438923835754  | r2_score: 0.39045363664627075\n",
      "epoch: 16 | loss: 0.05784892211002963  | pearson_corr: 0.6257312893867493  | r2_score: 0.3910256624221802\n",
      "epoch: 17 | loss: 0.057725154395614355  | pearson_corr: 0.6263059973716736  | r2_score: 0.39144909381866455\n",
      "epoch: 18 | loss: 0.05769526958465576  | pearson_corr: 0.6266056895256042  | r2_score: 0.39223456382751465\n",
      "epoch: 19 | loss: 0.05763928544308458  | pearson_corr: 0.6273778080940247  | r2_score: 0.3926289677619934\n",
      "epoch: 20 | loss: 0.057601921526449065  | pearson_corr: 0.627935528755188  | r2_score: 0.39283615350723267\n",
      "epoch: 21 | loss: 0.05750207081437111  | pearson_corr: 0.6275970339775085  | r2_score: 0.3936229944229126\n",
      "epoch: 22 | loss: 0.05749428043408053  | pearson_corr: 0.6276378035545349  | r2_score: 0.3936944603919983\n",
      "epoch: 23 | loss: 0.05749527859900679  | pearson_corr: 0.6277315616607666  | r2_score: 0.3937038779258728\n",
      "epoch: 24 | loss: 0.05748489158494132  | pearson_corr: 0.6278170347213745  | r2_score: 0.3936071991920471\n",
      "epoch: 25 | loss: 0.057476293189185006  | pearson_corr: 0.6278136968612671  | r2_score: 0.39384251832962036\n",
      "epoch: 26 | loss: 0.05747002921998501  | pearson_corr: 0.6278695464134216  | r2_score: 0.3938378691673279\n",
      "epoch: 27 | loss: 0.05747606690440859  | pearson_corr: 0.6278839707374573  | r2_score: 0.39394158124923706\n",
      "epoch: 28 | loss: 0.05746037092592035  | pearson_corr: 0.6279193162918091  | r2_score: 0.3940640687942505\n",
      "epoch: 29 | loss: 0.05745937531547887  | pearson_corr: 0.6279325485229492  | r2_score: 0.39412981271743774\n"
     ]
    }
   ],
   "source": [
    "loss_fn=MSELoss()\n",
    "model=GATCONVModel().to(device)\n",
    "optimizer=torch.optim.Adam(model.parameters(),lr=0.001,weight_decay=1e-4) #weight_decay=1e-5\n",
    "scheduler = StepLR(optimizer,step_size=10, gamma=0.1)\n",
    "train_losses=[]\n",
    "test_losses=[]\n",
    "for epoch in range(30):\n",
    "    if epoch%1==0 and epoch!=0:\n",
    "        pearson_print,r2_print=evaluate()\n",
    "        print(\"epoch:\",epoch,\"| loss:\",train_losses[-1],\" | pearson_corr:\",pearson_print,\" | r2_score:\",r2_print)\n",
    "    batch_losses=[]\n",
    "    model.train()\n",
    "    for data in train_loader:\n",
    "        data=data.to(device)\n",
    "        optimizer.zero_grad()\n",
    "        out=model(data)\n",
    "        loss=loss_fn(out,data.y)\n",
    "        loss.backward()\n",
    "        torch.nn.utils.clip_grad_norm_(model.parameters(),max_norm=1.0,foreach=True)\n",
    "        optimizer.step()\n",
    "        batch_losses.append(loss.item())\n",
    "    train_losses.append(np.mean(batch_losses))\n",
    "    \n",
    "    model.eval()\n",
    "    batch_losses=[]\n",
    "    for data in test_loader:\n",
    "        data=data.to(device)\n",
    "        out=model(data)\n",
    "        loss=loss_fn(out,data.y)\n",
    "        batch_losses.append(loss.item())\n",
    "    test_losses.append(np.mean(batch_losses))\n",
    "    scheduler.step()"
   ]
  },
  {
   "cell_type": "code",
   "execution_count": 19,
   "id": "e7de20f6-cb11-4094-83a4-aa80586e1347",
   "metadata": {
    "tags": []
   },
   "outputs": [
    {
     "data": {
      "image/png": "[encoded data removed]",
      "text/plain": [
       "<Figure size 640x480 with 1 Axes>"
      ]
     },
     "metadata": {},
     "output_type": "display_data"
    }
   ],
   "source": [
    "plt.plot(np.log(train_losses),color='blue')\n",
    "plt.plot(np.log(test_losses),color='red')\n",
    "plt.legend([\"training loss\",\"validation loss\"])\n",
    "plt.show()"
   ]
  },
  {
   "cell_type": "code",
   "execution_count": 20,
   "id": "86c5552b-9d87-4f74-a485-4f853956c421",
   "metadata": {
    "tags": []
   },
   "outputs": [
    {
     "data": {
      "image/png": "[encoded data removed]",
      "text/plain": [
       "<Figure size 640x480 with 1 Axes>"
      ]
     },
     "metadata": {},
     "output_type": "display_data"
    }
   ],
   "source": [
    "plt.plot(r2_scores)\n",
    "plt.legend([\"r2_score\"])\n",
    "plt.show()"
   ]
  },
  {
   "cell_type": "code",
   "execution_count": 21,
   "id": "f76deecb-54ea-4dad-8878-e3f4351589ba",
   "metadata": {
    "tags": []
   },
   "outputs": [
    {
     "data": {
      "image/png": "[encoded data removed]",
      "text/plain": [
       "<Figure size 640x480 with 1 Axes>"
      ]
     },
     "metadata": {},
     "output_type": "display_data"
    }
   ],
   "source": [
    "plt.plot(pearson_correlations)\n",
    "plt.legend([\"pearson_correlation\"])\n",
    "plt.show()"
   ]
  },
  {
   "cell_type": "code",
   "execution_count": 22,
   "id": "5dcc3734-46cb-4c88-8c1e-9805673dfcdf",
   "metadata": {
    "tags": []
   },
   "outputs": [
    {
     "name": "stdout",
     "output_type": "stream",
     "text": [
      "Pearson_Corr= 0.6280470490455627 | R2_Score= 0.3941779136657715\n"
     ]
    }
   ],
   "source": [
    "final_results=evaluate()\n",
    "print(\"Pearson_Corr=\",final_results[0],\"| R2_Score=\",final_results[1])"
   ]
  }
 ],
 "metadata": {
  "kernelspec": {
   "display_name": "Python 3 (ipykernel)",
   "language": "python",
   "name": "python3"
  },
  "language_info": {
   "codemirror_mode": {
    "name": "ipython",
    "version": 3
   },
   "file_extension": ".py",
   "mimetype": "text/x-python",
   "name": "python",
   "nbconvert_exporter": "python",
   "pygments_lexer": "ipython3",
   "version": "3.10.10"
  }
 },
 "nbformat": 4,
 "nbformat_minor": 5
}
