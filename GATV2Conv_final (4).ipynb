{
 "cells": [
  {
   "cell_type": "code",
   "execution_count": 1,
   "id": "a393eeca-7e57-4ed1-8064-f1b86c35e0d4",
   "metadata": {
    "tags": []
   },
   "outputs": [],
   "source": [
    "# pip install kaggle"
   ]
  },
  {
   "cell_type": "code",
   "execution_count": 2,
   "id": "7d56e218-6e6e-4b47-8c14-2c16d2374327",
   "metadata": {
    "tags": []
   },
   "outputs": [],
   "source": [
    "# !mv kaggle.json /root/.kaggle/kaggle.json"
   ]
  },
  {
   "cell_type": "code",
   "execution_count": 3,
   "id": "156da26a-8fec-4e95-9516-8e668767f39e",
   "metadata": {
    "tags": []
   },
   "outputs": [],
   "source": [
    "# !kaggle datasets download -d quentinletellier/bapst-data-static-structure-in-glasses"
   ]
  },
  {
   "cell_type": "code",
   "execution_count": 4,
   "id": "8e6ad197-cda4-4e22-846c-25e4ecbd6141",
   "metadata": {
    "tags": []
   },
   "outputs": [],
   "source": [
    "# !pip install pyg_lib torch_scatter torch_sparse torch_cluster torch_spline_conv -f https://data.pyg.org/whl/torch-2.0.0+cu117.html"
   ]
  },
  {
   "cell_type": "code",
   "execution_count": 5,
   "id": "167779d4-5a01-408b-8aee-4d0d3f6f918b",
   "metadata": {
    "tags": []
   },
   "outputs": [],
   "source": [
    "# !pip install torch_geometric"
   ]
  },
  {
   "cell_type": "code",
   "execution_count": 6,
   "id": "506d86b1-f073-4dad-bb06-e9b454df166b",
   "metadata": {
    "tags": []
   },
   "outputs": [],
   "source": [
    "# import zipfile\n",
    "# from zipfile import ZipFile"
   ]
  },
  {
   "cell_type": "code",
   "execution_count": 7,
   "id": "8e7d5732-2364-4fa6-9ed1-c0b77a5efa2b",
   "metadata": {
    "tags": []
   },
   "outputs": [],
   "source": [
    "# zip = ZipFile('bapst-data-static-structure-in-glasses.zip')\n",
    "# zip.extractall()"
   ]
  },
  {
   "cell_type": "code",
   "execution_count": 8,
   "id": "342ca4e8-11fb-4ac7-b889-56098e8fd5ad",
   "metadata": {
    "tags": []
   },
   "outputs": [],
   "source": [
    "# !pip install pandas matplotlib torchmetrics"
   ]
  },
  {
   "cell_type": "code",
   "execution_count": 9,
   "id": "4836c728-53bd-49c5-9954-80c134a955a1",
   "metadata": {
    "tags": []
   },
   "outputs": [],
   "source": [
    "import numpy as np # linear algebra\n",
    "import pandas as pd # data processing, CSV file I/O (e.g. pd.read_csv)\n",
    "import matplotlib.pyplot as plt\n",
    "import torch\n",
    "from torch import nn as nn\n",
    "from torch.nn import MSELoss\n",
    "import torch.nn.functional as F\n",
    "import torchmetrics\n",
    "from torchmetrics import MeanSquaredError,PearsonCorrCoef\n",
    "#!pip install torch-scatter torch-sparse torch-cluster torch-spline-conv torch-geometric --no-index --find-links=file:///torch-geometric\n",
    "from torch_geometric.loader import DataLoader\n",
    "from torch_geometric.data import Data,Dataset\n",
    "from torch_geometric.nn import GCNConv, GATConv,global_mean_pool,GATv2Conv\n",
    "from torch_geometric.nn.norm import BatchNorm\n",
    "from torch.optim.lr_scheduler import StepLR,ExponentialLR\n",
    "from torchmetrics import R2Score\n",
    "\n",
    "# Input data files are available in the read-only \"../input/\" directory\n",
    "# For example, running this (by clicking run or pressing Shift+Enter) will list all files under the input directory\n",
    "import matplotlib.pyplot as plt\n",
    "import os\n",
    "device=torch.device('cuda' if torch.cuda.is_available() else 'cpu')"
   ]
  },
  {
   "cell_type": "code",
   "execution_count": 10,
   "id": "406f774c-06bf-40ee-b665-8c3c21d23c15",
   "metadata": {
    "tags": []
   },
   "outputs": [],
   "source": [
    "dataset=[]\n",
    "for i in range(0,400):\n",
    "    dataset.append(torch.load(\"graphs/graph\"+str(i)+\".pt\"))\n",
    "    dataset[i].x=dataset[i].x.type(torch.float32)\n",
    "    dataset[i].edge_attr=dataset[i].edge_attr.type(torch.float32)"
   ]
  },
  {
   "cell_type": "code",
   "execution_count": 11,
   "id": "11e68a00-6337-4869-aeaf-6dd11c279f73",
   "metadata": {
    "tags": []
   },
   "outputs": [
    {
     "data": {
      "text/plain": [
       "Data(x=[4096, 1], edge_index=[2, 167710], edge_attr=[167710, 3], y=[4096, 1], pos=[4096, 3], e_pot=0, pair_pot=0, edge_targets=[167710, 1], delta_r_cage=[4096, 1])"
      ]
     },
     "execution_count": 11,
     "metadata": {},
     "output_type": "execute_result"
    }
   ],
   "source": [
    "dataset[0]"
   ]
  },
  {
   "cell_type": "code",
   "execution_count": 12,
   "id": "993a5f5c-faa3-4460-bc43-da7cd802fbf1",
   "metadata": {
    "tags": []
   },
   "outputs": [],
   "source": [
    "train_loader=DataLoader(dataset[:350],batch_size=10,shuffle=True)\n",
    "test_loader=DataLoader(dataset[350:],batch_size=10,shuffle=False)"
   ]
  },
  {
   "cell_type": "code",
   "execution_count": 13,
   "id": "9b870aeb-2e21-4ff4-a92e-86ef9a2ade4a",
   "metadata": {
    "tags": []
   },
   "outputs": [
    {
     "data": {
      "text/plain": [
       "device(type='cuda')"
      ]
     },
     "execution_count": 13,
     "metadata": {},
     "output_type": "execute_result"
    }
   ],
   "source": [
    "device"
   ]
  },
  {
   "cell_type": "code",
   "execution_count": 14,
   "id": "48af74d2-8f39-4d69-8e32-d7bd4f371380",
   "metadata": {
    "tags": []
   },
   "outputs": [],
   "source": [
    "pearson_correr=PearsonCorrCoef().to(device)\n",
    "r2_scorer=R2Score().to(device)"
   ]
  },
  {
   "cell_type": "code",
   "execution_count": 15,
   "id": "d35377b5-de71-4eaa-8e0f-99675745624e",
   "metadata": {},
   "outputs": [],
   "source": [
    "r2_scores=[]\n",
    "pearson_correlations=[]"
   ]
  },
  {
   "cell_type": "code",
   "execution_count": 16,
   "id": "36e4392f-4818-4053-a037-053316b29a27",
   "metadata": {
    "tags": []
   },
   "outputs": [],
   "source": [
    "def evaluate():\n",
    "    model.eval()\n",
    "    outs=torch.empty(0).to(device)\n",
    "    ys=torch.empty(0).to(device)\n",
    "    for data in test_loader:\n",
    "        data=data.to(device)\n",
    "        out=model(data)\n",
    "        outs=torch.cat((outs,out.flatten()))\n",
    "        ys=torch.cat((ys,data.y.flatten()))\n",
    "        #data.cpu()\n",
    "    pearson=pearson_correr(outs,ys)\n",
    "    r2=r2_scorer(outs,ys)\n",
    "    pearson_correlations.append(pearson.item())\n",
    "    r2_scores.append(r2.item())\n",
    "    return pearson.item(),r2.item()"
   ]
  },
  {
   "cell_type": "code",
   "execution_count": 17,
   "id": "f7c1d230-979c-4901-ac1d-75b645578834",
   "metadata": {
    "tags": []
   },
   "outputs": [],
   "source": [
    "class GATCONVModel(torch.nn.Module):\n",
    "    def __init__(self,hidden_dim_encode=32,hidden_dim_conv=7,attention_heads=4,dropout_rate=0.07):\n",
    "        super(GATCONVModel,self).__init__()\n",
    "        torch.manual_seed(46)\n",
    "        self.relu=nn.ReLU()\n",
    "        self.encoder= nn.Sequential(\n",
    "            nn.Linear(3,hidden_dim_encode),\n",
    "            nn.ReLU(),\n",
    "            nn.Linear(hidden_dim_encode,hidden_dim_encode),\n",
    "            nn.ReLU(),\n",
    "            nn.Linear(hidden_dim_encode,hidden_dim_encode),\n",
    "            nn.ReLU()\n",
    "        )\n",
    "        self.conv1=GATv2Conv(1,hidden_dim_conv,heads=attention_heads,dropout=dropout_rate,edge_dim=hidden_dim_encode)\n",
    "        self.conv2=GATv2Conv(hidden_dim_conv*attention_heads,hidden_dim_conv,heads=attention_heads,dropout=dropout_rate,edge_dim=hidden_dim_encode)\n",
    "        self.conv3=GATv2Conv(hidden_dim_conv*attention_heads,hidden_dim_conv,heads=attention_heads,dropout=dropout_rate,edge_dim=hidden_dim_encode)\n",
    "        self.conv4=GATv2Conv(hidden_dim_conv*attention_heads,hidden_dim_conv,heads=attention_heads,dropout=dropout_rate,edge_dim=hidden_dim_encode)\n",
    "        self.decoder=nn.Sequential(\n",
    "            nn.Linear(hidden_dim_conv*attention_heads,hidden_dim_encode),\n",
    "            nn.ReLU(),\n",
    "            nn.Linear(hidden_dim_encode,hidden_dim_encode),\n",
    "            nn.ReLU(),\n",
    "            nn.Linear(hidden_dim_encode,1)\n",
    "        )\n",
    "        \n",
    "    def forward(self,data):\n",
    "        x,edge_index,edge_attr=data.x,data.edge_index,data.edge_attr\n",
    "        edge_attr=self.encoder(edge_attr)\n",
    "        x=self.conv1(x,edge_index,edge_attr)\n",
    "        #x=self.relu(x)\n",
    "        x=self.conv2(x,edge_index,edge_attr)\n",
    "        #x=self.relu(x)\n",
    "        x=self.conv3(x,edge_index,edge_attr)\n",
    "        #x=self.relu(x)\n",
    "        x=self.conv4(x,edge_index,edge_attr)\n",
    "        #x=self.relu(x)\n",
    "        x=self.decoder(x)\n",
    "        return x"
   ]
  },
  {
   "cell_type": "code",
   "execution_count": 18,
   "id": "d189f537-438f-4384-a272-3c1769af1bbe",
   "metadata": {},
   "outputs": [],
   "source": [
    "def get_gradients(model):\n",
    "    grads = []\n",
    "    for params in model.parameters():\n",
    "        grads.append(torch.max(torch.abs(params)).item())\n",
    "    return grads"
   ]
  },
  {
   "cell_type": "code",
   "execution_count": 19,
   "id": "a1dd890b-4945-4d7f-8a0a-4031b973b1ae",
   "metadata": {
    "tags": []
   },
   "outputs": [
    {
     "name": "stdout",
     "output_type": "stream",
     "text": [
      "epoch: 1 | loss: 0.1103110732776778  | pearson_corr: 0.2116943597793579  | r2_score: -0.002823948860168457\n",
      "epoch: 2 | loss: 0.09530660957098007  | pearson_corr: 0.20596444606781006  | r2_score: 0.001377880573272705\n",
      "epoch: 3 | loss: 0.09582881139857428  | pearson_corr: 0.20840127766132355  | r2_score: 0.001858830451965332\n",
      "epoch: 4 | loss: 0.09517776135887418  | pearson_corr: 0.20821602642536163  | r2_score: 0.0021415352821350098\n",
      "epoch: 5 | loss: 0.09497027439730509  | pearson_corr: 0.20627689361572266  | r2_score: 0.004133999347686768\n",
      "epoch: 6 | loss: 0.0953524785382407  | pearson_corr: 0.19462694227695465  | r2_score: -0.01381993293762207\n",
      "epoch: 7 | loss: 0.09478304300989424  | pearson_corr: 0.18681322038173676  | r2_score: 0.01217353343963623\n",
      "epoch: 8 | loss: 0.09421393317835672  | pearson_corr: 0.1863008737564087  | r2_score: 0.01856839656829834\n",
      "epoch: 9 | loss: 0.09127168250935418  | pearson_corr: 0.30750036239624023  | r2_score: 0.08846467733383179\n",
      "epoch: 10 | loss: 0.07971848441021782  | pearson_corr: 0.5135111212730408  | r2_score: 0.2606515884399414\n",
      "epoch: 11 | loss: 0.07005728536418505  | pearson_corr: 0.5734953284263611  | r2_score: 0.32614970207214355\n",
      "epoch: 12 | loss: 0.06427179926208088  | pearson_corr: 0.6178776621818542  | r2_score: 0.2955184578895569\n",
      "epoch: 13 | loss: 0.061414697021245954  | pearson_corr: 0.6343569159507751  | r2_score: 0.3824428915977478\n",
      "epoch: 14 | loss: 0.05905940543328013  | pearson_corr: 0.6215961575508118  | r2_score: 0.31386905908584595\n",
      "epoch: 15 | loss: 0.059192310167210445  | pearson_corr: 0.6405242085456848  | r2_score: 0.3865201473236084\n",
      "epoch: 16 | loss: 0.05645820147224835  | pearson_corr: 0.6502730250358582  | r2_score: 0.4228121042251587\n",
      "epoch: 17 | loss: 0.05767797891582761  | pearson_corr: 0.6389337182044983  | r2_score: 0.38203251361846924\n",
      "epoch: 18 | loss: 0.05664710487638201  | pearson_corr: 0.6523482203483582  | r2_score: 0.4208860397338867\n",
      "epoch: 19 | loss: 0.056061849849564686  | pearson_corr: 0.6453284621238708  | r2_score: 0.3523895740509033\n",
      "epoch: 20 | loss: 0.057424192875623704  | pearson_corr: 0.6562042236328125  | r2_score: 0.4249986410140991\n",
      "epoch: 21 | loss: 0.05442832655140332  | pearson_corr: 0.661641001701355  | r2_score: 0.4304642677307129\n",
      "epoch: 22 | loss: 0.05449502776776041  | pearson_corr: 0.6605408191680908  | r2_score: 0.4250033497810364\n",
      "epoch: 23 | loss: 0.05388323739171028  | pearson_corr: 0.6638069748878479  | r2_score: 0.4394858479499817\n",
      "epoch: 24 | loss: 0.05413010429058756  | pearson_corr: 0.6655949354171753  | r2_score: 0.4072558283805847\n",
      "epoch: 25 | loss: 0.05401437069688524  | pearson_corr: 0.6677128076553345  | r2_score: 0.44313013553619385\n",
      "epoch: 26 | loss: 0.053563070935862406  | pearson_corr: 0.6692147850990295  | r2_score: 0.443989634513855\n",
      "epoch: 27 | loss: 0.05373872624976295  | pearson_corr: 0.6697770953178406  | r2_score: 0.4481789469718933\n",
      "epoch: 28 | loss: 0.05290896349719593  | pearson_corr: 0.6712324619293213  | r2_score: 0.4487829804420471\n",
      "epoch: 29 | loss: 0.05346083885857037  | pearson_corr: 0.6688289046287537  | r2_score: 0.44708073139190674\n",
      "epoch: 30 | loss: 0.053617262840271  | pearson_corr: 0.6713661551475525  | r2_score: 0.4497988820075989\n",
      "epoch: 31 | loss: 0.05252243035605975  | pearson_corr: 0.6728814244270325  | r2_score: 0.4361759424209595\n",
      "epoch: 32 | loss: 0.05265528751271112  | pearson_corr: 0.6747186779975891  | r2_score: 0.4363483786582947\n",
      "epoch: 33 | loss: 0.05230489266770227  | pearson_corr: 0.677150547504425  | r2_score: 0.4408898949623108\n",
      "epoch: 34 | loss: 0.052340716655765264  | pearson_corr: 0.678012490272522  | r2_score: 0.45559161901474\n",
      "epoch: 35 | loss: 0.052242934065205714  | pearson_corr: 0.6777734160423279  | r2_score: 0.4587339162826538\n",
      "epoch: 36 | loss: 0.05203990457313401  | pearson_corr: 0.676182746887207  | r2_score: 0.4459259510040283\n",
      "epoch: 37 | loss: 0.05173154505235808  | pearson_corr: 0.6814089417457581  | r2_score: 0.45010530948638916\n",
      "epoch: 38 | loss: 0.05179921303476606  | pearson_corr: 0.6803985834121704  | r2_score: 0.4627789258956909\n",
      "epoch: 39 | loss: 0.051282486745289395  | pearson_corr: 0.681601881980896  | r2_score: 0.4544146656990051\n",
      "epoch: 40 | loss: 0.05167335569858551  | pearson_corr: 0.6816803216934204  | r2_score: 0.46212059259414673\n",
      "epoch: 41 | loss: 0.05123722116862025  | pearson_corr: 0.683160662651062  | r2_score: 0.4666457176208496\n",
      "epoch: 42 | loss: 0.05129460170865059  | pearson_corr: 0.68327397108078  | r2_score: 0.4626254439353943\n",
      "epoch: 43 | loss: 0.050988235963242395  | pearson_corr: 0.6835975646972656  | r2_score: 0.4627726674079895\n",
      "epoch: 44 | loss: 0.05162845690335546  | pearson_corr: 0.6837508082389832  | r2_score: 0.46362239122390747\n",
      "epoch: 45 | loss: 0.05108686919723238  | pearson_corr: 0.6848652362823486  | r2_score: 0.46703416109085083\n",
      "epoch: 46 | loss: 0.05114872264010566  | pearson_corr: 0.6841656565666199  | r2_score: 0.46465325355529785\n",
      "epoch: 47 | loss: 0.050938623079231804  | pearson_corr: 0.6849479079246521  | r2_score: 0.46809881925582886\n",
      "epoch: 48 | loss: 0.05080146076423781  | pearson_corr: 0.6851125955581665  | r2_score: 0.4663868546485901\n",
      "epoch: 49 | loss: 0.0509352299783911  | pearson_corr: 0.6863624453544617  | r2_score: 0.47083836793899536\n",
      "epoch: 50 | loss: 0.050921281746455604  | pearson_corr: 0.6855931282043457  | r2_score: 0.4696788787841797\n",
      "epoch: 51 | loss: 0.05087249247091157  | pearson_corr: 0.6860174536705017  | r2_score: 0.4542904496192932\n",
      "epoch: 52 | loss: 0.05059699181999479  | pearson_corr: 0.6866154074668884  | r2_score: 0.46818244457244873\n",
      "epoch: 53 | loss: 0.050669972385678975  | pearson_corr: 0.6872768998146057  | r2_score: 0.4702848792076111\n",
      "epoch: 54 | loss: 0.051511531323194505  | pearson_corr: 0.6862753629684448  | r2_score: 0.45180732011795044\n",
      "epoch: 55 | loss: 0.05141286275216511  | pearson_corr: 0.6868402361869812  | r2_score: 0.4703024625778198\n",
      "epoch: 56 | loss: 0.05129589193633625  | pearson_corr: 0.6877824664115906  | r2_score: 0.4666175842285156\n",
      "epoch: 57 | loss: 0.050923380149262294  | pearson_corr: 0.6870486736297607  | r2_score: 0.4716726541519165\n",
      "epoch: 58 | loss: 0.050432221910783226  | pearson_corr: 0.6882814168930054  | r2_score: 0.4641202688217163\n",
      "epoch: 59 | loss: 0.05041490654860224  | pearson_corr: 0.6894800662994385  | r2_score: 0.46998798847198486\n",
      "epoch: 60 | loss: 0.05029230426464762  | pearson_corr: 0.6871588826179504  | r2_score: 0.46927815675735474\n",
      "epoch: 61 | loss: 0.05008443668484688  | pearson_corr: 0.6898917555809021  | r2_score: 0.4734451174736023\n",
      "epoch: 62 | loss: 0.05027769133448601  | pearson_corr: 0.6903786063194275  | r2_score: 0.4762045741081238\n",
      "epoch: 63 | loss: 0.05001281414713178  | pearson_corr: 0.6906333565711975  | r2_score: 0.4767962098121643\n",
      "epoch: 64 | loss: 0.04997981478060995  | pearson_corr: 0.6911149024963379  | r2_score: 0.4772011637687683\n",
      "epoch: 65 | loss: 0.05000352955290249  | pearson_corr: 0.6908601522445679  | r2_score: 0.47690409421920776\n",
      "epoch: 66 | loss: 0.049971605624471394  | pearson_corr: 0.6911160349845886  | r2_score: 0.47554636001586914\n",
      "epoch: 67 | loss: 0.049963110898222245  | pearson_corr: 0.6916643381118774  | r2_score: 0.4781531095504761\n",
      "epoch: 68 | loss: 0.049845301998513086  | pearson_corr: 0.6918831467628479  | r2_score: 0.47788000106811523\n",
      "epoch: 69 | loss: 0.04981399327516556  | pearson_corr: 0.6917404532432556  | r2_score: 0.4776618480682373\n",
      "epoch: 70 | loss: 0.0498645693063736  | pearson_corr: 0.6922792196273804  | r2_score: 0.4788951277732849\n",
      "epoch: 71 | loss: 0.04977792192782674  | pearson_corr: 0.6925498247146606  | r2_score: 0.4776163101196289\n",
      "epoch: 72 | loss: 0.049929185530969075  | pearson_corr: 0.6923204660415649  | r2_score: 0.4742611050605774\n",
      "epoch: 73 | loss: 0.05027637481689453  | pearson_corr: 0.6920469403266907  | r2_score: 0.4775698781013489\n",
      "epoch: 74 | loss: 0.050181136386735097  | pearson_corr: 0.6923303604125977  | r2_score: 0.4785277247428894\n",
      "epoch: 75 | loss: 0.04970715567469597  | pearson_corr: 0.692884624004364  | r2_score: 0.4797968864440918\n",
      "epoch: 76 | loss: 0.04974503623587745  | pearson_corr: 0.6926265358924866  | r2_score: 0.4651198983192444\n",
      "epoch: 77 | loss: 0.04995796095047678  | pearson_corr: 0.6925040483474731  | r2_score: 0.4756949543952942\n",
      "epoch: 78 | loss: 0.049658047620739255  | pearson_corr: 0.6936689019203186  | r2_score: 0.4788220524787903\n",
      "epoch: 79 | loss: 0.04958096593618393  | pearson_corr: 0.6937177777290344  | r2_score: 0.4809246063232422\n",
      "epoch: 80 | loss: 0.04958241241318839  | pearson_corr: 0.6940643191337585  | r2_score: 0.47730642557144165\n",
      "epoch: 81 | loss: 0.049554979162556786  | pearson_corr: 0.693917989730835  | r2_score: 0.4780800938606262\n",
      "epoch: 82 | loss: 0.0495089767234666  | pearson_corr: 0.6943441033363342  | r2_score: 0.481228232383728\n",
      "epoch: 83 | loss: 0.04940584961857115  | pearson_corr: 0.6944534778594971  | r2_score: 0.48007476329803467\n",
      "epoch: 84 | loss: 0.0496724505509649  | pearson_corr: 0.6943235993385315  | r2_score: 0.4809533953666687\n",
      "epoch: 85 | loss: 0.049442715091364726  | pearson_corr: 0.6946451663970947  | r2_score: 0.48178112506866455\n",
      "epoch: 86 | loss: 0.04944255383951324  | pearson_corr: 0.6948128938674927  | r2_score: 0.4819908142089844\n",
      "epoch: 87 | loss: 0.04938069039157459  | pearson_corr: 0.6949371099472046  | r2_score: 0.48273247480392456\n",
      "epoch: 88 | loss: 0.04932761320046016  | pearson_corr: 0.6950227618217468  | r2_score: 0.4824413061141968\n",
      "epoch: 89 | loss: 0.049250407304082595  | pearson_corr: 0.695309579372406  | r2_score: 0.48319995403289795\n",
      "epoch: 90 | loss: 0.049525291046925955  | pearson_corr: 0.6951050758361816  | r2_score: 0.4827168583869934\n",
      "epoch: 91 | loss: 0.04929484575986862  | pearson_corr: 0.6950151324272156  | r2_score: 0.47692012786865234\n",
      "epoch: 92 | loss: 0.0494174491081919  | pearson_corr: 0.6954582929611206  | r2_score: 0.48332679271698\n",
      "epoch: 93 | loss: 0.049337322797094074  | pearson_corr: 0.6955546736717224  | r2_score: 0.4819028973579407\n",
      "epoch: 94 | loss: 0.04933605949793543  | pearson_corr: 0.6957769989967346  | r2_score: 0.48316437005996704\n",
      "epoch: 95 | loss: 0.0493100850709847  | pearson_corr: 0.6957247853279114  | r2_score: 0.48350006341934204\n",
      "epoch: 96 | loss: 0.04930032747132437  | pearson_corr: 0.6961695551872253  | r2_score: 0.4835386276245117\n",
      "epoch: 97 | loss: 0.049181765743664334  | pearson_corr: 0.6960287094116211  | r2_score: 0.48188430070877075\n",
      "epoch: 98 | loss: 0.0493394207741533  | pearson_corr: 0.6961631774902344  | r2_score: 0.4806608557701111\n",
      "epoch: 99 | loss: 0.049498119098799566  | pearson_corr: 0.696134090423584  | r2_score: 0.4844803810119629\n"
     ]
    }
   ],
   "source": [
    "loss_fn=MSELoss()\n",
    "model=GATCONVModel().to(device)\n",
    "optimizer=torch.optim.Adam(model.parameters(),lr=0.005,weight_decay=5e-7) #weight_decay=1e-5\n",
    "scheduler = StepLR(optimizer,step_size=20, gamma=0.5)\n",
    "train_losses=[]\n",
    "test_losses=[]\n",
    "for epoch in range(100):\n",
    "    if epoch%1==0 and epoch!=0:\n",
    "        pearson_print,r2_print=evaluate()\n",
    "        print(\"epoch:\",epoch,\"| loss:\",train_losses[-1],\" | pearson_corr:\",pearson_print,\" | r2_score:\",r2_print)\n",
    "    batch_losses=[]\n",
    "    model.train()\n",
    "    for data in train_loader:\n",
    "        data=data.to(device)\n",
    "        optimizer.zero_grad()\n",
    "        out=model(data)\n",
    "        loss=loss_fn(out,data.y)\n",
    "        loss.backward()\n",
    "        torch.nn.utils.clip_grad_norm_(model.parameters(),max_norm=1.0,foreach=True)\n",
    "        optimizer.step()\n",
    "        batch_losses.append(loss.item())\n",
    "    train_losses.append(np.mean(batch_losses))\n",
    "    \n",
    "    model.eval()\n",
    "    batch_losses=[]\n",
    "    for data in test_loader:\n",
    "        data=data.to(device)\n",
    "        out=model(data)\n",
    "        loss=loss_fn(out,data.y)\n",
    "        batch_losses.append(loss.item())\n",
    "    test_losses.append(np.mean(batch_losses))\n",
    "    scheduler.step()"
   ]
  },
  {
   "cell_type": "code",
   "execution_count": 20,
   "id": "e7de20f6-cb11-4094-83a4-aa80586e1347",
   "metadata": {
    "tags": []
   },
   "outputs": [
    {
     "data": {
      "image/png": "[encoded data removed]",
      "text/plain": [
       "<Figure size 640x480 with 1 Axes>"
      ]
     },
     "metadata": {},
     "output_type": "display_data"
    }
   ],
   "source": [
    "plt.plot(np.log(train_losses),color='blue')\n",
    "plt.plot(np.log(test_losses),color='red')\n",
    "plt.legend([\"training loss\",\"validation loss\"])\n",
    "plt.show()"
   ]
  },
  {
   "cell_type": "code",
   "execution_count": 21,
   "id": "86c5552b-9d87-4f74-a485-4f853956c421",
   "metadata": {},
   "outputs": [
    {
     "data": {
      "image/png": "[encoded data removed]",
      "text/plain": [
       "<Figure size 640x480 with 1 Axes>"
      ]
     },
     "metadata": {},
     "output_type": "display_data"
    }
   ],
   "source": [
    "plt.plot(r2_scores)\n",
    "plt.legend([\"r2_score\"])\n",
    "plt.show()"
   ]
  },
  {
   "cell_type": "code",
   "execution_count": 22,
   "id": "f76deecb-54ea-4dad-8878-e3f4351589ba",
   "metadata": {},
   "outputs": [
    {
     "data": {
      "image/png": "[encoded data removed]",
      "text/plain": [
       "<Figure size 640x480 with 1 Axes>"
      ]
     },
     "metadata": {},
     "output_type": "display_data"
    }
   ],
   "source": [
    "plt.plot(pearson_correlations)\n",
    "plt.legend([\"pearson_correlation\"])\n",
    "plt.show()"
   ]
  },
  {
   "cell_type": "code",
   "execution_count": 23,
   "id": "5dcc3734-46cb-4c88-8c1e-9805673dfcdf",
   "metadata": {
    "tags": []
   },
   "outputs": [
    {
     "name": "stdout",
     "output_type": "stream",
     "text": [
      "Pearson_Corr= 0.6963244080543518 | R2_Score= 0.4835599660873413\n"
     ]
    }
   ],
   "source": [
    "final_results=evaluate()\n",
    "print(\"Pearson_Corr=\",final_results[0],\"| R2_Score=\",final_results[1])"
   ]
  }
 ],
 "metadata": {
  "kernelspec": {
   "display_name": "Python 3 (ipykernel)",
   "language": "python",
   "name": "python3"
  },
  "language_info": {
   "codemirror_mode": {
    "name": "ipython",
    "version": 3
   },
   "file_extension": ".py",
   "mimetype": "text/x-python",
   "name": "python",
   "nbconvert_exporter": "python",
   "pygments_lexer": "ipython3",
   "version": "3.10.10"
  }
 },
 "nbformat": 4,
 "nbformat_minor": 5
}
