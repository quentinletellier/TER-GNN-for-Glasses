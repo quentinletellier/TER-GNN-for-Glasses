{
 "cells": [
  {
   "cell_type": "code",
   "execution_count": 1,
   "id": "a393eeca-7e57-4ed1-8064-f1b86c35e0d4",
   "metadata": {
    "tags": []
   },
   "outputs": [],
   "source": [
    "# pip install kaggle"
   ]
  },
  {
   "cell_type": "code",
   "execution_count": 2,
   "id": "7d56e218-6e6e-4b47-8c14-2c16d2374327",
   "metadata": {
    "tags": []
   },
   "outputs": [],
   "source": [
    "# !mv kaggle.json /root/.kaggle/kaggle.json"
   ]
  },
  {
   "cell_type": "code",
   "execution_count": 3,
   "id": "156da26a-8fec-4e95-9516-8e668767f39e",
   "metadata": {
    "tags": []
   },
   "outputs": [],
   "source": [
    "# !kaggle datasets download -d quentinletellier/bapst-data-static-structure-in-glasses"
   ]
  },
  {
   "cell_type": "code",
   "execution_count": 4,
   "id": "8e6ad197-cda4-4e22-846c-25e4ecbd6141",
   "metadata": {
    "tags": []
   },
   "outputs": [],
   "source": [
    "# !pip install pyg_lib torch_scatter torch_sparse torch_cluster torch_spline_conv -f https://data.pyg.org/whl/torch-2.0.0+cu117.html"
   ]
  },
  {
   "cell_type": "code",
   "execution_count": 5,
   "id": "167779d4-5a01-408b-8aee-4d0d3f6f918b",
   "metadata": {
    "tags": []
   },
   "outputs": [],
   "source": [
    "# !pip install torch_geometric"
   ]
  },
  {
   "cell_type": "code",
   "execution_count": 6,
   "id": "506d86b1-f073-4dad-bb06-e9b454df166b",
   "metadata": {
    "tags": []
   },
   "outputs": [],
   "source": [
    "# import zipfile\n",
    "# from zipfile import ZipFile"
   ]
  },
  {
   "cell_type": "code",
   "execution_count": 7,
   "id": "8e7d5732-2364-4fa6-9ed1-c0b77a5efa2b",
   "metadata": {
    "tags": []
   },
   "outputs": [],
   "source": [
    "# zip = ZipFile('bapst-data-static-structure-in-glasses.zip')\n",
    "# zip.extractall()"
   ]
  },
  {
   "cell_type": "code",
   "execution_count": 8,
   "id": "342ca4e8-11fb-4ac7-b889-56098e8fd5ad",
   "metadata": {
    "tags": []
   },
   "outputs": [],
   "source": [
    "# !pip install pandas matplotlib torchmetrics"
   ]
  },
  {
   "cell_type": "code",
   "execution_count": 9,
   "id": "4836c728-53bd-49c5-9954-80c134a955a1",
   "metadata": {
    "tags": []
   },
   "outputs": [],
   "source": [
    "import numpy as np # linear algebra\n",
    "import pandas as pd # data processing, CSV file I/O (e.g. pd.read_csv)\n",
    "import matplotlib.pyplot as plt\n",
    "import torch\n",
    "from torch import nn as nn\n",
    "from torch.nn import MSELoss\n",
    "import torch.nn.functional as F\n",
    "import torchmetrics\n",
    "from torchmetrics import MeanSquaredError,PearsonCorrCoef\n",
    "#!pip install torch-scatter torch-sparse torch-cluster torch-spline-conv torch-geometric --no-index --find-links=file:///torch-geometric\n",
    "from torch_geometric.loader import DataLoader\n",
    "from torch_geometric.data import Data,Dataset\n",
    "from torch_geometric.nn import GCNConv, GATConv,global_mean_pool,GATv2Conv\n",
    "from torch_geometric.nn.norm import BatchNorm\n",
    "from torch.optim.lr_scheduler import StepLR,ExponentialLR\n",
    "from torchmetrics import R2Score\n",
    "\n",
    "# Input data files are available in the read-only \"../input/\" directory\n",
    "# For example, running this (by clicking run or pressing Shift+Enter) will list all files under the input directory\n",
    "import matplotlib.pyplot as plt\n",
    "import os\n",
    "device=torch.device('cuda' if torch.cuda.is_available() else 'cpu')"
   ]
  },
  {
   "cell_type": "code",
   "execution_count": 10,
   "id": "406f774c-06bf-40ee-b665-8c3c21d23c15",
   "metadata": {
    "tags": []
   },
   "outputs": [],
   "source": [
    "dataset=[]\n",
    "for i in range(0,400):\n",
    "    dataset.append(torch.load(\"graphs/graph\"+str(i)+\".pt\"))\n",
    "    dataset[i].x=dataset[i].x.type(torch.float32)\n",
    "    dataset[i].edge_attr=dataset[i].edge_attr.type(torch.float32)"
   ]
  },
  {
   "cell_type": "code",
   "execution_count": 11,
   "id": "11e68a00-6337-4869-aeaf-6dd11c279f73",
   "metadata": {
    "tags": []
   },
   "outputs": [
    {
     "data": {
      "text/plain": [
       "Data(x=[4096, 1], edge_index=[2, 167710], edge_attr=[167710, 3], y=[4096, 1], pos=[4096, 3], e_pot=0, pair_pot=0, edge_targets=[167710, 1], delta_r_cage=[4096, 1])"
      ]
     },
     "execution_count": 11,
     "metadata": {},
     "output_type": "execute_result"
    }
   ],
   "source": [
    "dataset[0]"
   ]
  },
  {
   "cell_type": "code",
   "execution_count": 12,
   "id": "993a5f5c-faa3-4460-bc43-da7cd802fbf1",
   "metadata": {
    "tags": []
   },
   "outputs": [],
   "source": [
    "train_loader=DataLoader(dataset[:350],batch_size=10,shuffle=True)\n",
    "test_loader=DataLoader(dataset[350:],batch_size=10,shuffle=False)"
   ]
  },
  {
   "cell_type": "code",
   "execution_count": 13,
   "id": "9b870aeb-2e21-4ff4-a92e-86ef9a2ade4a",
   "metadata": {
    "tags": []
   },
   "outputs": [
    {
     "data": {
      "text/plain": [
       "device(type='cuda')"
      ]
     },
     "execution_count": 13,
     "metadata": {},
     "output_type": "execute_result"
    }
   ],
   "source": [
    "device"
   ]
  },
  {
   "cell_type": "code",
   "execution_count": 14,
   "id": "48af74d2-8f39-4d69-8e32-d7bd4f371380",
   "metadata": {
    "tags": []
   },
   "outputs": [],
   "source": [
    "pearson_correr=PearsonCorrCoef().to(device)\n",
    "r2_scorer=R2Score().to(device)"
   ]
  },
  {
   "cell_type": "code",
   "execution_count": 15,
   "id": "d35377b5-de71-4eaa-8e0f-99675745624e",
   "metadata": {},
   "outputs": [],
   "source": [
    "r2_scores=[]\n",
    "pearson_correlations=[]"
   ]
  },
  {
   "cell_type": "code",
   "execution_count": 16,
   "id": "36e4392f-4818-4053-a037-053316b29a27",
   "metadata": {
    "tags": []
   },
   "outputs": [],
   "source": [
    "def evaluate():\n",
    "    model.eval()\n",
    "    outs=torch.empty(0).to(device)\n",
    "    ys=torch.empty(0).to(device)\n",
    "    for data in test_loader:\n",
    "        data=data.to(device)\n",
    "        out=model(data)\n",
    "        outs=torch.cat((outs,out.flatten()))\n",
    "        ys=torch.cat((ys,data.y.flatten()))\n",
    "        #data.cpu()\n",
    "    pearson=pearson_correr(outs,ys)\n",
    "    r2=r2_scorer(outs,ys)\n",
    "    pearson_correlations.append(pearson.item())\n",
    "    r2_scores.append(r2.item())\n",
    "    return pearson.item(),r2.item()"
   ]
  },
  {
   "cell_type": "code",
   "execution_count": 17,
   "id": "f7c1d230-979c-4901-ac1d-75b645578834",
   "metadata": {
    "tags": []
   },
   "outputs": [],
   "source": [
    "class GATCONVModel(torch.nn.Module):\n",
    "    def __init__(self,hidden_dim_encode=32,hidden_dim_conv=7,attention_heads=5,dropout_rate=0.1):\n",
    "        super(GATCONVModel,self).__init__()\n",
    "        torch.manual_seed(46)\n",
    "        self.encoder= nn.Sequential(\n",
    "            nn.Linear(3,hidden_dim_encode),\n",
    "            nn.ReLU(),\n",
    "            nn.Linear(hidden_dim_encode,hidden_dim_encode),\n",
    "            nn.ReLU(),\n",
    "            nn.Linear(hidden_dim_encode,hidden_dim_encode),\n",
    "            nn.ReLU()\n",
    "        )\n",
    "        self.conv1=GATConv(1,hidden_dim_conv,heads=attention_heads,dropout=dropout_rate,edge_dim=hidden_dim_encode)\n",
    "        self.conv2=GATConv(hidden_dim_conv*attention_heads,hidden_dim_conv,heads=attention_heads,dropout=dropout_rate,edge_dim=hidden_dim_encode)\n",
    "        self.conv3=GATConv(hidden_dim_conv*attention_heads,hidden_dim_conv,heads=attention_heads,dropout=dropout_rate,edge_dim=hidden_dim_encode)\n",
    "        self.conv4=GATConv(hidden_dim_conv*attention_heads,hidden_dim_conv,heads=attention_heads,dropout=dropout_rate,edge_dim=hidden_dim_encode)\n",
    "        self.decoder=nn.Sequential(\n",
    "            nn.Linear(hidden_dim_conv*attention_heads,hidden_dim_encode),\n",
    "            nn.ReLU(),\n",
    "            nn.Linear(hidden_dim_encode,hidden_dim_encode),\n",
    "            nn.ReLU(),\n",
    "            nn.Linear(hidden_dim_encode,1)\n",
    "        )\n",
    "        \n",
    "    def forward(self,data):\n",
    "        x,edge_index,edge_attr=data.x,data.edge_index,data.edge_attr\n",
    "        edge_attr=self.encoder(edge_attr)\n",
    "        x=self.conv1(x,edge_index,edge_attr)\n",
    "        x=self.conv2(x,edge_index,edge_attr)\n",
    "        x=self.conv3(x,edge_index,edge_attr)\n",
    "        x=self.conv4(x,edge_index,edge_attr)\n",
    "        x=self.decoder(x)\n",
    "        return x"
   ]
  },
  {
   "cell_type": "code",
   "execution_count": 18,
   "id": "d189f537-438f-4384-a272-3c1769af1bbe",
   "metadata": {},
   "outputs": [],
   "source": [
    "def get_gradients(model):\n",
    "    grads = []\n",
    "    for params in model.parameters():\n",
    "        grads.append(torch.max(torch.abs(params)).item())\n",
    "    return grads"
   ]
  },
  {
   "cell_type": "code",
   "execution_count": 19,
   "id": "a1dd890b-4945-4d7f-8a0a-4031b973b1ae",
   "metadata": {
    "tags": []
   },
   "outputs": [
    {
     "name": "stdout",
     "output_type": "stream",
     "text": [
      "epoch: 1 | loss: 0.1290621363690921  | pearson_corr: -0.005934921558946371  | r2_score: -0.0007454156875610352\n",
      "epoch: 2 | loss: 0.09529443851539067  | pearson_corr: 0.08674740046262741  | r2_score: -0.0004056692123413086\n",
      "epoch: 3 | loss: 0.09496401931558336  | pearson_corr: 0.15715910494327545  | r2_score: 0.0018177032470703125\n",
      "epoch: 4 | loss: 0.09362748797450747  | pearson_corr: 0.21927085518836975  | r2_score: -0.005318403244018555\n",
      "epoch: 5 | loss: 0.09067853816917965  | pearson_corr: 0.3273441791534424  | r2_score: 0.09661227464675903\n",
      "epoch: 6 | loss: 0.08343019038438797  | pearson_corr: 0.5381021499633789  | r2_score: 0.27865660190582275\n",
      "epoch: 7 | loss: 0.07093530244060925  | pearson_corr: 0.5921263098716736  | r2_score: 0.3327319622039795\n",
      "epoch: 8 | loss: 0.06775398765291486  | pearson_corr: 0.6218026876449585  | r2_score: 0.3276064395904541\n",
      "epoch: 9 | loss: 0.06620440844978605  | pearson_corr: 0.6203995943069458  | r2_score: 0.3824838399887085\n",
      "epoch: 10 | loss: 0.06421076793755803  | pearson_corr: 0.6333742737770081  | r2_score: 0.3915826082229614\n",
      "epoch: 11 | loss: 0.06476365955812591  | pearson_corr: 0.6240130066871643  | r2_score: 0.38026928901672363\n",
      "epoch: 12 | loss: 0.06300136936562402  | pearson_corr: 0.6437121629714966  | r2_score: 0.4117445945739746\n",
      "epoch: 13 | loss: 0.06420493296214512  | pearson_corr: 0.6385495662689209  | r2_score: 0.39456093311309814\n",
      "epoch: 14 | loss: 0.05945902594498226  | pearson_corr: 0.6557561755180359  | r2_score: 0.4249092936515808\n",
      "epoch: 15 | loss: 0.05807168717895236  | pearson_corr: 0.6515445709228516  | r2_score: 0.42212653160095215\n",
      "epoch: 16 | loss: 0.05856898097055299  | pearson_corr: 0.6555774807929993  | r2_score: 0.42834043502807617\n",
      "epoch: 17 | loss: 0.05716791014586176  | pearson_corr: 0.6614200472831726  | r2_score: 0.41455572843551636\n",
      "epoch: 18 | loss: 0.055990297666617804  | pearson_corr: 0.6611916422843933  | r2_score: 0.4307516813278198\n",
      "epoch: 19 | loss: 0.055703292787075046  | pearson_corr: 0.6623529195785522  | r2_score: 0.43313974142074585\n",
      "epoch: 20 | loss: 0.055584203664745604  | pearson_corr: 0.6615555882453918  | r2_score: 0.4352244734764099\n",
      "epoch: 21 | loss: 0.0545439070888928  | pearson_corr: 0.6670780181884766  | r2_score: 0.4318656325340271\n",
      "epoch: 22 | loss: 0.05462986443723951  | pearson_corr: 0.6681296229362488  | r2_score: 0.431512713432312\n",
      "epoch: 23 | loss: 0.05413552767464093  | pearson_corr: 0.6687304973602295  | r2_score: 0.4466583728790283\n",
      "epoch: 24 | loss: 0.05425251083714622  | pearson_corr: 0.6694799065589905  | r2_score: 0.4408201575279236\n",
      "epoch: 25 | loss: 0.054400671592780524  | pearson_corr: 0.6701565384864807  | r2_score: 0.4489229917526245\n",
      "epoch: 26 | loss: 0.05449299163052014  | pearson_corr: 0.6687121391296387  | r2_score: 0.44581174850463867\n",
      "epoch: 27 | loss: 0.05355842890483992  | pearson_corr: 0.6704531908035278  | r2_score: 0.44888240098953247\n",
      "epoch: 28 | loss: 0.054063531756401065  | pearson_corr: 0.6626113057136536  | r2_score: 0.4095143675804138\n",
      "epoch: 29 | loss: 0.05460934340953827  | pearson_corr: 0.6706634759902954  | r2_score: 0.4386104345321655\n",
      "epoch: 30 | loss: 0.05383749252983502  | pearson_corr: 0.6710148453712463  | r2_score: 0.39372414350509644\n",
      "epoch: 31 | loss: 0.0541170318211828  | pearson_corr: 0.6726977229118347  | r2_score: 0.45215803384780884\n",
      "epoch: 32 | loss: 0.053334152059895654  | pearson_corr: 0.672787070274353  | r2_score: 0.4523976445198059\n",
      "epoch: 33 | loss: 0.052873094592775616  | pearson_corr: 0.6739179491996765  | r2_score: 0.44550925493240356\n",
      "epoch: 34 | loss: 0.05330528627548899  | pearson_corr: 0.6738759875297546  | r2_score: 0.4493558406829834\n",
      "epoch: 35 | loss: 0.053206249752214975  | pearson_corr: 0.6735303401947021  | r2_score: 0.44178664684295654\n",
      "epoch: 36 | loss: 0.052975377440452574  | pearson_corr: 0.6754218339920044  | r2_score: 0.4497324824333191\n",
      "epoch: 37 | loss: 0.05386554832969393  | pearson_corr: 0.673145592212677  | r2_score: 0.4466742277145386\n",
      "epoch: 38 | loss: 0.054408571017639976  | pearson_corr: 0.6714113354682922  | r2_score: 0.3853849768638611\n",
      "epoch: 39 | loss: 0.05389603120940072  | pearson_corr: 0.6674147844314575  | r2_score: 0.4415115714073181\n",
      "epoch: 40 | loss: 0.05363635367580823  | pearson_corr: 0.6738672852516174  | r2_score: 0.4500657320022583\n",
      "epoch: 41 | loss: 0.05255453693015235  | pearson_corr: 0.6758144497871399  | r2_score: 0.44964712858200073\n",
      "epoch: 42 | loss: 0.05242422297596931  | pearson_corr: 0.6768629550933838  | r2_score: 0.45797252655029297\n",
      "epoch: 43 | loss: 0.05226348702396665  | pearson_corr: 0.6773717403411865  | r2_score: 0.4578133225440979\n",
      "epoch: 44 | loss: 0.05231275696839605  | pearson_corr: 0.6773495674133301  | r2_score: 0.4520972967147827\n",
      "epoch: 45 | loss: 0.052284881791898184  | pearson_corr: 0.6774279475212097  | r2_score: 0.44976991415023804\n",
      "epoch: 46 | loss: 0.0523918448814324  | pearson_corr: 0.6780140399932861  | r2_score: 0.45830029249191284\n",
      "epoch: 47 | loss: 0.05259444671017783  | pearson_corr: 0.6774565577507019  | r2_score: 0.42721104621887207\n",
      "epoch: 48 | loss: 0.05272109444652285  | pearson_corr: 0.6774044036865234  | r2_score: 0.44955652952194214\n",
      "epoch: 49 | loss: 0.05221211931535176  | pearson_corr: 0.6787829995155334  | r2_score: 0.45997220277786255\n",
      "epoch: 50 | loss: 0.052259956832442965  | pearson_corr: 0.6788610219955444  | r2_score: 0.4476224184036255\n",
      "epoch: 51 | loss: 0.05231891657624926  | pearson_corr: 0.6789916157722473  | r2_score: 0.46064698696136475\n",
      "epoch: 52 | loss: 0.052079834682600835  | pearson_corr: 0.6797952651977539  | r2_score: 0.4540306329727173\n",
      "epoch: 53 | loss: 0.05270527760897364  | pearson_corr: 0.6785670518875122  | r2_score: 0.44579094648361206\n",
      "epoch: 54 | loss: 0.05213613190821239  | pearson_corr: 0.6790440678596497  | r2_score: 0.45985865592956543\n",
      "epoch: 55 | loss: 0.05191480464168957  | pearson_corr: 0.6789812445640564  | r2_score: 0.45334911346435547\n",
      "epoch: 56 | loss: 0.05188448865498815  | pearson_corr: 0.6795979738235474  | r2_score: 0.45056861639022827\n",
      "epoch: 57 | loss: 0.05225126338856561  | pearson_corr: 0.6797351837158203  | r2_score: 0.45600712299346924\n",
      "epoch: 58 | loss: 0.052339693158864976  | pearson_corr: 0.6799808144569397  | r2_score: 0.4532017707824707\n",
      "epoch: 59 | loss: 0.052157005561249595  | pearson_corr: 0.6804693937301636  | r2_score: 0.46203696727752686\n",
      "epoch: 60 | loss: 0.05212564787694386  | pearson_corr: 0.6783027648925781  | r2_score: 0.428985059261322\n",
      "epoch: 61 | loss: 0.05231772522841181  | pearson_corr: 0.680446982383728  | r2_score: 0.45872026681900024\n",
      "epoch: 62 | loss: 0.05184519450579371  | pearson_corr: 0.680816113948822  | r2_score: 0.4620744585990906\n",
      "epoch: 63 | loss: 0.05165596838508334  | pearson_corr: 0.6810522675514221  | r2_score: 0.4619503617286682\n",
      "epoch: 64 | loss: 0.05156465492078236  | pearson_corr: 0.6811665296554565  | r2_score: 0.46255481243133545\n",
      "epoch: 65 | loss: 0.05190046333840915  | pearson_corr: 0.6812049150466919  | r2_score: 0.4636179804801941\n",
      "epoch: 66 | loss: 0.052235856120075495  | pearson_corr: 0.681114673614502  | r2_score: 0.4633747935295105\n",
      "epoch: 67 | loss: 0.05186297350696155  | pearson_corr: 0.6812401413917542  | r2_score: 0.4605814218521118\n",
      "epoch: 68 | loss: 0.05166402959397861  | pearson_corr: 0.6815739870071411  | r2_score: 0.46319782733917236\n",
      "epoch: 69 | loss: 0.05171858136143003  | pearson_corr: 0.6819930672645569  | r2_score: 0.46329939365386963\n",
      "epoch: 70 | loss: 0.0516100994178227  | pearson_corr: 0.6820319294929504  | r2_score: 0.4641289710998535\n",
      "epoch: 71 | loss: 0.05176529203142439  | pearson_corr: 0.6820122003555298  | r2_score: 0.4642840027809143\n",
      "epoch: 72 | loss: 0.051516919476645336  | pearson_corr: 0.6821447014808655  | r2_score: 0.4632187485694885\n",
      "epoch: 73 | loss: 0.051914325462920324  | pearson_corr: 0.6807974576950073  | r2_score: 0.4609408378601074\n",
      "epoch: 74 | loss: 0.05176761161003794  | pearson_corr: 0.6822259426116943  | r2_score: 0.46297675371170044\n",
      "epoch: 75 | loss: 0.05170455670782498  | pearson_corr: 0.6825267672538757  | r2_score: 0.46561604738235474\n",
      "epoch: 76 | loss: 0.051611299493483136  | pearson_corr: 0.6829203367233276  | r2_score: 0.4635865092277527\n",
      "epoch: 77 | loss: 0.05165031839694296  | pearson_corr: 0.6828513145446777  | r2_score: 0.4652184247970581\n",
      "epoch: 78 | loss: 0.051911141404083795  | pearson_corr: 0.681825578212738  | r2_score: 0.45875853300094604\n",
      "epoch: 79 | loss: 0.05154837827597346  | pearson_corr: 0.6830734014511108  | r2_score: 0.4630308747291565\n",
      "epoch: 80 | loss: 0.05153023281267711  | pearson_corr: 0.6832826137542725  | r2_score: 0.4662941098213196\n",
      "epoch: 81 | loss: 0.0513247335595744  | pearson_corr: 0.6836767196655273  | r2_score: 0.4659310579299927\n",
      "epoch: 82 | loss: 0.051323678557361876  | pearson_corr: 0.6837211847305298  | r2_score: 0.4665178656578064\n",
      "epoch: 83 | loss: 0.05130635042275701  | pearson_corr: 0.6838510036468506  | r2_score: 0.4666585326194763\n",
      "epoch: 84 | loss: 0.05139928151454244  | pearson_corr: 0.6837495565414429  | r2_score: 0.4634140729904175\n",
      "epoch: 85 | loss: 0.051188432851008006  | pearson_corr: 0.6838278770446777  | r2_score: 0.4639211893081665\n",
      "epoch: 86 | loss: 0.051619962177106314  | pearson_corr: 0.6836933493614197  | r2_score: 0.4665451645851135\n",
      "epoch: 87 | loss: 0.05130973234772682  | pearson_corr: 0.6841524839401245  | r2_score: 0.46721768379211426\n",
      "epoch: 88 | loss: 0.051303890134607046  | pearson_corr: 0.6843065619468689  | r2_score: 0.466769278049469\n",
      "epoch: 89 | loss: 0.05112670138478279  | pearson_corr: 0.6844081878662109  | r2_score: 0.46808725595474243\n",
      "epoch: 90 | loss: 0.05120806736605508  | pearson_corr: 0.6845566034317017  | r2_score: 0.4679720401763916\n",
      "epoch: 91 | loss: 0.051308155698435644  | pearson_corr: 0.6845484375953674  | r2_score: 0.46819067001342773\n",
      "epoch: 92 | loss: 0.051312012438263215  | pearson_corr: 0.6842634081840515  | r2_score: 0.4654006361961365\n",
      "epoch: 93 | loss: 0.051264702528715136  | pearson_corr: 0.683709442615509  | r2_score: 0.46286678314208984\n",
      "epoch: 94 | loss: 0.051403173484972545  | pearson_corr: 0.6845710873603821  | r2_score: 0.4673677086830139\n",
      "epoch: 95 | loss: 0.051156428030559  | pearson_corr: 0.6848898530006409  | r2_score: 0.46802061796188354\n",
      "epoch: 96 | loss: 0.05137422659567424  | pearson_corr: 0.6848294734954834  | r2_score: 0.46720582246780396\n",
      "epoch: 97 | loss: 0.05117972950850214  | pearson_corr: 0.6849613189697266  | r2_score: 0.46633630990982056\n",
      "epoch: 98 | loss: 0.05123404594404357  | pearson_corr: 0.6849249005317688  | r2_score: 0.4654407501220703\n",
      "epoch: 99 | loss: 0.05128532978040831  | pearson_corr: 0.6851710081100464  | r2_score: 0.4677351713180542\n"
     ]
    }
   ],
   "source": [
    "loss_fn=MSELoss()\n",
    "model=GATCONVModel().to(device)\n",
    "optimizer=torch.optim.Adam(model.parameters(),lr=0.01,weight_decay=0.0) #weight_decay=1e-5\n",
    "scheduler = StepLR(optimizer,step_size=20, gamma=0.5)\n",
    "train_losses=[]\n",
    "test_losses=[]\n",
    "for epoch in range(100):\n",
    "    if epoch%1==0 and epoch!=0:\n",
    "        pearson_print,r2_print=evaluate()\n",
    "        print(\"epoch:\",epoch,\"| loss:\",train_losses[-1],\" | pearson_corr:\",pearson_print,\" | r2_score:\",r2_print)\n",
    "    batch_losses=[]\n",
    "    model.train()\n",
    "    for data in train_loader:\n",
    "        data=data.to(device)\n",
    "        optimizer.zero_grad()\n",
    "        out=model(data)\n",
    "        loss=loss_fn(out,data.y)\n",
    "        loss.backward()\n",
    "        torch.nn.utils.clip_grad_norm_(model.parameters(),max_norm=1.0,foreach=True)\n",
    "        optimizer.step()\n",
    "        batch_losses.append(loss.item())\n",
    "    train_losses.append(np.mean(batch_losses))\n",
    "    \n",
    "    model.eval()\n",
    "    batch_losses=[]\n",
    "    for data in test_loader:\n",
    "        data=data.to(device)\n",
    "        out=model(data)\n",
    "        loss=loss_fn(out,data.y)\n",
    "        batch_losses.append(loss.item())\n",
    "    test_losses.append(np.mean(batch_losses))\n",
    "    scheduler.step()"
   ]
  },
  {
   "cell_type": "code",
   "execution_count": 20,
   "id": "e7de20f6-cb11-4094-83a4-aa80586e1347",
   "metadata": {
    "tags": []
   },
   "outputs": [
    {
     "data": {
      "image/png": "[encoded data removed]",
      "text/plain": [
       "<Figure size 640x480 with 1 Axes>"
      ]
     },
     "metadata": {},
     "output_type": "display_data"
    }
   ],
   "source": [
    "plt.plot(np.log(train_losses),color='blue')\n",
    "plt.plot(np.log(test_losses),color='red')\n",
    "plt.legend([\"training loss\",\"validation loss\"])\n",
    "plt.show()"
   ]
  },
  {
   "cell_type": "code",
   "execution_count": 21,
   "id": "86c5552b-9d87-4f74-a485-4f853956c421",
   "metadata": {},
   "outputs": [
    {
     "data": {
      "image/png": "[encoded data removed]",
      "text/plain": [
       "<Figure size 640x480 with 1 Axes>"
      ]
     },
     "metadata": {},
     "output_type": "display_data"
    }
   ],
   "source": [
    "plt.plot(r2_scores)\n",
    "plt.legend([\"r2_score\"])\n",
    "plt.show()"
   ]
  },
  {
   "cell_type": "code",
   "execution_count": 22,
   "id": "f76deecb-54ea-4dad-8878-e3f4351589ba",
   "metadata": {},
   "outputs": [
    {
     "data": {
      "image/png": "[encoded data removed]",
      "text/plain": [
       "<Figure size 640x480 with 1 Axes>"
      ]
     },
     "metadata": {},
     "output_type": "display_data"
    }
   ],
   "source": [
    "plt.plot(pearson_correlations)\n",
    "plt.legend([\"pearson_correlation\"])\n",
    "plt.show()"
   ]
  },
  {
   "cell_type": "code",
   "execution_count": 23,
   "id": "5dcc3734-46cb-4c88-8c1e-9805673dfcdf",
   "metadata": {
    "tags": []
   },
   "outputs": [
    {
     "name": "stdout",
     "output_type": "stream",
     "text": [
      "Pearson_Corr= 0.6853156685829163 | R2_Score= 0.46824193000793457\n"
     ]
    }
   ],
   "source": [
    "final_results=evaluate()\n",
    "print(\"Pearson_Corr=\",final_results[0],\"| R2_Score=\",final_results[1])"
   ]
  }
 ],
 "metadata": {
  "kernelspec": {
   "display_name": "Python 3 (ipykernel)",
   "language": "python",
   "name": "python3"
  },
  "language_info": {
   "codemirror_mode": {
    "name": "ipython",
    "version": 3
   },
   "file_extension": ".py",
   "mimetype": "text/x-python",
   "name": "python",
   "nbconvert_exporter": "python",
   "pygments_lexer": "ipython3",
   "version": "3.10.10"
  }
 },
 "nbformat": 4,
 "nbformat_minor": 5
}
