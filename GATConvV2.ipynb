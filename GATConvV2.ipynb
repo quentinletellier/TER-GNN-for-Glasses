{
 "cells": [
  {
   "cell_type": "code",
   "execution_count": 5,
   "id": "8e6ad197-cda4-4e22-846c-25e4ecbd6141",
   "metadata": {
    "tags": []
   },
   "outputs": [
    {
     "name": "stdout",
     "output_type": "stream",
     "text": [
      "Looking in links: https://data.pyg.org/whl/torch-2.0.0+cu117.html\n",
      "Requirement already satisfied: pyg_lib in /usr/local/lib/python3.10/dist-packages (0.2.0+pt20cu117)\n",
      "Requirement already satisfied: torch_scatter in /usr/local/lib/python3.10/dist-packages (2.1.1+pt20cu117)\n",
      "Requirement already satisfied: torch_sparse in /usr/local/lib/python3.10/dist-packages (0.6.17+pt20cu117)\n",
      "Requirement already satisfied: torch_cluster in /usr/local/lib/python3.10/dist-packages (1.6.1+pt20cu117)\n",
      "Requirement already satisfied: torch_spline_conv in /usr/local/lib/python3.10/dist-packages (1.2.2+pt20cu117)\n",
      "Requirement already satisfied: scipy in /usr/local/lib/python3.10/dist-packages (from torch_sparse) (1.10.1)\n",
      "Requirement already satisfied: numpy<1.27.0,>=1.19.5 in /usr/local/lib/python3.10/dist-packages (from scipy->torch_sparse) (1.24.2)\n",
      "\u001b[33mWARNING: Running pip as the 'root' user can result in broken permissions and conflicting behaviour with the system package manager. It is recommended to use a virtual environment instead: https://pip.pypa.io/warnings/venv\u001b[0m\u001b[33m\n",
      "\u001b[0m\n",
      "\u001b[1m[\u001b[0m\u001b[34;49mnotice\u001b[0m\u001b[1;39;49m]\u001b[0m\u001b[39;49m A new release of pip is available: \u001b[0m\u001b[31;49m23.0.1\u001b[0m\u001b[39;49m -> \u001b[0m\u001b[32;49m23.1.2\u001b[0m\n",
      "\u001b[1m[\u001b[0m\u001b[34;49mnotice\u001b[0m\u001b[1;39;49m]\u001b[0m\u001b[39;49m To update, run: \u001b[0m\u001b[32;49mpython -m pip install --upgrade pip\u001b[0m\n",
      "Note: you may need to restart the kernel to use updated packages.\n"
     ]
    }
   ],
   "source": [
    "pip install pyg_lib torch_scatter torch_sparse torch_cluster torch_spline_conv -f https://data.pyg.org/whl/torch-2.0.0+cu117.html"
   ]
  },
  {
   "cell_type": "code",
   "execution_count": 6,
   "id": "167779d4-5a01-408b-8aee-4d0d3f6f918b",
   "metadata": {
    "tags": []
   },
   "outputs": [
    {
     "name": "stdout",
     "output_type": "stream",
     "text": [
      "Requirement already satisfied: torch_geometric in /usr/local/lib/python3.10/dist-packages (2.3.1)\n",
      "Requirement already satisfied: scikit-learn in /usr/local/lib/python3.10/dist-packages (from torch_geometric) (1.2.2)\n",
      "Requirement already satisfied: jinja2 in /usr/local/lib/python3.10/dist-packages (from torch_geometric) (3.1.2)\n",
      "Requirement already satisfied: psutil>=5.8.0 in /usr/local/lib/python3.10/dist-packages (from torch_geometric) (5.9.4)\n",
      "Requirement already satisfied: pyparsing in /usr/local/lib/python3.10/dist-packages (from torch_geometric) (3.0.9)\n",
      "Requirement already satisfied: requests in /usr/local/lib/python3.10/dist-packages (from torch_geometric) (2.28.2)\n",
      "Requirement already satisfied: tqdm in /usr/local/lib/python3.10/dist-packages (from torch_geometric) (4.65.0)\n",
      "Requirement already satisfied: numpy in /usr/local/lib/python3.10/dist-packages (from torch_geometric) (1.24.2)\n",
      "Requirement already satisfied: scipy in /usr/local/lib/python3.10/dist-packages (from torch_geometric) (1.10.1)\n",
      "Requirement already satisfied: MarkupSafe>=2.0 in /usr/local/lib/python3.10/dist-packages (from jinja2->torch_geometric) (2.1.2)\n",
      "Requirement already satisfied: charset-normalizer<4,>=2 in /usr/local/lib/python3.10/dist-packages (from requests->torch_geometric) (3.1.0)\n",
      "Requirement already satisfied: certifi>=2017.4.17 in /usr/lib/python3/dist-packages (from requests->torch_geometric) (2019.11.28)\n",
      "Requirement already satisfied: idna<4,>=2.5 in /usr/lib/python3/dist-packages (from requests->torch_geometric) (2.8)\n",
      "Requirement already satisfied: urllib3<1.27,>=1.21.1 in /usr/lib/python3/dist-packages (from requests->torch_geometric) (1.25.8)\n",
      "Requirement already satisfied: threadpoolctl>=2.0.0 in /usr/local/lib/python3.10/dist-packages (from scikit-learn->torch_geometric) (3.1.0)\n",
      "Requirement already satisfied: joblib>=1.1.1 in /usr/local/lib/python3.10/dist-packages (from scikit-learn->torch_geometric) (1.2.0)\n",
      "\u001b[33mWARNING: Running pip as the 'root' user can result in broken permissions and conflicting behaviour with the system package manager. It is recommended to use a virtual environment instead: https://pip.pypa.io/warnings/venv\u001b[0m\u001b[33m\n",
      "\u001b[0m\n",
      "\u001b[1m[\u001b[0m\u001b[34;49mnotice\u001b[0m\u001b[1;39;49m]\u001b[0m\u001b[39;49m A new release of pip is available: \u001b[0m\u001b[31;49m23.0.1\u001b[0m\u001b[39;49m -> \u001b[0m\u001b[32;49m23.1.2\u001b[0m\n",
      "\u001b[1m[\u001b[0m\u001b[34;49mnotice\u001b[0m\u001b[1;39;49m]\u001b[0m\u001b[39;49m To update, run: \u001b[0m\u001b[32;49mpython -m pip install --upgrade pip\u001b[0m\n",
      "Note: you may need to restart the kernel to use updated packages.\n"
     ]
    }
   ],
   "source": [
    "pip install torch_geometric"
   ]
  },
  {
   "cell_type": "code",
   "execution_count": 7,
   "id": "506d86b1-f073-4dad-bb06-e9b454df166b",
   "metadata": {
    "tags": []
   },
   "outputs": [],
   "source": [
    "# import zipfile\n",
    "# from zipfile import ZipFile"
   ]
  },
  {
   "cell_type": "code",
   "execution_count": 8,
   "id": "8e7d5732-2364-4fa6-9ed1-c0b77a5efa2b",
   "metadata": {
    "tags": []
   },
   "outputs": [],
   "source": [
    "# zip = ZipFile('bapst-data-static-structure-in-glasses.zip')\n",
    "# zip.extractall()"
   ]
  },
  {
   "cell_type": "code",
   "execution_count": 9,
   "id": "342ca4e8-11fb-4ac7-b889-56098e8fd5ad",
   "metadata": {
    "tags": []
   },
   "outputs": [
    {
     "name": "stdout",
     "output_type": "stream",
     "text": [
      "Requirement already satisfied: pandas in /usr/local/lib/python3.10/dist-packages (2.0.1)\n",
      "Requirement already satisfied: matplotlib in /usr/local/lib/python3.10/dist-packages (3.7.1)\n",
      "Requirement already satisfied: torchmetrics in /usr/local/lib/python3.10/dist-packages (0.11.4)\n",
      "Requirement already satisfied: pytz>=2020.1 in /usr/local/lib/python3.10/dist-packages (from pandas) (2023.3)\n",
      "Requirement already satisfied: python-dateutil>=2.8.2 in /usr/local/lib/python3.10/dist-packages (from pandas) (2.8.2)\n",
      "Requirement already satisfied: tzdata>=2022.1 in /usr/local/lib/python3.10/dist-packages (from pandas) (2023.3)\n",
      "Requirement already satisfied: numpy>=1.21.0 in /usr/local/lib/python3.10/dist-packages (from pandas) (1.24.2)\n",
      "Requirement already satisfied: packaging>=20.0 in /usr/local/lib/python3.10/dist-packages (from matplotlib) (23.0)\n",
      "Requirement already satisfied: pillow>=6.2.0 in /usr/local/lib/python3.10/dist-packages (from matplotlib) (9.4.0)\n",
      "Requirement already satisfied: kiwisolver>=1.0.1 in /usr/local/lib/python3.10/dist-packages (from matplotlib) (1.4.4)\n",
      "Requirement already satisfied: fonttools>=4.22.0 in /usr/local/lib/python3.10/dist-packages (from matplotlib) (4.39.3)\n",
      "Requirement already satisfied: cycler>=0.10 in /usr/local/lib/python3.10/dist-packages (from matplotlib) (0.11.0)\n",
      "Requirement already satisfied: contourpy>=1.0.1 in /usr/local/lib/python3.10/dist-packages (from matplotlib) (1.0.7)\n",
      "Requirement already satisfied: pyparsing>=2.3.1 in /usr/local/lib/python3.10/dist-packages (from matplotlib) (3.0.9)\n",
      "Requirement already satisfied: torch>=1.8.1 in /usr/local/lib/python3.10/dist-packages (from torchmetrics) (2.0.0)\n",
      "Requirement already satisfied: six>=1.5 in /usr/lib/python3/dist-packages (from python-dateutil>=2.8.2->pandas) (1.14.0)\n",
      "Requirement already satisfied: networkx in /usr/local/lib/python3.10/dist-packages (from torch>=1.8.1->torchmetrics) (3.0)\n",
      "Requirement already satisfied: sympy in /usr/local/lib/python3.10/dist-packages (from torch>=1.8.1->torchmetrics) (1.11.1)\n",
      "Requirement already satisfied: jinja2 in /usr/local/lib/python3.10/dist-packages (from torch>=1.8.1->torchmetrics) (3.1.2)\n",
      "Requirement already satisfied: typing-extensions in /usr/local/lib/python3.10/dist-packages (from torch>=1.8.1->torchmetrics) (4.5.0)\n",
      "Requirement already satisfied: nvidia-cuda-nvrtc-cu11==11.7.99 in /usr/local/lib/python3.10/dist-packages (from torch>=1.8.1->torchmetrics) (11.7.99)\n",
      "Requirement already satisfied: nvidia-curand-cu11==10.2.10.91 in /usr/local/lib/python3.10/dist-packages (from torch>=1.8.1->torchmetrics) (10.2.10.91)\n",
      "Requirement already satisfied: nvidia-cusolver-cu11==11.4.0.1 in /usr/local/lib/python3.10/dist-packages (from torch>=1.8.1->torchmetrics) (11.4.0.1)\n",
      "Requirement already satisfied: nvidia-nccl-cu11==2.14.3 in /usr/local/lib/python3.10/dist-packages (from torch>=1.8.1->torchmetrics) (2.14.3)\n",
      "Requirement already satisfied: triton==2.0.0 in /usr/local/lib/python3.10/dist-packages (from torch>=1.8.1->torchmetrics) (2.0.0)\n",
      "Requirement already satisfied: nvidia-cuda-cupti-cu11==11.7.101 in /usr/local/lib/python3.10/dist-packages (from torch>=1.8.1->torchmetrics) (11.7.101)\n",
      "Requirement already satisfied: nvidia-nvtx-cu11==11.7.91 in /usr/local/lib/python3.10/dist-packages (from torch>=1.8.1->torchmetrics) (11.7.91)\n",
      "Requirement already satisfied: nvidia-cublas-cu11==11.10.3.66 in /usr/local/lib/python3.10/dist-packages (from torch>=1.8.1->torchmetrics) (11.10.3.66)\n",
      "Requirement already satisfied: nvidia-cufft-cu11==10.9.0.58 in /usr/local/lib/python3.10/dist-packages (from torch>=1.8.1->torchmetrics) (10.9.0.58)\n",
      "Requirement already satisfied: nvidia-cudnn-cu11==8.5.0.96 in /usr/local/lib/python3.10/dist-packages (from torch>=1.8.1->torchmetrics) (8.5.0.96)\n",
      "Requirement already satisfied: nvidia-cusparse-cu11==11.7.4.91 in /usr/local/lib/python3.10/dist-packages (from torch>=1.8.1->torchmetrics) (11.7.4.91)\n",
      "Requirement already satisfied: filelock in /usr/local/lib/python3.10/dist-packages (from torch>=1.8.1->torchmetrics) (3.10.7)\n",
      "Requirement already satisfied: nvidia-cuda-runtime-cu11==11.7.99 in /usr/local/lib/python3.10/dist-packages (from torch>=1.8.1->torchmetrics) (11.7.99)\n",
      "Requirement already satisfied: wheel in /usr/local/lib/python3.10/dist-packages (from nvidia-cublas-cu11==11.10.3.66->torch>=1.8.1->torchmetrics) (0.40.0)\n",
      "Requirement already satisfied: setuptools in /usr/local/lib/python3.10/dist-packages (from nvidia-cublas-cu11==11.10.3.66->torch>=1.8.1->torchmetrics) (67.6.1)\n",
      "Requirement already satisfied: lit in /usr/local/lib/python3.10/dist-packages (from triton==2.0.0->torch>=1.8.1->torchmetrics) (16.0.0)\n",
      "Requirement already satisfied: cmake in /usr/local/lib/python3.10/dist-packages (from triton==2.0.0->torch>=1.8.1->torchmetrics) (3.26.1)\n",
      "Requirement already satisfied: MarkupSafe>=2.0 in /usr/local/lib/python3.10/dist-packages (from jinja2->torch>=1.8.1->torchmetrics) (2.1.2)\n",
      "Requirement already satisfied: mpmath>=0.19 in /usr/local/lib/python3.10/dist-packages (from sympy->torch>=1.8.1->torchmetrics) (1.3.0)\n",
      "\u001b[33mWARNING: Running pip as the 'root' user can result in broken permissions and conflicting behaviour with the system package manager. It is recommended to use a virtual environment instead: https://pip.pypa.io/warnings/venv\u001b[0m\u001b[33m\n",
      "\u001b[0m\n",
      "\u001b[1m[\u001b[0m\u001b[34;49mnotice\u001b[0m\u001b[1;39;49m]\u001b[0m\u001b[39;49m A new release of pip is available: \u001b[0m\u001b[31;49m23.0.1\u001b[0m\u001b[39;49m -> \u001b[0m\u001b[32;49m23.1.2\u001b[0m\n",
      "\u001b[1m[\u001b[0m\u001b[34;49mnotice\u001b[0m\u001b[1;39;49m]\u001b[0m\u001b[39;49m To update, run: \u001b[0m\u001b[32;49mpython -m pip install --upgrade pip\u001b[0m\n"
     ]
    }
   ],
   "source": [
    "!pip install pandas matplotlib torchmetrics"
   ]
  },
  {
   "cell_type": "code",
   "execution_count": 10,
   "id": "4836c728-53bd-49c5-9954-80c134a955a1",
   "metadata": {
    "tags": []
   },
   "outputs": [],
   "source": [
    "import numpy as np # linear algebra\n",
    "import pandas as pd # data processing, CSV file I/O (e.g. pd.read_csv)\n",
    "import matplotlib.pyplot as plt\n",
    "import torch\n",
    "from torch import nn as nn\n",
    "from torch.nn import MSELoss\n",
    "import torch.nn.functional as F\n",
    "import torchmetrics\n",
    "from torchmetrics import MeanSquaredError,PearsonCorrCoef\n",
    "#!pip install torch-scatter torch-sparse torch-cluster torch-spline-conv torch-geometric --no-index --find-links=file:///torch-geometric\n",
    "from torch_geometric.loader import DataLoader\n",
    "from torch_geometric.data import Data,Dataset\n",
    "from torch_geometric.nn import GCNConv, GATConv,global_mean_pool,GATv2Conv\n",
    "from torch_geometric.nn.norm import BatchNorm\n",
    "from torch.optim.lr_scheduler import StepLR,ExponentialLR\n",
    "from torchmetrics import R2Score\n",
    "\n",
    "# Input data files are available in the read-only \"../input/\" directory\n",
    "# For example, running this (by clicking run or pressing Shift+Enter) will list all files under the input directory\n",
    "import matplotlib.pyplot as plt\n",
    "import os\n",
    "device=torch.device('cuda' if torch.cuda.is_available() else 'cpu')"
   ]
  },
  {
   "cell_type": "code",
   "execution_count": 11,
   "id": "406f774c-06bf-40ee-b665-8c3c21d23c15",
   "metadata": {
    "tags": []
   },
   "outputs": [],
   "source": [
    "dataset=[]\n",
    "for i in range(0,400):\n",
    "    dataset.append(torch.load(\"graphs/graph\"+str(i)+\".pt\"))\n",
    "    dataset[i].x=dataset[i].x.type(torch.float32)\n",
    "    dataset[i].edge_attr=dataset[i].edge_attr.type(torch.float32)"
   ]
  },
  {
   "cell_type": "code",
   "execution_count": 12,
   "id": "11e68a00-6337-4869-aeaf-6dd11c279f73",
   "metadata": {
    "tags": []
   },
   "outputs": [
    {
     "data": {
      "text/plain": [
       "Data(x=[4096, 1], edge_index=[2, 167710], edge_attr=[167710, 3], y=[4096, 1], pos=[4096, 3], e_pot=0, pair_pot=0, edge_targets=[167710, 1], delta_r_cage=[4096, 1])"
      ]
     },
     "execution_count": 12,
     "metadata": {},
     "output_type": "execute_result"
    }
   ],
   "source": [
    "dataset[0]"
   ]
  },
  {
   "cell_type": "code",
   "execution_count": 13,
   "id": "993a5f5c-faa3-4460-bc43-da7cd802fbf1",
   "metadata": {
    "tags": []
   },
   "outputs": [],
   "source": [
    "train_loader=DataLoader(dataset[:350],batch_size=10,shuffle=True)\n",
    "test_loader=DataLoader(dataset[350:],batch_size=10,shuffle=False)"
   ]
  },
  {
   "cell_type": "code",
   "execution_count": 14,
   "id": "9b870aeb-2e21-4ff4-a92e-86ef9a2ade4a",
   "metadata": {
    "tags": []
   },
   "outputs": [
    {
     "data": {
      "text/plain": [
       "device(type='cuda')"
      ]
     },
     "execution_count": 14,
     "metadata": {},
     "output_type": "execute_result"
    }
   ],
   "source": [
    "device"
   ]
  },
  {
   "cell_type": "code",
   "execution_count": 15,
   "id": "48af74d2-8f39-4d69-8e32-d7bd4f371380",
   "metadata": {
    "tags": []
   },
   "outputs": [],
   "source": [
    "pearson_correr=PearsonCorrCoef().to(device)\n",
    "r2_scorer=R2Score().to(device)"
   ]
  },
  {
   "cell_type": "code",
   "execution_count": 16,
   "id": "36e4392f-4818-4053-a037-053316b29a27",
   "metadata": {
    "tags": []
   },
   "outputs": [],
   "source": [
    "def evaluate():\n",
    "    model.eval()\n",
    "    outs=torch.empty(0).to(device)\n",
    "    ys=torch.empty(0).to(device)\n",
    "    for data in test_loader:\n",
    "        data=data.to(device)\n",
    "        out=model(data)\n",
    "        outs=torch.cat((outs,out.flatten()))\n",
    "        ys=torch.cat((ys,data.y.flatten()))\n",
    "        #data.cpu()\n",
    "    pearson=pearson_correr(outs,ys)\n",
    "    r2=r2_scorer(outs,ys)\n",
    "    return pearson.item(),r2.item()"
   ]
  },
  {
   "cell_type": "code",
   "execution_count": 17,
   "id": "f7c1d230-979c-4901-ac1d-75b645578834",
   "metadata": {
    "tags": []
   },
   "outputs": [],
   "source": [
    "class GATCONVModel(torch.nn.Module):\n",
    "    def __init__(self,hidden_dim=18,attention_heads=4,dropout_rate=0.05):\n",
    "        super(GATCONVModel,self).__init__()\n",
    "        torch.manual_seed(46)\n",
    "        self.encoder= nn.Sequential(\n",
    "            nn.Linear(3,hidden_dim),\n",
    "            nn.ReLU(),\n",
    "            nn.Linear(hidden_dim,hidden_dim),\n",
    "            nn.ReLU(),\n",
    "            # nn.Linear(hidden_dim,hidden_dim),\n",
    "            # nn.ReLU()\n",
    "        )\n",
    "        self.conv1=GATv2Conv(1,hidden_dim,heads=attention_heads,dropout=dropout_rate,edge_dim=hidden_dim)\n",
    "        self.conv2=GATv2Conv(hidden_dim*attention_heads,hidden_dim,heads=attention_heads,dropout=dropout_rate,edge_dim=hidden_dim)\n",
    "        # self.conv3=GATConv(hidden_dim*attention_heads,hidden_dim,heads=attention_heads,dropout=dropout_rate,edge_dim=hidden_dim)\n",
    "        self.decoder=nn.Sequential(\n",
    "            nn.Linear(hidden_dim*attention_heads,hidden_dim*attention_heads),\n",
    "            nn.ReLU(),\n",
    "            # nn.Linear(hidden_dim*attention_heads,hidden_dim*attention_heads),\n",
    "            # nn.ReLU(),\n",
    "            nn.Linear(hidden_dim*attention_heads,1)\n",
    "        )\n",
    "        #self.lin=nn.Linear(hidden_dim*attention_heads,1)\n",
    "        \n",
    "    def forward(self,data):\n",
    "        x,edge_index,edge_attr=data.x,data.edge_index,data.edge_attr\n",
    "        edge_attr=self.encoder(edge_attr)\n",
    "        x=self.conv1(x,edge_index,edge_attr)\n",
    "        #print(x.shape,x)\n",
    "        x=self.conv2(x,edge_index,edge_attr)\n",
    "        #print(x.shape,x)\n",
    "        # x=self.conv3(x,edge_index,edge_attr)\n",
    "        #x=self.lin(x)\n",
    "        x=self.decoder(x)\n",
    "        #print(x.shape,x)\n",
    "        return x"
   ]
  },
  {
   "cell_type": "code",
   "execution_count": 18,
   "id": "a1dd890b-4945-4d7f-8a0a-4031b973b1ae",
   "metadata": {
    "tags": []
   },
   "outputs": [
    {
     "name": "stdout",
     "output_type": "stream",
     "text": [
      "epoch: 1 | loss: 0.2657469777124269  | pearson_corr: 0.12623894214630127  | r2_score: -0.006047964096069336\n",
      "epoch: 2 | loss: 0.09482851539339338  | pearson_corr: 0.12764202058315277  | r2_score: 0.011705756187438965\n",
      "epoch: 3 | loss: 0.09407742576939719  | pearson_corr: 0.1829778552055359  | r2_score: 0.02168560028076172\n",
      "epoch: 4 | loss: 0.09296836448567254  | pearson_corr: 0.19992317259311676  | r2_score: 0.0266762375831604\n",
      "epoch: 5 | loss: 0.0924356541463307  | pearson_corr: 0.2033025175333023  | r2_score: 0.02747809886932373\n",
      "epoch: 6 | loss: 0.09205080611365182  | pearson_corr: 0.21592724323272705  | r2_score: 0.034905433654785156\n",
      "epoch: 7 | loss: 0.09224079762186323  | pearson_corr: 0.3389092981815338  | r2_score: 0.11451894044876099\n",
      "epoch: 8 | loss: 0.07923095087919917  | pearson_corr: 0.5782127976417542  | r2_score: 0.32790130376815796\n",
      "epoch: 9 | loss: 0.059739677820886884  | pearson_corr: 0.6422053575515747  | r2_score: 0.3059089779853821\n",
      "epoch: 10 | loss: 0.05878628875528063  | pearson_corr: 0.6567769050598145  | r2_score: 0.4224091172218323\n",
      "epoch: 11 | loss: 0.05715055401836123  | pearson_corr: 0.655442476272583  | r2_score: 0.42863142490386963\n",
      "epoch: 12 | loss: 0.056242242668356215  | pearson_corr: 0.6616459488868713  | r2_score: 0.3948588967323303\n",
      "epoch: 13 | loss: 0.05489660288606371  | pearson_corr: 0.6687995791435242  | r2_score: 0.42154020071029663\n",
      "epoch: 14 | loss: 0.05634226958666529  | pearson_corr: 0.6563329100608826  | r2_score: 0.360263466835022\n",
      "epoch: 15 | loss: 0.05650771281548909  | pearson_corr: 0.6665024161338806  | r2_score: 0.41019177436828613\n",
      "epoch: 16 | loss: 0.0559002582515989  | pearson_corr: 0.6649143695831299  | r2_score: 0.42512136697769165\n",
      "epoch: 17 | loss: 0.055844631365367346  | pearson_corr: 0.6667662262916565  | r2_score: 0.41878771781921387\n",
      "epoch: 18 | loss: 0.05402288266590664  | pearson_corr: 0.6735242605209351  | r2_score: 0.39779263734817505\n",
      "epoch: 19 | loss: 0.054243671468326024  | pearson_corr: 0.6772379279136658  | r2_score: 0.44145476818084717\n",
      "epoch: 20 | loss: 0.05340132862329483  | pearson_corr: 0.6759692430496216  | r2_score: 0.45145726203918457\n",
      "epoch: 21 | loss: 0.05279202237725258  | pearson_corr: 0.6752303838729858  | r2_score: 0.44902002811431885\n",
      "epoch: 22 | loss: 0.0523011503475053  | pearson_corr: 0.6790131330490112  | r2_score: 0.4567909240722656\n",
      "epoch: 23 | loss: 0.0521398375076907  | pearson_corr: 0.6803091764450073  | r2_score: 0.46171891689300537\n",
      "epoch: 24 | loss: 0.05225890204310417  | pearson_corr: 0.6822715401649475  | r2_score: 0.4225834012031555\n",
      "epoch: 25 | loss: 0.0536294338958604  | pearson_corr: 0.6787111163139343  | r2_score: 0.45519059896469116\n",
      "epoch: 26 | loss: 0.05214230716228485  | pearson_corr: 0.6820956468582153  | r2_score: 0.45973700284957886\n",
      "epoch: 27 | loss: 0.051557836149420055  | pearson_corr: 0.6833769679069519  | r2_score: 0.459306538105011\n",
      "epoch: 28 | loss: 0.05178843204464231  | pearson_corr: 0.6827217936515808  | r2_score: 0.46574467420578003\n",
      "epoch: 29 | loss: 0.05156670862010547  | pearson_corr: 0.6842857003211975  | r2_score: 0.4311545491218567\n",
      "epoch: 30 | loss: 0.052480991291148325  | pearson_corr: 0.680932343006134  | r2_score: 0.45294493436813354\n",
      "epoch: 31 | loss: 0.05167778187564441  | pearson_corr: 0.6828178763389587  | r2_score: 0.4622807502746582\n",
      "epoch: 32 | loss: 0.05240830555558205  | pearson_corr: 0.6841017603874207  | r2_score: 0.43210262060165405\n",
      "epoch: 33 | loss: 0.0529040552675724  | pearson_corr: 0.6772582530975342  | r2_score: 0.45738595724105835\n",
      "epoch: 34 | loss: 0.05186408907175064  | pearson_corr: 0.6841727495193481  | r2_score: 0.46755170822143555\n",
      "epoch: 35 | loss: 0.051950460778815405  | pearson_corr: 0.6838531494140625  | r2_score: 0.46727311611175537\n",
      "epoch: 36 | loss: 0.051518274630819046  | pearson_corr: 0.6863231062889099  | r2_score: 0.4701753854751587\n",
      "epoch: 37 | loss: 0.05161710189921515  | pearson_corr: 0.6857202649116516  | r2_score: 0.47017383575439453\n",
      "epoch: 38 | loss: 0.0512533110167299  | pearson_corr: 0.686055064201355  | r2_score: 0.46976906061172485\n",
      "epoch: 39 | loss: 0.05144747793674469  | pearson_corr: 0.6847613453865051  | r2_score: 0.4614962339401245\n",
      "epoch: 40 | loss: 0.05268298057573182  | pearson_corr: 0.6855221390724182  | r2_score: 0.45224303007125854\n",
      "epoch: 41 | loss: 0.051487980144364495  | pearson_corr: 0.6865774393081665  | r2_score: 0.467263400554657\n",
      "epoch: 42 | loss: 0.0510917492210865  | pearson_corr: 0.6858810782432556  | r2_score: 0.46169131994247437\n",
      "epoch: 43 | loss: 0.05102874381201608  | pearson_corr: 0.6889162659645081  | r2_score: 0.473125159740448\n",
      "epoch: 44 | loss: 0.05049082636833191  | pearson_corr: 0.6888948082923889  | r2_score: 0.4731256365776062\n",
      "epoch: 45 | loss: 0.050738362329346795  | pearson_corr: 0.6903827786445618  | r2_score: 0.4728873372077942\n",
      "epoch: 46 | loss: 0.05056311764887401  | pearson_corr: 0.6904246807098389  | r2_score: 0.47596603631973267\n",
      "epoch: 47 | loss: 0.05091606516923223  | pearson_corr: 0.6908047199249268  | r2_score: 0.4712809920310974\n",
      "epoch: 48 | loss: 0.050333409756422046  | pearson_corr: 0.6910014748573303  | r2_score: 0.4770975708961487\n",
      "epoch: 49 | loss: 0.050302953273057935  | pearson_corr: 0.691710889339447  | r2_score: 0.47668737173080444\n",
      "epoch: 50 | loss: 0.05043357663920948  | pearson_corr: 0.6918601989746094  | r2_score: 0.47723138332366943\n",
      "epoch: 51 | loss: 0.05062147166047778  | pearson_corr: 0.69227534532547  | r2_score: 0.47517770528793335\n",
      "epoch: 52 | loss: 0.05067749651415007  | pearson_corr: 0.6909899115562439  | r2_score: 0.4772741198539734\n",
      "epoch: 53 | loss: 0.05011643522552082  | pearson_corr: 0.6906399726867676  | r2_score: 0.4717387557029724\n",
      "epoch: 54 | loss: 0.05064471502389226  | pearson_corr: 0.6923736929893494  | r2_score: 0.47917085886001587\n",
      "epoch: 55 | loss: 0.05027131055082593  | pearson_corr: 0.6938226819038391  | r2_score: 0.475072979927063\n",
      "epoch: 56 | loss: 0.05029614844492503  | pearson_corr: 0.6942270994186401  | r2_score: 0.4778229594230652\n",
      "epoch: 57 | loss: 0.050437969927276886  | pearson_corr: 0.694049596786499  | r2_score: 0.4813805818557739\n",
      "epoch: 58 | loss: 0.05009567120245525  | pearson_corr: 0.6952160596847534  | r2_score: 0.48015397787094116\n",
      "epoch: 59 | loss: 0.049907478583710536  | pearson_corr: 0.6950457692146301  | r2_score: 0.48282390832901\n",
      "epoch: 60 | loss: 0.050087616805519375  | pearson_corr: 0.6944524049758911  | r2_score: 0.4773576259613037\n",
      "epoch: 61 | loss: 0.04983677438327244  | pearson_corr: 0.6960722804069519  | r2_score: 0.4802812933921814\n",
      "epoch: 62 | loss: 0.05057323638881956  | pearson_corr: 0.6941913366317749  | r2_score: 0.469562292098999\n",
      "epoch: 63 | loss: 0.05023607026253428  | pearson_corr: 0.6954647302627563  | r2_score: 0.48266303539276123\n",
      "epoch: 64 | loss: 0.04970579275063106  | pearson_corr: 0.6960984468460083  | r2_score: 0.48382115364074707\n",
      "epoch: 65 | loss: 0.04971618258527347  | pearson_corr: 0.6972067952156067  | r2_score: 0.46373337507247925\n",
      "epoch: 66 | loss: 0.050114336077656065  | pearson_corr: 0.6953407526016235  | r2_score: 0.47619402408599854\n",
      "epoch: 67 | loss: 0.049783935504300256  | pearson_corr: 0.6966114044189453  | r2_score: 0.4844217896461487\n",
      "epoch: 68 | loss: 0.049531658313104084  | pearson_corr: 0.6975833177566528  | r2_score: 0.4856116771697998\n",
      "epoch: 69 | loss: 0.05009303082312856  | pearson_corr: 0.6957522034645081  | r2_score: 0.4597567915916443\n",
      "epoch: 70 | loss: 0.050548769001449854  | pearson_corr: 0.6967536211013794  | r2_score: 0.48467791080474854\n",
      "epoch: 71 | loss: 0.0497274069913796  | pearson_corr: 0.6971935629844666  | r2_score: 0.4828771948814392\n",
      "epoch: 72 | loss: 0.04935262650251389  | pearson_corr: 0.6983226537704468  | r2_score: 0.4865226745605469\n",
      "epoch: 73 | loss: 0.04924350082874298  | pearson_corr: 0.6977895498275757  | r2_score: 0.48673129081726074\n",
      "epoch: 74 | loss: 0.04976620227098465  | pearson_corr: 0.6983538269996643  | r2_score: 0.4874006509780884\n",
      "epoch: 75 | loss: 0.04945660350578172  | pearson_corr: 0.6989099383354187  | r2_score: 0.4859517812728882\n",
      "epoch: 76 | loss: 0.049531668637480056  | pearson_corr: 0.6995396614074707  | r2_score: 0.4885985851287842\n",
      "epoch: 77 | loss: 0.050400814626898084  | pearson_corr: 0.6974697113037109  | r2_score: 0.48533791303634644\n",
      "epoch: 78 | loss: 0.05023863304938589  | pearson_corr: 0.6984230279922485  | r2_score: 0.48651939630508423\n",
      "epoch: 79 | loss: 0.04937738563333239  | pearson_corr: 0.6991937160491943  | r2_score: 0.4849269986152649\n",
      "epoch: 80 | loss: 0.04930444668446268  | pearson_corr: 0.7001492381095886  | r2_score: 0.48219364881515503\n",
      "epoch: 81 | loss: 0.04903983356697219  | pearson_corr: 0.7000784277915955  | r2_score: 0.4877309203147888\n",
      "epoch: 82 | loss: 0.049262913316488265  | pearson_corr: 0.7007208466529846  | r2_score: 0.4807443618774414\n",
      "epoch: 83 | loss: 0.04908999098198755  | pearson_corr: 0.7006722688674927  | r2_score: 0.4827319383621216\n",
      "epoch: 84 | loss: 0.04907148363334792  | pearson_corr: 0.7011308670043945  | r2_score: 0.48138171434402466\n",
      "epoch: 85 | loss: 0.04919559444699969  | pearson_corr: 0.7005347609519958  | r2_score: 0.4903303384780884\n",
      "epoch: 86 | loss: 0.04911973508340972  | pearson_corr: 0.7006281614303589  | r2_score: 0.4908061623573303\n",
      "epoch: 87 | loss: 0.04904392819319452  | pearson_corr: 0.7007076740264893  | r2_score: 0.4890766739845276\n",
      "epoch: 88 | loss: 0.049136719426938466  | pearson_corr: 0.7008835077285767  | r2_score: 0.49120402336120605\n",
      "epoch: 89 | loss: 0.04925308025309018  | pearson_corr: 0.7015889883041382  | r2_score: 0.4849103093147278\n",
      "epoch: 90 | loss: 0.049041771462985446  | pearson_corr: 0.7009658217430115  | r2_score: 0.4902922511100769\n",
      "epoch: 91 | loss: 0.04899293322648321  | pearson_corr: 0.7019267678260803  | r2_score: 0.48871397972106934\n",
      "epoch: 92 | loss: 0.04884110987186432  | pearson_corr: 0.7017987966537476  | r2_score: 0.4915376305580139\n",
      "epoch: 93 | loss: 0.04904359110764095  | pearson_corr: 0.7021006941795349  | r2_score: 0.48710888624191284\n",
      "epoch: 94 | loss: 0.04910347802298409  | pearson_corr: 0.7025006413459778  | r2_score: 0.48663783073425293\n",
      "epoch: 95 | loss: 0.048957480915955136  | pearson_corr: 0.7020840048789978  | r2_score: 0.48538994789123535\n",
      "epoch: 96 | loss: 0.0488931122635092  | pearson_corr: 0.7026289105415344  | r2_score: 0.48252445459365845\n",
      "epoch: 97 | loss: 0.049119233552898676  | pearson_corr: 0.7028133869171143  | r2_score: 0.4889081120491028\n",
      "epoch: 98 | loss: 0.04878397520099367  | pearson_corr: 0.7029569149017334  | r2_score: 0.4924386739730835\n",
      "epoch: 99 | loss: 0.04883824331419809  | pearson_corr: 0.7026960849761963  | r2_score: 0.4895661473274231\n"
     ]
    }
   ],
   "source": [
    "loss_fn=MSELoss()\n",
    "model=GATCONVModel().to(device)\n",
    "optimizer=torch.optim.Adam(model.parameters(),lr=0.02,weight_decay=5e-6)\n",
    "scheduler = StepLR(optimizer,step_size=20, gamma=0.5)\n",
    "train_losses=[]\n",
    "test_losses=[]\n",
    "for epoch in range(100):\n",
    "    if epoch%1==0 and epoch!=0:\n",
    "        print(\"epoch:\",epoch,\"| loss:\",train_losses[-1],\" | pearson_corr:\",evaluate()[0],\" | r2_score:\",evaluate()[1])\n",
    "    batch_losses=[]\n",
    "    model.train()\n",
    "    for data in train_loader:\n",
    "        data=data.to(device)\n",
    "        optimizer.zero_grad()\n",
    "        out=model(data)\n",
    "        loss=loss_fn(out,data.y)\n",
    "        loss.backward()\n",
    "        optimizer.step()\n",
    "        batch_losses.append(loss.item())\n",
    "        #data.cpu()\n",
    "    train_losses.append(np.mean(batch_losses))\n",
    "    \n",
    "    model.eval()\n",
    "    batch_losses=[]\n",
    "    for data in test_loader:\n",
    "        data=data.to(device)\n",
    "        out=model(data)\n",
    "        loss=loss_fn(out,data.y)\n",
    "        batch_losses.append(loss.item())\n",
    "        #data.cpu()\n",
    "    test_losses.append(np.mean(batch_losses))\n",
    "    scheduler.step()"
   ]
  },
  {
   "cell_type": "code",
   "execution_count": 19,
   "id": "e7de20f6-cb11-4094-83a4-aa80586e1347",
   "metadata": {
    "tags": []
   },
   "outputs": [
    {
     "data": {
      "image/png": "[encoded data removed]",
      "text/plain": [
       "<Figure size 640x480 with 1 Axes>"
      ]
     },
     "metadata": {},
     "output_type": "display_data"
    }
   ],
   "source": [
    "plt.plot(np.log(train_losses),color='blue')\n",
    "plt.plot(np.log(test_losses),color='red')\n",
    "plt.legend([\"training loss\",\"validation loss\"])\n",
    "plt.show()"
   ]
  },
  {
   "cell_type": "code",
   "execution_count": 20,
   "id": "5dcc3734-46cb-4c88-8c1e-9805673dfcdf",
   "metadata": {
    "tags": []
   },
   "outputs": [
    {
     "name": "stdout",
     "output_type": "stream",
     "text": [
      "Pearson_Corr= 0.7029634714126587 | R2_Score= 0.49242615699768066\n"
     ]
    }
   ],
   "source": [
    "final_results=evaluate()\n",
    "print(\"Pearson_Corr=\",final_results[0],\"| R2_Score=\",final_results[1])"
   ]
  }
 ],
 "metadata": {
  "kernelspec": {
   "display_name": "Python 3 (ipykernel)",
   "language": "python",
   "name": "python3"
  },
  "language_info": {
   "codemirror_mode": {
    "name": "ipython",
    "version": 3
   },
   "file_extension": ".py",
   "mimetype": "text/x-python",
   "name": "python",
   "nbconvert_exporter": "python",
   "pygments_lexer": "ipython3",
   "version": "3.10.10"
  }
 },
 "nbformat": 4,
 "nbformat_minor": 5
}
