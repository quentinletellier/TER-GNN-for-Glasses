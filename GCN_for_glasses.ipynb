{
 "cells": [
  {
   "cell_type": "code",
   "execution_count": 1,
   "id": "7080d5b9",
   "metadata": {
    "_cell_guid": "b1076dfc-b9ad-4769-8c92-a6c4dae69d19",
    "_uuid": "8f2839f25d086af736a60e9eeb907d3b93b6e0e5",
    "execution": {
     "iopub.execute_input": "2023-04-29T09:36:52.985750Z",
     "iopub.status.busy": "2023-04-29T09:36:52.985297Z",
     "iopub.status.idle": "2023-04-29T09:37:12.453638Z",
     "shell.execute_reply": "2023-04-29T09:37:12.452487Z"
    },
    "papermill": {
     "duration": 19.477551,
     "end_time": "2023-04-29T09:37:12.456608",
     "exception": false,
     "start_time": "2023-04-29T09:36:52.979057",
     "status": "completed"
    },
    "tags": []
   },
   "outputs": [
    {
     "name": "stdout",
     "output_type": "stream",
     "text": [
      "Looking in links: file:///kaggle/input/torch-geometric\r\n",
      "Processing /kaggle/input/torch-geometric/torch_scatter-2.1.0-cp37-cp37m-linux_x86_64.whl\r\n",
      "Processing /kaggle/input/torch-geometric/torch_sparse-0.6.16-cp37-cp37m-linux_x86_64.whl\r\n",
      "Processing /kaggle/input/torch-geometric/torch_cluster-1.6.0-cp37-cp37m-linux_x86_64.whl\r\n",
      "Processing /kaggle/input/torch-geometric/torch_spline_conv-1.2.1-cp37-cp37m-linux_x86_64.whl\r\n",
      "Processing /kaggle/input/torch-geometric/torch_geometric-2.2.0-py3-none-any.whl\r\n",
      "Requirement already satisfied: scipy in /opt/conda/lib/python3.7/site-packages (from torch-sparse) (1.7.3)\r\n",
      "Requirement already satisfied: jinja2 in /opt/conda/lib/python3.7/site-packages (from torch-geometric) (3.1.2)\r\n",
      "Requirement already satisfied: numpy in /opt/conda/lib/python3.7/site-packages (from torch-geometric) (1.21.6)\r\n",
      "Requirement already satisfied: pyparsing in /opt/conda/lib/python3.7/site-packages (from torch-geometric) (3.0.9)\r\n",
      "Requirement already satisfied: requests in /opt/conda/lib/python3.7/site-packages (from torch-geometric) (2.28.2)\r\n",
      "Requirement already satisfied: psutil>=5.8.0 in /opt/conda/lib/python3.7/site-packages (from torch-geometric) (5.9.3)\r\n",
      "Requirement already satisfied: scikit-learn in /opt/conda/lib/python3.7/site-packages (from torch-geometric) (1.0.2)\r\n",
      "Requirement already satisfied: tqdm in /opt/conda/lib/python3.7/site-packages (from torch-geometric) (4.64.1)\r\n",
      "Requirement already satisfied: MarkupSafe>=2.0 in /opt/conda/lib/python3.7/site-packages (from jinja2->torch-geometric) (2.1.1)\r\n",
      "Requirement already satisfied: idna<4,>=2.5 in /opt/conda/lib/python3.7/site-packages (from requests->torch-geometric) (3.4)\r\n",
      "Requirement already satisfied: charset-normalizer<4,>=2 in /opt/conda/lib/python3.7/site-packages (from requests->torch-geometric) (2.1.1)\r\n",
      "Requirement already satisfied: certifi>=2017.4.17 in /opt/conda/lib/python3.7/site-packages (from requests->torch-geometric) (2022.12.7)\r\n",
      "Requirement already satisfied: urllib3<1.27,>=1.21.1 in /opt/conda/lib/python3.7/site-packages (from requests->torch-geometric) (1.26.14)\r\n",
      "Requirement already satisfied: joblib>=0.11 in /opt/conda/lib/python3.7/site-packages (from scikit-learn->torch-geometric) (1.2.0)\r\n",
      "Requirement already satisfied: threadpoolctl>=2.0.0 in /opt/conda/lib/python3.7/site-packages (from scikit-learn->torch-geometric) (3.1.0)\r\n",
      "Installing collected packages: torch-spline-conv, torch-scatter, torch-cluster, torch-sparse, torch-geometric\r\n",
      "Successfully installed torch-cluster-1.6.0 torch-geometric-2.2.0 torch-scatter-2.1.0 torch-sparse-0.6.16 torch-spline-conv-1.2.1\r\n",
      "\u001b[33mWARNING: Running pip as the 'root' user can result in broken permissions and conflicting behaviour with the system package manager. It is recommended to use a virtual environment instead: https://pip.pypa.io/warnings/venv\u001b[0m\u001b[33m\r\n",
      "\u001b[0m"
     ]
    }
   ],
   "source": [
    "import numpy as np # linear algebra\n",
    "import pandas as pd # data processing, CSV file I/O (e.g. pd.read_csv)\n",
    "import matplotlib.pyplot as plt\n",
    "import torch\n",
    "from torch.nn import MSELoss\n",
    "import torch.nn.functional as F\n",
    "import torchmetrics\n",
    "from torchmetrics import MeanSquaredError,PearsonCorrCoef\n",
    "!pip install torch-scatter torch-sparse torch-cluster torch-spline-conv torch-geometric --no-index --find-links=file:///kaggle/input/torch-geometric\n",
    "from torch_geometric.loader import DataLoader\n",
    "from torch_geometric.data import Data,Dataset\n",
    "from torch_geometric.nn import GCNConv, GATConv,global_mean_pool\n",
    "from torch_geometric.nn.norm import BatchNorm\n",
    "from torch.optim.lr_scheduler import StepLR\n",
    "\n",
    "# Input data files are available in the read-only \"../input/\" directory\n",
    "# For example, running this (by clicking run or pressing Shift+Enter) will list all files under the input directory\n",
    "import matplotlib.pyplot as plt\n",
    "import os\n",
    "device=torch.device('cuda' if torch.cuda.is_available() else 'cpu')"
   ]
  },
  {
   "cell_type": "code",
   "execution_count": 2,
   "id": "580e753d",
   "metadata": {
    "execution": {
     "iopub.execute_input": "2023-04-29T09:37:12.467027Z",
     "iopub.status.busy": "2023-04-29T09:37:12.466690Z",
     "iopub.status.idle": "2023-04-29T09:37:36.829361Z",
     "shell.execute_reply": "2023-04-29T09:37:36.828244Z"
    },
    "papermill": {
     "duration": 24.370602,
     "end_time": "2023-04-29T09:37:36.831836",
     "exception": false,
     "start_time": "2023-04-29T09:37:12.461234",
     "status": "completed"
    },
    "tags": []
   },
   "outputs": [],
   "source": [
    "dataset=[]\n",
    "for i in range(0,400):\n",
    "    dataset.append(torch.load(\"/kaggle/input/bapst-data-static-structure-in-glasses/graphs/graph\"+str(i)+\".pt\"))\n",
    "    dataset[i].x=dataset[i].x.type(torch.float32)\n",
    "    dataset[i].edge_attr=dataset[i].edge_attr.type(torch.float32)"
   ]
  },
  {
   "cell_type": "code",
   "execution_count": 3,
   "id": "9c119af4",
   "metadata": {
    "execution": {
     "iopub.execute_input": "2023-04-29T09:37:36.842083Z",
     "iopub.status.busy": "2023-04-29T09:37:36.841479Z",
     "iopub.status.idle": "2023-04-29T09:37:36.851173Z",
     "shell.execute_reply": "2023-04-29T09:37:36.850110Z"
    },
    "papermill": {
     "duration": 0.017066,
     "end_time": "2023-04-29T09:37:36.853385",
     "exception": false,
     "start_time": "2023-04-29T09:37:36.836319",
     "status": "completed"
    },
    "tags": []
   },
   "outputs": [
    {
     "data": {
      "text/plain": [
       "Data(x=[4096, 1], edge_index=[2, 167710], edge_attr=[167710, 3], y=[4096, 1], pos=[4096, 3], e_pot=0, pair_pot=0, edge_targets=[167710, 1], delta_r_cage=[4096, 1])"
      ]
     },
     "execution_count": 3,
     "metadata": {},
     "output_type": "execute_result"
    }
   ],
   "source": [
    "dataset[0]"
   ]
  },
  {
   "cell_type": "code",
   "execution_count": 4,
   "id": "51b39d3a",
   "metadata": {
    "execution": {
     "iopub.execute_input": "2023-04-29T09:37:36.863674Z",
     "iopub.status.busy": "2023-04-29T09:37:36.862811Z",
     "iopub.status.idle": "2023-04-29T09:37:36.870270Z",
     "shell.execute_reply": "2023-04-29T09:37:36.869291Z"
    },
    "papermill": {
     "duration": 0.015021,
     "end_time": "2023-04-29T09:37:36.872699",
     "exception": false,
     "start_time": "2023-04-29T09:37:36.857678",
     "status": "completed"
    },
    "tags": []
   },
   "outputs": [],
   "source": [
    "train_loader=DataLoader(dataset[:350],batch_size=50,shuffle=True)\n",
    "test_loader=DataLoader(dataset[350:],batch_size=50,shuffle=False)"
   ]
  },
  {
   "cell_type": "code",
   "execution_count": 7,
   "id": "22eda7e7",
   "metadata": {
    "execution": {
     "iopub.execute_input": "2023-04-29T09:37:36.914310Z",
     "iopub.status.busy": "2023-04-29T09:37:36.914044Z",
     "iopub.status.idle": "2023-04-29T09:37:36.924139Z",
     "shell.execute_reply": "2023-04-29T09:37:36.923211Z"
    },
    "papermill": {
     "duration": 0.01719,
     "end_time": "2023-04-29T09:37:36.926245",
     "exception": false,
     "start_time": "2023-04-29T09:37:36.909055",
     "status": "completed"
    },
    "tags": []
   },
   "outputs": [],
   "source": [
    "class GCN(torch.nn.Module):\n",
    "    def __init__(self,hidden_dim,heads=8):\n",
    "        super(GCN,self).__init__()\n",
    "        torch.manual_seed(12345)\n",
    "        self.conv1=GCNConv(1,hidden_dim,normalize=True,improved=True)\n",
    "        self.conv2=GCNConv(hidden_dim,hidden_dim,normalize=True,improved=True)\n",
    "        self.conv3=GCNConv(hidden_dim,hidden_dim,normalize=True,improved=True)\n",
    "        self.lin1=torch.nn.Linear(hidden_dim,1)\n",
    "        \n",
    "    def forward(self,data):\n",
    "        x,edge_index,edge_attr,batch=data.x,data.edge_index,F.normalize(data.edge_attr.mean(1),p=2.0,dim=0),data.batch\n",
    "        x=self.conv1(x,edge_index,edge_attr)\n",
    "        x=x.relu()\n",
    "        x=F.dropout(x,p=0.5,training=self.training)\n",
    "        x=self.conv2(x,edge_index,edge_attr)\n",
    "        x=x.relu()\n",
    "        x=F.dropout(x,p=0.5,training=self.training)\n",
    "        x=self.conv3(x,edge_index,edge_attr)\n",
    "        x=x.relu()\n",
    "        x=F.dropout(x,p=0.5,training=self.training)\n",
    "        x=self.lin1(x)\n",
    "        return x"
   ]
  },
  {
   "cell_type": "code",
   "execution_count": 8,
   "id": "ba811c1e",
   "metadata": {
    "execution": {
     "iopub.execute_input": "2023-04-29T09:37:36.935978Z",
     "iopub.status.busy": "2023-04-29T09:37:36.935680Z",
     "iopub.status.idle": "2023-04-29T09:37:40.654139Z",
     "shell.execute_reply": "2023-04-29T09:37:40.653061Z"
    },
    "papermill": {
     "duration": 3.726488,
     "end_time": "2023-04-29T09:37:40.657009",
     "exception": false,
     "start_time": "2023-04-29T09:37:36.930521",
     "status": "completed"
    },
    "tags": []
   },
   "outputs": [],
   "source": [
    "pearson_corr=PearsonCorrCoef().to(device)"
   ]
  },
  {
   "cell_type": "code",
   "execution_count": 9,
   "id": "a7b6d8b0",
   "metadata": {
    "execution": {
     "iopub.execute_input": "2023-04-29T09:37:40.667825Z",
     "iopub.status.busy": "2023-04-29T09:37:40.667455Z",
     "iopub.status.idle": "2023-04-29T09:37:40.675498Z",
     "shell.execute_reply": "2023-04-29T09:37:40.674554Z"
    },
    "papermill": {
     "duration": 0.015758,
     "end_time": "2023-04-29T09:37:40.677697",
     "exception": false,
     "start_time": "2023-04-29T09:37:40.661939",
     "status": "completed"
    },
    "tags": []
   },
   "outputs": [
    {
     "data": {
      "text/plain": [
       "tensor([])"
      ]
     },
     "execution_count": 9,
     "metadata": {},
     "output_type": "execute_result"
    }
   ],
   "source": [
    "empty=torch.empty(0)\n",
    "empty"
   ]
  },
  {
   "cell_type": "code",
   "execution_count": 12,
   "id": "9de08505",
   "metadata": {
    "execution": {
     "iopub.execute_input": "2023-04-29T09:37:40.720321Z",
     "iopub.status.busy": "2023-04-29T09:37:40.720059Z",
     "iopub.status.idle": "2023-04-29T09:37:40.725941Z",
     "shell.execute_reply": "2023-04-29T09:37:40.724927Z"
    },
    "papermill": {
     "duration": 0.013181,
     "end_time": "2023-04-29T09:37:40.728180",
     "exception": false,
     "start_time": "2023-04-29T09:37:40.714999",
     "status": "completed"
    },
    "tags": []
   },
   "outputs": [],
   "source": [
    "def evaluate():\n",
    "    model.eval()\n",
    "    outs=torch.empty(0).to(device)\n",
    "    ys=torch.empty(0).to(device)\n",
    "    for data in test_loader:\n",
    "        data=data.to(device)\n",
    "        out=model(data)\n",
    "        outs=torch.cat((outs,out.flatten()))\n",
    "        ys=torch.cat((ys,data.y.flatten()))\n",
    "    pearson=pearson_corr(outs,ys)\n",
    "    return(pearson.item())"
   ]
  },
  {
   "cell_type": "code",
   "execution_count": 13,
   "id": "ff1762c9",
   "metadata": {
    "execution": {
     "iopub.execute_input": "2023-04-29T09:37:40.738636Z",
     "iopub.status.busy": "2023-04-29T09:37:40.737825Z",
     "iopub.status.idle": "2023-04-29T09:38:22.226366Z",
     "shell.execute_reply": "2023-04-29T09:38:22.225222Z"
    },
    "papermill": {
     "duration": 41.496867,
     "end_time": "2023-04-29T09:38:22.229268",
     "exception": false,
     "start_time": "2023-04-29T09:37:40.732401",
     "status": "completed"
    },
    "tags": []
   },
   "outputs": [
    {
     "name": "stdout",
     "output_type": "stream",
     "text": [
      "GCN(\n",
      "  (conv1): GCNConv(1, 32)\n",
      "  (conv2): GCNConv(32, 32)\n",
      "  (conv3): GCNConv(32, 32)\n",
      "  (lin1): Linear(in_features=32, out_features=1, bias=True)\n",
      ")\n",
      "epoch: 1 | loss: 0.3777825747217451  | pearson_corr: 0.5995856523513794\n",
      "epoch: 2 | loss: 0.3206470991883959  | pearson_corr: 0.5995855927467346\n",
      "epoch: 3 | loss: 0.2649789537702288  | pearson_corr: 0.599585771560669\n",
      "epoch: 4 | loss: 0.21273443315710341  | pearson_corr: 0.5995849370956421\n",
      "epoch: 5 | loss: 0.17163683686937606  | pearson_corr: 0.5995851755142212\n",
      "epoch: 6 | loss: 0.14742144090788706  | pearson_corr: 0.5995849967002869\n",
      "epoch: 7 | loss: 0.13612889179161616  | pearson_corr: 0.5995849967002869\n",
      "epoch: 8 | loss: 0.12762241597686494  | pearson_corr: 0.5995851755142212\n",
      "epoch: 9 | loss: 0.12041520965950829  | pearson_corr: 0.5995844602584839\n"
     ]
    }
   ],
   "source": [
    "loss_fn=MSELoss()\n",
    "model=GCN(32).to(device)\n",
    "print(model)\n",
    "optimizer=torch.optim.Adam(model.parameters(),lr=0.001,weight_decay=5e-4)\n",
    "scheduler = StepLR(optimizer,step_size=10, gamma=0.1)\n",
    "\n",
    "evaluate()\n",
    "\n",
    "train_losses=[]\n",
    "test_losses=[]\n",
    "for epoch in range(10):\n",
    "    if epoch%1==0 and epoch!=0:\n",
    "        print(\"epoch:\",epoch,\"| loss:\",train_losses[-1],\" | pearson_corr:\",evaluate())\n",
    "    batch_losses=[]\n",
    "    model.train()\n",
    "    for data in train_loader:\n",
    "        data=data.to(device)\n",
    "        optimizer.zero_grad()\n",
    "        out=model(data)\n",
    "        loss=loss_fn(out,data.y)\n",
    "        loss.backward()\n",
    "        optimizer.step()\n",
    "        batch_losses.append(loss.item())\n",
    "    train_losses.append(np.mean(batch_losses))\n",
    "    \n",
    "    model.eval()\n",
    "    batch_losses=[]\n",
    "    for data in test_loader:\n",
    "        data=data.to(device)\n",
    "        out=model(data)\n",
    "        loss=loss_fn(out,data.y)\n",
    "        batch_losses.append(loss.item())\n",
    "    test_losses.append(np.mean(batch_losses))\n",
    "    scheduler.step()"
   ]
  },
  {
   "cell_type": "code",
   "execution_count": 14,
   "id": "b15c6a8f",
   "metadata": {
    "execution": {
     "iopub.execute_input": "2023-04-29T09:38:22.241035Z",
     "iopub.status.busy": "2023-04-29T09:38:22.240709Z",
     "iopub.status.idle": "2023-04-29T09:38:22.479834Z",
     "shell.execute_reply": "2023-04-29T09:38:22.478772Z"
    },
    "papermill": {
     "duration": 0.247729,
     "end_time": "2023-04-29T09:38:22.482143",
     "exception": false,
     "start_time": "2023-04-29T09:38:22.234414",
     "status": "completed"
    },
    "tags": []
   },
   "outputs": [
    {
     "data": {
      "image/png": "[encoded data removed]",
      "text/plain": [
       "<Figure size 640x480 with 1 Axes>"
      ]
     },
     "metadata": {},
     "output_type": "display_data"
    }
   ],
   "source": [
    "plt.plot(train_losses,color='blue')\n",
    "plt.plot(test_losses,color='red')\n",
    "plt.legend([\"training loss\",\"validation loss\"])\n",
    "plt.show()"
   ]
  },
  {
   "cell_type": "code",
   "execution_count": 15,
   "id": "dcb565aa",
   "metadata": {
    "execution": {
     "iopub.execute_input": "2023-04-29T09:38:22.494094Z",
     "iopub.status.busy": "2023-04-29T09:38:22.493577Z",
     "iopub.status.idle": "2023-04-29T09:38:22.901322Z",
     "shell.execute_reply": "2023-04-29T09:38:22.900285Z"
    },
    "papermill": {
     "duration": 0.416533,
     "end_time": "2023-04-29T09:38:22.903982",
     "exception": false,
     "start_time": "2023-04-29T09:38:22.487449",
     "status": "completed"
    },
    "tags": []
   },
   "outputs": [
    {
     "data": {
      "text/plain": [
       "0.5995839238166809"
      ]
     },
     "execution_count": 15,
     "metadata": {},
     "output_type": "execute_result"
    }
   ],
   "source": [
    "evaluate()"
   ]
  }
 ],
 "metadata": {
  "kernelspec": {
   "display_name": "Python 3",
   "language": "python",
   "name": "python3"
  },
  "language_info": {
   "codemirror_mode": {
    "name": "ipython",
    "version": 3
   },
   "file_extension": ".py",
   "mimetype": "text/x-python",
   "name": "python",
   "nbconvert_exporter": "python",
   "pygments_lexer": "ipython3",
   "version": "3.7.12"
  },
  "papermill": {
   "default_parameters": {},
   "duration": 101.8697,
   "end_time": "2023-04-29T09:38:25.630595",
   "environment_variables": {},
   "exception": null,
   "input_path": "__notebook__.ipynb",
   "output_path": "__notebook__.ipynb",
   "parameters": {},
   "start_time": "2023-04-29T09:36:43.760895",
   "version": "2.4.0"
  }
 },
 "nbformat": 4,
 "nbformat_minor": 5
}
