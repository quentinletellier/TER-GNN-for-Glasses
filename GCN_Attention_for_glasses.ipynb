{
 "cells": [
  {
   "cell_type": "code",
   "execution_count": 1,
   "id": "946212b4",
   "metadata": {
    "_cell_guid": "b1076dfc-b9ad-4769-8c92-a6c4dae69d19",
    "_uuid": "8f2839f25d086af736a60e9eeb907d3b93b6e0e5",
    "execution": {
     "iopub.execute_input": "2023-05-06T23:45:21.331437Z",
     "iopub.status.busy": "2023-05-06T23:45:21.330486Z",
     "iopub.status.idle": "2023-05-06T23:45:40.673295Z",
     "shell.execute_reply": "2023-05-06T23:45:40.672226Z"
    },
    "papermill": {
     "duration": 19.352658,
     "end_time": "2023-05-06T23:45:40.676413",
     "exception": false,
     "start_time": "2023-05-06T23:45:21.323755",
     "status": "completed"
    },
    "tags": []
   },
   "outputs": [
    {
     "name": "stdout",
     "output_type": "stream",
     "text": [
      "Looking in links: file:///kaggle/input/torch-geometric\r\n",
      "Processing /kaggle/input/torch-geometric/torch_scatter-2.1.0-cp37-cp37m-linux_x86_64.whl\r\n",
      "Processing /kaggle/input/torch-geometric/torch_sparse-0.6.16-cp37-cp37m-linux_x86_64.whl\r\n",
      "Processing /kaggle/input/torch-geometric/torch_cluster-1.6.0-cp37-cp37m-linux_x86_64.whl\r\n",
      "Processing /kaggle/input/torch-geometric/torch_spline_conv-1.2.1-cp37-cp37m-linux_x86_64.whl\r\n",
      "Processing /kaggle/input/torch-geometric/torch_geometric-2.2.0-py3-none-any.whl\r\n",
      "Requirement already satisfied: scipy in /opt/conda/lib/python3.7/site-packages (from torch-sparse) (1.7.3)\r\n",
      "Requirement already satisfied: numpy in /opt/conda/lib/python3.7/site-packages (from torch-geometric) (1.21.6)\r\n",
      "Requirement already satisfied: scikit-learn in /opt/conda/lib/python3.7/site-packages (from torch-geometric) (1.0.2)\r\n",
      "Requirement already satisfied: psutil>=5.8.0 in /opt/conda/lib/python3.7/site-packages (from torch-geometric) (5.9.3)\r\n",
      "Requirement already satisfied: tqdm in /opt/conda/lib/python3.7/site-packages (from torch-geometric) (4.64.1)\r\n",
      "Requirement already satisfied: jinja2 in /opt/conda/lib/python3.7/site-packages (from torch-geometric) (3.1.2)\r\n",
      "Requirement already satisfied: pyparsing in /opt/conda/lib/python3.7/site-packages (from torch-geometric) (3.0.9)\r\n",
      "Requirement already satisfied: requests in /opt/conda/lib/python3.7/site-packages (from torch-geometric) (2.28.2)\r\n",
      "Requirement already satisfied: MarkupSafe>=2.0 in /opt/conda/lib/python3.7/site-packages (from jinja2->torch-geometric) (2.1.1)\r\n",
      "Requirement already satisfied: certifi>=2017.4.17 in /opt/conda/lib/python3.7/site-packages (from requests->torch-geometric) (2022.12.7)\r\n",
      "Requirement already satisfied: charset-normalizer<4,>=2 in /opt/conda/lib/python3.7/site-packages (from requests->torch-geometric) (2.1.1)\r\n",
      "Requirement already satisfied: idna<4,>=2.5 in /opt/conda/lib/python3.7/site-packages (from requests->torch-geometric) (3.4)\r\n",
      "Requirement already satisfied: urllib3<1.27,>=1.21.1 in /opt/conda/lib/python3.7/site-packages (from requests->torch-geometric) (1.26.14)\r\n",
      "Requirement already satisfied: threadpoolctl>=2.0.0 in /opt/conda/lib/python3.7/site-packages (from scikit-learn->torch-geometric) (3.1.0)\r\n",
      "Requirement already satisfied: joblib>=0.11 in /opt/conda/lib/python3.7/site-packages (from scikit-learn->torch-geometric) (1.2.0)\r\n",
      "Installing collected packages: torch-spline-conv, torch-scatter, torch-cluster, torch-sparse, torch-geometric\r\n",
      "Successfully installed torch-cluster-1.6.0 torch-geometric-2.2.0 torch-scatter-2.1.0 torch-sparse-0.6.16 torch-spline-conv-1.2.1\r\n",
      "\u001b[33mWARNING: Running pip as the 'root' user can result in broken permissions and conflicting behaviour with the system package manager. It is recommended to use a virtual environment instead: https://pip.pypa.io/warnings/venv\u001b[0m\u001b[33m\r\n",
      "\u001b[0m"
     ]
    }
   ],
   "source": [
    "import numpy as np # linear algebra\n",
    "import pandas as pd # data processing, CSV file I/O (e.g. pd.read_csv)\n",
    "import matplotlib.pyplot as plt\n",
    "import torch\n",
    "from torch import nn as nn\n",
    "from torch.nn import MSELoss\n",
    "import torch.nn.functional as F\n",
    "import torchmetrics\n",
    "from torchmetrics import MeanSquaredError,PearsonCorrCoef\n",
    "!pip install torch-scatter torch-sparse torch-cluster torch-spline-conv torch-geometric --no-index --find-links=file:///kaggle/input/torch-geometric\n",
    "from torch_geometric.loader import DataLoader\n",
    "from torch_geometric.data import Data,Dataset\n",
    "from torch_geometric.nn import GCNConv, GATConv,global_mean_pool\n",
    "from torch_geometric.nn.norm import BatchNorm\n",
    "from torch.optim.lr_scheduler import StepLR,ExponentialLR\n",
    "from torchmetrics import R2Score\n",
    "\n",
    "# Input data files are available in the read-only \"../input/\" directory\n",
    "# For example, running this (by clicking run or pressing Shift+Enter) will list all files under the input directory\n",
    "import matplotlib.pyplot as plt\n",
    "import os\n",
    "device=torch.device('cuda' if torch.cuda.is_available() else 'cpu')"
   ]
  },
  {
   "cell_type": "code",
   "execution_count": 2,
   "id": "53192d40",
   "metadata": {
    "execution": {
     "iopub.execute_input": "2023-05-06T23:45:40.688267Z",
     "iopub.status.busy": "2023-05-06T23:45:40.687973Z",
     "iopub.status.idle": "2023-05-06T23:46:04.448880Z",
     "shell.execute_reply": "2023-05-06T23:46:04.447586Z"
    },
    "papermill": {
     "duration": 23.770369,
     "end_time": "2023-05-06T23:46:04.452153",
     "exception": false,
     "start_time": "2023-05-06T23:45:40.681784",
     "status": "completed"
    },
    "tags": []
   },
   "outputs": [],
   "source": [
    "dataset=[]\n",
    "for i in range(0,400):\n",
    "    dataset.append(torch.load(\"/kaggle/input/bapst-data-static-structure-in-glasses/graphs/graph\"+str(i)+\".pt\"))\n",
    "    dataset[i].x=dataset[i].x.type(torch.float32)\n",
    "    dataset[i].edge_attr=dataset[i].edge_attr.type(torch.float32)"
   ]
  },
  {
   "cell_type": "code",
   "execution_count": 3,
   "id": "f4b1ea85",
   "metadata": {
    "execution": {
     "iopub.execute_input": "2023-05-06T23:46:04.466193Z",
     "iopub.status.busy": "2023-05-06T23:46:04.464388Z",
     "iopub.status.idle": "2023-05-06T23:46:04.471736Z",
     "shell.execute_reply": "2023-05-06T23:46:04.470669Z"
    },
    "papermill": {
     "duration": 0.016085,
     "end_time": "2023-05-06T23:46:04.473871",
     "exception": false,
     "start_time": "2023-05-06T23:46:04.457786",
     "status": "completed"
    },
    "tags": []
   },
   "outputs": [],
   "source": [
    "train_loader=DataLoader(dataset[:350],batch_size=20,shuffle=True)\n",
    "test_loader=DataLoader(dataset[350:],batch_size=20,shuffle=True)"
   ]
  },
  {
   "cell_type": "code",
   "execution_count": 4,
   "id": "fc1ba8d5",
   "metadata": {
    "execution": {
     "iopub.execute_input": "2023-05-06T23:46:04.486013Z",
     "iopub.status.busy": "2023-05-06T23:46:04.485087Z",
     "iopub.status.idle": "2023-05-06T23:46:04.492871Z",
     "shell.execute_reply": "2023-05-06T23:46:04.491840Z"
    },
    "papermill": {
     "duration": 0.015897,
     "end_time": "2023-05-06T23:46:04.494989",
     "exception": false,
     "start_time": "2023-05-06T23:46:04.479092",
     "status": "completed"
    },
    "tags": []
   },
   "outputs": [
    {
     "data": {
      "text/plain": [
       "device(type='cuda')"
      ]
     },
     "execution_count": 4,
     "metadata": {},
     "output_type": "execute_result"
    }
   ],
   "source": [
    "device"
   ]
  },
  {
   "cell_type": "code",
   "execution_count": 5,
   "id": "eb332d52",
   "metadata": {
    "execution": {
     "iopub.execute_input": "2023-05-06T23:46:04.507173Z",
     "iopub.status.busy": "2023-05-06T23:46:04.506189Z",
     "iopub.status.idle": "2023-05-06T23:46:04.515679Z",
     "shell.execute_reply": "2023-05-06T23:46:04.514461Z"
    },
    "papermill": {
     "duration": 0.018066,
     "end_time": "2023-05-06T23:46:04.518121",
     "exception": false,
     "start_time": "2023-05-06T23:46:04.500055",
     "status": "completed"
    },
    "tags": []
   },
   "outputs": [
    {
     "data": {
      "text/plain": [
       "Data(x=[4096, 1], edge_index=[2, 167710], edge_attr=[167710, 3], y=[4096, 1], pos=[4096, 3], e_pot=0, pair_pot=0, edge_targets=[167710, 1], delta_r_cage=[4096, 1])"
      ]
     },
     "execution_count": 5,
     "metadata": {},
     "output_type": "execute_result"
    }
   ],
   "source": [
    "dataset[0]"
   ]
  },
  {
   "cell_type": "code",
   "execution_count": 6,
   "id": "7697c5af",
   "metadata": {
    "execution": {
     "iopub.execute_input": "2023-05-06T23:46:04.529780Z",
     "iopub.status.busy": "2023-05-06T23:46:04.529478Z",
     "iopub.status.idle": "2023-05-06T23:46:04.553265Z",
     "shell.execute_reply": "2023-05-06T23:46:04.552005Z"
    },
    "papermill": {
     "duration": 0.032482,
     "end_time": "2023-05-06T23:46:04.555795",
     "exception": false,
     "start_time": "2023-05-06T23:46:04.523313",
     "status": "completed"
    },
    "tags": []
   },
   "outputs": [
    {
     "data": {
      "text/plain": [
       "tensor([[   0,    0,    0,  ..., 4095, 4095, 4095],\n",
       "        [3992,  361, 2985,  ..., 3200,  408,  407]])"
      ]
     },
     "execution_count": 6,
     "metadata": {},
     "output_type": "execute_result"
    }
   ],
   "source": [
    "dataset[0].edge_index"
   ]
  },
  {
   "cell_type": "code",
   "execution_count": 7,
   "id": "23ba5561",
   "metadata": {
    "execution": {
     "iopub.execute_input": "2023-05-06T23:46:04.568295Z",
     "iopub.status.busy": "2023-05-06T23:46:04.567427Z",
     "iopub.status.idle": "2023-05-06T23:46:04.574484Z",
     "shell.execute_reply": "2023-05-06T23:46:04.573344Z"
    },
    "papermill": {
     "duration": 0.016353,
     "end_time": "2023-05-06T23:46:04.577660",
     "exception": false,
     "start_time": "2023-05-06T23:46:04.561307",
     "status": "completed"
    },
    "tags": []
   },
   "outputs": [
    {
     "data": {
      "text/plain": [
       "torch.Size([2, 167710])"
      ]
     },
     "execution_count": 7,
     "metadata": {},
     "output_type": "execute_result"
    }
   ],
   "source": [
    "dataset[0].edge_index.shape"
   ]
  },
  {
   "cell_type": "code",
   "execution_count": 8,
   "id": "ecb9e0e6",
   "metadata": {
    "execution": {
     "iopub.execute_input": "2023-05-06T23:46:04.589644Z",
     "iopub.status.busy": "2023-05-06T23:46:04.589345Z",
     "iopub.status.idle": "2023-05-06T23:46:04.626528Z",
     "shell.execute_reply": "2023-05-06T23:46:04.625339Z"
    },
    "papermill": {
     "duration": 0.045728,
     "end_time": "2023-05-06T23:46:04.628823",
     "exception": false,
     "start_time": "2023-05-06T23:46:04.583095",
     "status": "completed"
    },
    "tags": []
   },
   "outputs": [
    {
     "data": {
      "text/plain": [
       "tensor([[ 0.8492,  0.3198,  0.1136],\n",
       "        [-0.3012,  0.9385,  0.1335],\n",
       "        [-0.6697, -0.6789, -0.2953],\n",
       "        ...,\n",
       "        [ 0.8370,  0.7992, -1.5461],\n",
       "        [ 1.7959,  0.0975,  0.8138],\n",
       "        [ 1.2470, -1.4115, -0.5917]])"
      ]
     },
     "execution_count": 8,
     "metadata": {},
     "output_type": "execute_result"
    }
   ],
   "source": [
    "dataset[0].edge_attr"
   ]
  },
  {
   "cell_type": "code",
   "execution_count": 9,
   "id": "0ac417e1",
   "metadata": {
    "execution": {
     "iopub.execute_input": "2023-05-06T23:46:04.641010Z",
     "iopub.status.busy": "2023-05-06T23:46:04.640712Z",
     "iopub.status.idle": "2023-05-06T23:46:04.647601Z",
     "shell.execute_reply": "2023-05-06T23:46:04.646586Z"
    },
    "papermill": {
     "duration": 0.015721,
     "end_time": "2023-05-06T23:46:04.649951",
     "exception": false,
     "start_time": "2023-05-06T23:46:04.634230",
     "status": "completed"
    },
    "tags": []
   },
   "outputs": [
    {
     "data": {
      "text/plain": [
       "torch.Size([167710, 3])"
      ]
     },
     "execution_count": 9,
     "metadata": {},
     "output_type": "execute_result"
    }
   ],
   "source": [
    "dataset[0].edge_attr.shape"
   ]
  },
  {
   "cell_type": "code",
   "execution_count": 14,
   "id": "aa983780",
   "metadata": {
    "execution": {
     "iopub.execute_input": "2023-05-06T23:46:04.739971Z",
     "iopub.status.busy": "2023-05-06T23:46:04.739697Z",
     "iopub.status.idle": "2023-05-06T23:46:08.384194Z",
     "shell.execute_reply": "2023-05-06T23:46:08.383147Z"
    },
    "papermill": {
     "duration": 3.653844,
     "end_time": "2023-05-06T23:46:08.387380",
     "exception": false,
     "start_time": "2023-05-06T23:46:04.733536",
     "status": "completed"
    },
    "tags": []
   },
   "outputs": [],
   "source": [
    "pearson_correr=PearsonCorrCoef().to(device)\n",
    "r2_scorer=R2Score().to(device)"
   ]
  },
  {
   "cell_type": "code",
   "execution_count": 15,
   "id": "4426e067",
   "metadata": {
    "execution": {
     "iopub.execute_input": "2023-05-06T23:46:08.402246Z",
     "iopub.status.busy": "2023-05-06T23:46:08.401593Z",
     "iopub.status.idle": "2023-05-06T23:46:08.408461Z",
     "shell.execute_reply": "2023-05-06T23:46:08.407419Z"
    },
    "papermill": {
     "duration": 0.016126,
     "end_time": "2023-05-06T23:46:08.410618",
     "exception": false,
     "start_time": "2023-05-06T23:46:08.394492",
     "status": "completed"
    },
    "tags": []
   },
   "outputs": [],
   "source": [
    "def evaluate():\n",
    "    model.eval()\n",
    "    outs=torch.empty(0).to(device)\n",
    "    ys=torch.empty(0).to(device)\n",
    "    for data in test_loader:\n",
    "        data=data.to(device)\n",
    "        out=model(data)\n",
    "        outs=torch.cat((outs,out.flatten()))\n",
    "        ys=torch.cat((ys,data.y.flatten()))\n",
    "        #data.cpu()\n",
    "    pearson=pearson_correr(outs,ys)\n",
    "    r2=r2_scorer(outs,ys)\n",
    "    return pearson.item(),r2.item()"
   ]
  },
  {
   "cell_type": "code",
   "execution_count": 16,
   "id": "fb1ba7b8",
   "metadata": {
    "execution": {
     "iopub.execute_input": "2023-05-06T23:46:08.423001Z",
     "iopub.status.busy": "2023-05-06T23:46:08.422172Z",
     "iopub.status.idle": "2023-05-06T23:46:08.430162Z",
     "shell.execute_reply": "2023-05-06T23:46:08.429280Z"
    },
    "papermill": {
     "duration": 0.01668,
     "end_time": "2023-05-06T23:46:08.432494",
     "exception": false,
     "start_time": "2023-05-06T23:46:08.415814",
     "status": "completed"
    },
    "tags": []
   },
   "outputs": [],
   "source": [
    "class GATCONVModel(torch.nn.Module):\n",
    "    def __init__(self,hidden_dim=6,attention_heads=3,dropout_rate=0.0):\n",
    "        super(GATCONVModel,self).__init__()\n",
    "        torch.manual_seed(46)\n",
    "        self.conv1=GATConv(1,hidden_dim,heads=attention_heads,dropout=dropout_rate,edge_dim=3)\n",
    "        self.conv2=GATConv(hidden_dim*attention_heads,hidden_dim,heads=attention_heads,dropout=dropout_rate,edge_dim=3)\n",
    "        self.lin=nn.Linear(hidden_dim*attention_heads,1)\n",
    "        \n",
    "    def forward(self,data):\n",
    "        x,edge_index,edge_attr=data.x,data.edge_index,data.edge_attr\n",
    "        x=self.conv1(x,edge_index,edge_attr)\n",
    "        x=self.conv2(x,edge_index,edge_attr)\n",
    "        x=self.lin(x)\n",
    "        return x"
   ]
  },
  {
   "cell_type": "code",
   "execution_count": 17,
   "id": "34a2e86a",
   "metadata": {
    "execution": {
     "iopub.execute_input": "2023-05-06T23:46:08.445259Z",
     "iopub.status.busy": "2023-05-06T23:46:08.444987Z",
     "iopub.status.idle": "2023-05-06T23:58:12.578542Z",
     "shell.execute_reply": "2023-05-06T23:58:12.577192Z"
    },
    "papermill": {
     "duration": 724.142952,
     "end_time": "2023-05-06T23:58:12.581280",
     "exception": false,
     "start_time": "2023-05-06T23:46:08.438328",
     "status": "completed"
    },
    "tags": []
   },
   "outputs": [
    {
     "name": "stdout",
     "output_type": "stream",
     "text": [
      "epoch: 1 | loss: 0.2637075372040272  | pearson_corr: -0.10685624927282333  | r2_score: -0.19390666484832764\n",
      "epoch: 2 | loss: 0.11028022774391705  | pearson_corr: -0.0790526419878006  | r2_score: -0.04598236083984375\n",
      "epoch: 3 | loss: 0.09820235561993387  | pearson_corr: -0.023770207539200783  | r2_score: -0.02687835693359375\n",
      "epoch: 4 | loss: 0.09539988802538978  | pearson_corr: 0.12024630606174469  | r2_score: 0.013577103614807129\n",
      "epoch: 5 | loss: 0.09004646953609255  | pearson_corr: 0.30797189474105835  | r2_score: 0.09470337629318237\n",
      "epoch: 6 | loss: 0.08476764129267798  | pearson_corr: 0.34716346859931946  | r2_score: 0.11530625820159912\n",
      "epoch: 7 | loss: 0.08323715875546138  | pearson_corr: 0.3561651408672333  | r2_score: 0.1260831356048584\n",
      "epoch: 8 | loss: 0.08217545226216316  | pearson_corr: 0.3652086555957794  | r2_score: 0.13246065378189087\n",
      "epoch: 9 | loss: 0.08180185159047444  | pearson_corr: 0.3707295358181  | r2_score: 0.1371767520904541\n",
      "epoch: 10 | loss: 0.08181307133701113  | pearson_corr: 0.3747182786464691  | r2_score: 0.139029860496521\n",
      "epoch: 11 | loss: 0.08129083406594065  | pearson_corr: 0.37806686758995056  | r2_score: 0.14264613389968872\n",
      "epoch: 12 | loss: 0.08096858403748936  | pearson_corr: 0.38107070326805115  | r2_score: 0.1449769139289856\n",
      "epoch: 13 | loss: 0.08097055678566296  | pearson_corr: 0.3839971125125885  | r2_score: 0.14674174785614014\n",
      "epoch: 14 | loss: 0.08053122088313103  | pearson_corr: 0.3870943784713745  | r2_score: 0.14976859092712402\n",
      "epoch: 15 | loss: 0.08049602599607573  | pearson_corr: 0.3906398415565491  | r2_score: 0.15173035860061646\n",
      "epoch: 16 | loss: 0.0801923382613394  | pearson_corr: 0.39507368206977844  | r2_score: 0.1558200716972351\n",
      "epoch: 17 | loss: 0.0797880929377344  | pearson_corr: 0.4022754430770874  | r2_score: 0.1611507534980774\n",
      "epoch: 18 | loss: 0.07926242591606246  | pearson_corr: 0.41775214672088623  | r2_score: 0.1717342734336853\n",
      "epoch: 19 | loss: 0.07714817548791568  | pearson_corr: 0.4540414810180664  | r2_score: 0.20315998792648315\n",
      "epoch: 20 | loss: 0.07442713404695193  | pearson_corr: 0.47607383131980896  | r2_score: 0.22619694471359253\n",
      "epoch: 21 | loss: 0.07286830991506577  | pearson_corr: 0.48792004585266113  | r2_score: 0.23659807443618774\n",
      "epoch: 22 | loss: 0.0719848440753089  | pearson_corr: 0.49581414461135864  | r2_score: 0.2388591766357422\n",
      "epoch: 23 | loss: 0.0719941978653272  | pearson_corr: 0.5003560781478882  | r2_score: 0.24903243780136108\n",
      "epoch: 24 | loss: 0.07118978475530942  | pearson_corr: 0.5037018656730652  | r2_score: 0.2515289783477783\n",
      "epoch: 25 | loss: 0.07109278357691234  | pearson_corr: 0.5069682002067566  | r2_score: 0.24613535404205322\n",
      "epoch: 26 | loss: 0.07111183719502555  | pearson_corr: 0.5084826946258545  | r2_score: 0.2536599040031433\n",
      "epoch: 27 | loss: 0.07025028847985798  | pearson_corr: 0.5103382468223572  | r2_score: 0.2529606819152832\n",
      "epoch: 28 | loss: 0.0707369012137254  | pearson_corr: 0.511171817779541  | r2_score: 0.2564982771873474\n",
      "epoch: 29 | loss: 0.0703041520383623  | pearson_corr: 0.5123353004455566  | r2_score: 0.25978732109069824\n",
      "epoch: 30 | loss: 0.07022061116165584  | pearson_corr: 0.5131626725196838  | r2_score: 0.26250243186950684\n",
      "epoch: 31 | loss: 0.07010290668242508  | pearson_corr: 0.5135647654533386  | r2_score: 0.2605518102645874\n",
      "epoch: 32 | loss: 0.07039461967845757  | pearson_corr: 0.5142263174057007  | r2_score: 0.26359546184539795\n",
      "epoch: 33 | loss: 0.07020455474654834  | pearson_corr: 0.5151041150093079  | r2_score: 0.2644602656364441\n",
      "epoch: 34 | loss: 0.07039204488197963  | pearson_corr: 0.5156936645507812  | r2_score: 0.2649849057197571\n",
      "epoch: 35 | loss: 0.0708716826306449  | pearson_corr: 0.5157081484794617  | r2_score: 0.2444828748703003\n",
      "epoch: 36 | loss: 0.07062019697493976  | pearson_corr: 0.5157876014709473  | r2_score: 0.26563143730163574\n",
      "epoch: 37 | loss: 0.06970207724306318  | pearson_corr: 0.5165802836418152  | r2_score: 0.2659839987754822\n",
      "epoch: 38 | loss: 0.06972131629784901  | pearson_corr: 0.5170750021934509  | r2_score: 0.26710444688796997\n",
      "epoch: 39 | loss: 0.07025300980442101  | pearson_corr: 0.5168024301528931  | r2_score: 0.25245678424835205\n",
      "epoch: 40 | loss: 0.07048187942968474  | pearson_corr: 0.5175864696502686  | r2_score: 0.264456570148468\n",
      "epoch: 41 | loss: 0.0698799014919334  | pearson_corr: 0.5182133316993713  | r2_score: 0.264323890209198\n",
      "epoch: 42 | loss: 0.06975857582357195  | pearson_corr: 0.5187504887580872  | r2_score: 0.2677738666534424\n",
      "epoch: 43 | loss: 0.06988099382983314  | pearson_corr: 0.5190612077713013  | r2_score: 0.2661550045013428\n",
      "epoch: 44 | loss: 0.07051567443543011  | pearson_corr: 0.5193561911582947  | r2_score: 0.2690810561180115\n",
      "epoch: 45 | loss: 0.0711340279214912  | pearson_corr: 0.5192663669586182  | r2_score: 0.2687565088272095\n",
      "epoch: 46 | loss: 0.06967360319362746  | pearson_corr: 0.519895076751709  | r2_score: 0.269503653049469\n",
      "epoch: 47 | loss: 0.06957656662497255  | pearson_corr: 0.5204951763153076  | r2_score: 0.2704671621322632\n",
      "epoch: 48 | loss: 0.06965860144959556  | pearson_corr: 0.5206517577171326  | r2_score: 0.2710452079772949\n",
      "epoch: 49 | loss: 0.06928112999432617  | pearson_corr: 0.5215991139411926  | r2_score: 0.2566201686859131\n",
      "epoch: 50 | loss: 0.07038725291689236  | pearson_corr: 0.5217486023902893  | r2_score: 0.25510740280151367\n",
      "epoch: 51 | loss: 0.06953096348378393  | pearson_corr: 0.5222697854042053  | r2_score: 0.2719798684120178\n",
      "epoch: 52 | loss: 0.06970452103349897  | pearson_corr: 0.5226128697395325  | r2_score: 0.264900267124176\n",
      "epoch: 53 | loss: 0.0697163339290354  | pearson_corr: 0.5235405564308167  | r2_score: 0.2731488347053528\n",
      "epoch: 54 | loss: 0.06937009634243117  | pearson_corr: 0.5245489478111267  | r2_score: 0.2738525867462158\n",
      "epoch: 55 | loss: 0.0690067278014289  | pearson_corr: 0.5262213945388794  | r2_score: 0.2674943804740906\n",
      "epoch: 56 | loss: 0.06899925197164218  | pearson_corr: 0.5283509492874146  | r2_score: 0.2753591537475586\n",
      "epoch: 57 | loss: 0.06887718869580163  | pearson_corr: 0.5309076309204102  | r2_score: 0.26600611209869385\n",
      "epoch: 58 | loss: 0.06863051301075353  | pearson_corr: 0.536500871181488  | r2_score: 0.28752487897872925\n",
      "epoch: 59 | loss: 0.06779844355252054  | pearson_corr: 0.5416497588157654  | r2_score: 0.29109489917755127\n",
      "epoch: 60 | loss: 0.06716568457583587  | pearson_corr: 0.54844069480896  | r2_score: 0.3007400631904602\n",
      "epoch: 61 | loss: 0.06700075707501835  | pearson_corr: 0.556209146976471  | r2_score: 0.3030712604522705\n",
      "epoch: 62 | loss: 0.06730651151802805  | pearson_corr: 0.5605423450469971  | r2_score: 0.28901052474975586\n",
      "epoch: 63 | loss: 0.0677699169350995  | pearson_corr: 0.5652416348457336  | r2_score: 0.30873554944992065\n",
      "epoch: 64 | loss: 0.06469468234313859  | pearson_corr: 0.5729964971542358  | r2_score: 0.31345778703689575\n",
      "epoch: 65 | loss: 0.06418287919627295  | pearson_corr: 0.5789575576782227  | r2_score: 0.3314645290374756\n",
      "epoch: 66 | loss: 0.06325196102261543  | pearson_corr: 0.5852280259132385  | r2_score: 0.3260013461112976\n",
      "epoch: 67 | loss: 0.0633706616030799  | pearson_corr: 0.5888953804969788  | r2_score: 0.3462332487106323\n",
      "epoch: 68 | loss: 0.06360929769774278  | pearson_corr: 0.5915751457214355  | r2_score: 0.3455163240432739\n",
      "epoch: 69 | loss: 0.062183726165029735  | pearson_corr: 0.5944449305534363  | r2_score: 0.3524640202522278\n",
      "epoch: 70 | loss: 0.06239862305422624  | pearson_corr: 0.5973073840141296  | r2_score: 0.3429994583129883\n",
      "epoch: 71 | loss: 0.0625134174608522  | pearson_corr: 0.5985103845596313  | r2_score: 0.3571515679359436\n",
      "epoch: 72 | loss: 0.06166133677793874  | pearson_corr: 0.5995756387710571  | r2_score: 0.30681031942367554\n",
      "epoch: 73 | loss: 0.0644205520964331  | pearson_corr: 0.5990238189697266  | r2_score: 0.3091810941696167\n",
      "epoch: 74 | loss: 0.06309149704045719  | pearson_corr: 0.6013547778129578  | r2_score: 0.359977662563324\n",
      "epoch: 75 | loss: 0.0612486493256357  | pearson_corr: 0.6032648682594299  | r2_score: 0.3629791736602783\n",
      "epoch: 76 | loss: 0.061732000360886254  | pearson_corr: 0.6048591732978821  | r2_score: 0.3617643713951111\n",
      "epoch: 77 | loss: 0.06123218167987135  | pearson_corr: 0.606076180934906  | r2_score: 0.3660058379173279\n",
      "epoch: 78 | loss: 0.060520421299669475  | pearson_corr: 0.6077308654785156  | r2_score: 0.3531869053840637\n",
      "epoch: 79 | loss: 0.06110987543231911  | pearson_corr: 0.6087491512298584  | r2_score: 0.3698018789291382\n",
      "epoch: 80 | loss: 0.0609891994131936  | pearson_corr: 0.610112190246582  | r2_score: 0.330181360244751\n",
      "epoch: 81 | loss: 0.06064203174577819  | pearson_corr: 0.6110885739326477  | r2_score: 0.3629038333892822\n",
      "epoch: 82 | loss: 0.06024748562938637  | pearson_corr: 0.612576425075531  | r2_score: 0.3559422492980957\n",
      "epoch: 83 | loss: 0.06373495753440592  | pearson_corr: 0.6133894920349121  | r2_score: 0.35837048292160034\n",
      "epoch: 84 | loss: 0.061932827863428325  | pearson_corr: 0.6148228645324707  | r2_score: 0.3680102229118347\n",
      "epoch: 85 | loss: 0.060571002256539136  | pearson_corr: 0.617307722568512  | r2_score: 0.3465879559516907\n",
      "epoch: 86 | loss: 0.06097541728781329  | pearson_corr: 0.619473934173584  | r2_score: 0.2975965142250061\n",
      "epoch: 87 | loss: 0.062368282220429845  | pearson_corr: 0.6218637228012085  | r2_score: 0.3462766408920288\n",
      "epoch: 88 | loss: 0.06303100846707821  | pearson_corr: 0.6217094659805298  | r2_score: 0.3592032790184021\n",
      "epoch: 89 | loss: 0.061131143321593605  | pearson_corr: 0.6227055191993713  | r2_score: 0.3778610825538635\n",
      "epoch: 90 | loss: 0.05989933655493789  | pearson_corr: 0.6246683597564697  | r2_score: 0.3868481516838074\n",
      "epoch: 91 | loss: 0.059946791579325996  | pearson_corr: 0.6262871623039246  | r2_score: 0.38893306255340576\n",
      "epoch: 92 | loss: 0.05973600327140755  | pearson_corr: 0.627049446105957  | r2_score: 0.3860745429992676\n",
      "epoch: 93 | loss: 0.05912524565226502  | pearson_corr: 0.6286893486976624  | r2_score: 0.3836324214935303\n",
      "epoch: 94 | loss: 0.05933817455338107  | pearson_corr: 0.6303259134292603  | r2_score: 0.3861771821975708\n",
      "epoch: 95 | loss: 0.05889916585551368  | pearson_corr: 0.6313198804855347  | r2_score: 0.3901989459991455\n",
      "epoch: 96 | loss: 0.05914945941832331  | pearson_corr: 0.6324891448020935  | r2_score: 0.394670307636261\n",
      "epoch: 97 | loss: 0.057908982038497925  | pearson_corr: 0.6337586045265198  | r2_score: 0.39859580993652344\n",
      "epoch: 98 | loss: 0.057310103335314326  | pearson_corr: 0.6355621814727783  | r2_score: 0.3993780016899109\n",
      "epoch: 99 | loss: 0.05743876927428775  | pearson_corr: 0.636502742767334  | r2_score: 0.4039064049720764\n",
      "epoch: 100 | loss: 0.05798298948340946  | pearson_corr: 0.6376352906227112  | r2_score: 0.39713966846466064\n",
      "epoch: 101 | loss: 0.05895703141060141  | pearson_corr: 0.638358473777771  | r2_score: 0.40444380044937134\n",
      "epoch: 102 | loss: 0.059329637636741005  | pearson_corr: 0.6402031779289246  | r2_score: 0.38719189167022705\n",
      "epoch: 103 | loss: 0.05767544296880563  | pearson_corr: 0.6412946581840515  | r2_score: 0.40989214181900024\n",
      "epoch: 104 | loss: 0.0560912202215857  | pearson_corr: 0.6433610916137695  | r2_score: 0.37385112047195435\n",
      "epoch: 105 | loss: 0.05723060708906916  | pearson_corr: 0.6452973484992981  | r2_score: 0.3689037561416626\n",
      "epoch: 106 | loss: 0.05667773178882069  | pearson_corr: 0.6471951603889465  | r2_score: 0.4181678295135498\n",
      "epoch: 107 | loss: 0.05562014732923773  | pearson_corr: 0.6496099829673767  | r2_score: 0.4211235046386719\n",
      "epoch: 108 | loss: 0.05560424530671702  | pearson_corr: 0.6515263319015503  | r2_score: 0.41031157970428467\n",
      "epoch: 109 | loss: 0.05599194475346141  | pearson_corr: 0.6523452997207642  | r2_score: 0.42068690061569214\n",
      "epoch: 110 | loss: 0.05747707457178169  | pearson_corr: 0.652540385723114  | r2_score: 0.412539005279541\n",
      "epoch: 111 | loss: 0.0554796593884627  | pearson_corr: 0.6535987854003906  | r2_score: 0.4180808663368225\n",
      "epoch: 112 | loss: 0.05575765772826142  | pearson_corr: 0.6538816094398499  | r2_score: 0.41796690225601196\n",
      "epoch: 113 | loss: 0.05548378390570482  | pearson_corr: 0.6542125940322876  | r2_score: 0.4277970790863037\n",
      "epoch: 114 | loss: 0.05505350728829702  | pearson_corr: 0.6546764969825745  | r2_score: 0.4017968773841858\n",
      "epoch: 115 | loss: 0.05537997558712959  | pearson_corr: 0.6547517776489258  | r2_score: 0.42827820777893066\n",
      "epoch: 116 | loss: 0.055594033665127225  | pearson_corr: 0.6545968651771545  | r2_score: 0.4152600169181824\n",
      "epoch: 117 | loss: 0.054903686253560915  | pearson_corr: 0.6550387740135193  | r2_score: 0.4273577332496643\n",
      "epoch: 118 | loss: 0.056538952928450376  | pearson_corr: 0.6554929614067078  | r2_score: 0.4124569296836853\n",
      "epoch: 119 | loss: 0.05646661524143484  | pearson_corr: 0.6541076302528381  | r2_score: 0.4250902533531189\n",
      "epoch: 120 | loss: 0.054825534837113485  | pearson_corr: 0.6554068922996521  | r2_score: 0.4187315106391907\n",
      "epoch: 121 | loss: 0.05583211945162879  | pearson_corr: 0.6548365950584412  | r2_score: 0.40682119131088257\n",
      "epoch: 122 | loss: 0.055485745064086385  | pearson_corr: 0.655601978302002  | r2_score: 0.42776745557785034\n",
      "epoch: 123 | loss: 0.05440934437016646  | pearson_corr: 0.6556121110916138  | r2_score: 0.4287759065628052\n",
      "epoch: 124 | loss: 0.05466700655718645  | pearson_corr: 0.6557849645614624  | r2_score: 0.4218723773956299\n",
      "epoch: 125 | loss: 0.054963892325758934  | pearson_corr: 0.6558092832565308  | r2_score: 0.4267929196357727\n",
      "epoch: 126 | loss: 0.054690678500466876  | pearson_corr: 0.6558303833007812  | r2_score: 0.43004661798477173\n",
      "epoch: 127 | loss: 0.05438135378062725  | pearson_corr: 0.6562970280647278  | r2_score: 0.3996143341064453\n",
      "epoch: 128 | loss: 0.05515223969188002  | pearson_corr: 0.6557562351226807  | r2_score: 0.4299941658973694\n",
      "epoch: 129 | loss: 0.05460713141494327  | pearson_corr: 0.6560747027397156  | r2_score: 0.4211348295211792\n",
      "epoch: 130 | loss: 0.05609741765591833  | pearson_corr: 0.6562932729721069  | r2_score: 0.4228341579437256\n",
      "epoch: 131 | loss: 0.054825342156820826  | pearson_corr: 0.6559001803398132  | r2_score: 0.4259047508239746\n",
      "epoch: 132 | loss: 0.054521051752898425  | pearson_corr: 0.6563320159912109  | r2_score: 0.4303237199783325\n",
      "epoch: 133 | loss: 0.05472572768727938  | pearson_corr: 0.6560932397842407  | r2_score: 0.42448943853378296\n",
      "epoch: 134 | loss: 0.05506018487115701  | pearson_corr: 0.6565937399864197  | r2_score: 0.417529821395874\n",
      "epoch: 135 | loss: 0.0557364479949077  | pearson_corr: 0.6562825441360474  | r2_score: 0.4299899935722351\n",
      "epoch: 136 | loss: 0.05521546262833807  | pearson_corr: 0.6559632420539856  | r2_score: 0.4296295642852783\n",
      "epoch: 137 | loss: 0.0543260992401176  | pearson_corr: 0.656377911567688  | r2_score: 0.430359423160553\n",
      "epoch: 138 | loss: 0.0546211681018273  | pearson_corr: 0.6564105749130249  | r2_score: 0.43074649572372437\n",
      "epoch: 139 | loss: 0.05450109226836099  | pearson_corr: 0.6565651297569275  | r2_score: 0.4290887117385864\n",
      "epoch: 140 | loss: 0.05537928765018781  | pearson_corr: 0.656660258769989  | r2_score: 0.41929763555526733\n",
      "epoch: 141 | loss: 0.0547874609215392  | pearson_corr: 0.6566022038459778  | r2_score: 0.4298771023750305\n",
      "epoch: 142 | loss: 0.054655724929438695  | pearson_corr: 0.6566087007522583  | r2_score: 0.43075841665267944\n",
      "epoch: 143 | loss: 0.05485985200438234  | pearson_corr: 0.6562680602073669  | r2_score: 0.38036805391311646\n",
      "epoch: 144 | loss: 0.056102192857199244  | pearson_corr: 0.656539261341095  | r2_score: 0.4293808937072754\n",
      "epoch: 145 | loss: 0.05407573965688547  | pearson_corr: 0.6568738222122192  | r2_score: 0.42144107818603516\n",
      "epoch: 146 | loss: 0.05611413758662012  | pearson_corr: 0.6561330556869507  | r2_score: 0.4301005005836487\n",
      "epoch: 147 | loss: 0.05505504541926914  | pearson_corr: 0.6563814878463745  | r2_score: 0.42992866039276123\n",
      "epoch: 148 | loss: 0.054659232704175845  | pearson_corr: 0.6568066477775574  | r2_score: 0.42672520875930786\n",
      "epoch: 149 | loss: 0.054317142400476665  | pearson_corr: 0.6567173004150391  | r2_score: 0.42619985342025757\n"
     ]
    }
   ],
   "source": [
    "loss_fn=MSELoss()\n",
    "model=GATCONVModel().to(device)\n",
    "optimizer=torch.optim.Adam(model.parameters(),lr=0.01,weight_decay=5e-6)\n",
    "scheduler = StepLR(optimizer,step_size=60, gamma=0.1)\n",
    "train_losses=[]\n",
    "test_losses=[]\n",
    "for epoch in range(150):\n",
    "    if epoch%1==0 and epoch!=0:\n",
    "        print(\"epoch:\",epoch,\"| loss:\",train_losses[-1],\" | pearson_corr:\",evaluate()[0],\" | r2_score:\",evaluate()[1])\n",
    "    batch_losses=[]\n",
    "    model.train()\n",
    "    for data in train_loader:\n",
    "        data=data.to(device)\n",
    "        optimizer.zero_grad()\n",
    "        out=model(data)\n",
    "        loss=loss_fn(out,data.y)\n",
    "        loss.backward()\n",
    "        optimizer.step()\n",
    "        batch_losses.append(loss.item())\n",
    "    train_losses.append(np.mean(batch_losses))\n",
    "    \n",
    "    model.eval()\n",
    "    batch_losses=[]\n",
    "    for data in test_loader:\n",
    "        data=data.to(device)\n",
    "        out=model(data)\n",
    "        loss=loss_fn(out,data.y)\n",
    "        batch_losses.append(loss.item())\n",
    "    test_losses.append(np.mean(batch_losses))"
   ]
  },
  {
   "cell_type": "code",
   "execution_count": 18,
   "id": "c25b54a1",
   "metadata": {
    "execution": {
     "iopub.execute_input": "2023-05-06T23:58:12.609230Z",
     "iopub.status.busy": "2023-05-06T23:58:12.608881Z",
     "iopub.status.idle": "2023-05-06T23:58:12.848217Z",
     "shell.execute_reply": "2023-05-06T23:58:12.847263Z"
    },
    "papermill": {
     "duration": 0.255571,
     "end_time": "2023-05-06T23:58:12.850509",
     "exception": false,
     "start_time": "2023-05-06T23:58:12.594938",
     "status": "completed"
    },
    "tags": []
   },
   "outputs": [
    {
     "data": {
      "image/png": "[encoded data removed]",
      "text/plain": [
       "<Figure size 640x480 with 1 Axes>"
      ]
     },
     "metadata": {},
     "output_type": "display_data"
    }
   ],
   "source": [
    "plt.plot(train_losses,color='blue')\n",
    "plt.plot(test_losses,color='red')\n",
    "plt.legend([\"training loss\",\"validation loss\"])\n",
    "plt.show()"
   ]
  }
 ],
 "metadata": {
  "kernelspec": {
   "display_name": "Python 3",
   "language": "python",
   "name": "python3"
  },
  "language_info": {
   "codemirror_mode": {
    "name": "ipython",
    "version": 3
   },
   "file_extension": ".py",
   "mimetype": "text/x-python",
   "name": "python",
   "nbconvert_exporter": "python",
   "pygments_lexer": "ipython3",
   "version": "3.7.12"
  },
  "papermill": {
   "default_parameters": {},
   "duration": 783.299078,
   "end_time": "2023-05-06T23:58:15.211037",
   "environment_variables": {},
   "exception": null,
   "input_path": "__notebook__.ipynb",
   "output_path": "__notebook__.ipynb",
   "parameters": {},
   "start_time": "2023-05-06T23:45:11.911959",
   "version": "2.4.0"
  }
 },
 "nbformat": 4,
 "nbformat_minor": 5
}
